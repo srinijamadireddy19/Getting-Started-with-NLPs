{
 "cells": [
  {
   "cell_type": "code",
   "execution_count": 1,
   "id": "cd5e45c5",
   "metadata": {
    "execution": {
     "iopub.execute_input": "2025-10-27T13:56:11.541710Z",
     "iopub.status.busy": "2025-10-27T13:56:11.541492Z",
     "iopub.status.idle": "2025-10-27T14:01:34.079270Z",
     "shell.execute_reply": "2025-10-27T14:01:34.078465Z"
    },
    "papermill": {
     "duration": 322.546706,
     "end_time": "2025-10-27T14:01:34.082261",
     "exception": false,
     "start_time": "2025-10-27T13:56:11.535555",
     "status": "completed"
    },
    "tags": []
   },
   "outputs": [
    {
     "name": "stdout",
     "output_type": "stream",
     "text": [
      "--2025-10-27 13:56:11--  http://nlp.stanford.edu/data/glove.twitter.27B.zip\r\n",
      "Resolving nlp.stanford.edu (nlp.stanford.edu)... 171.64.67.140\r\n",
      "Connecting to nlp.stanford.edu (nlp.stanford.edu)|171.64.67.140|:80... connected.\r\n",
      "HTTP request sent, awaiting response... 302 Found\r\n",
      "Location: https://nlp.stanford.edu/data/glove.twitter.27B.zip [following]\r\n",
      "--2025-10-27 13:56:11--  https://nlp.stanford.edu/data/glove.twitter.27B.zip\r\n",
      "Connecting to nlp.stanford.edu (nlp.stanford.edu)|171.64.67.140|:443... connected.\r\n",
      "HTTP request sent, awaiting response... 301 Moved Permanently\r\n",
      "Location: https://downloads.cs.stanford.edu/nlp/data/glove.twitter.27B.zip [following]\r\n",
      "--2025-10-27 13:56:11--  https://downloads.cs.stanford.edu/nlp/data/glove.twitter.27B.zip\r\n",
      "Resolving downloads.cs.stanford.edu (downloads.cs.stanford.edu)... 171.64.64.22\r\n",
      "Connecting to downloads.cs.stanford.edu (downloads.cs.stanford.edu)|171.64.64.22|:443... connected.\r\n",
      "HTTP request sent, awaiting response... 200 OK\r\n",
      "Length: 1520408563 (1.4G) [application/zip]\r\n",
      "Saving to: ‘glove.twitter.27B.zip’\r\n",
      "\r\n",
      "glove.twitter.27B.z 100%[===================>]   1.42G  5.09MB/s    in 4m 46s  \r\n",
      "\r\n",
      "2025-10-27 14:00:58 (5.06 MB/s) - ‘glove.twitter.27B.zip’ saved [1520408563/1520408563]\r\n",
      "\r\n",
      "Archive:  glove.twitter.27B.zip\r\n",
      "  inflating: glove.twitter.27B.25d.txt  \r\n",
      "  inflating: glove.twitter.27B.50d.txt  \r\n",
      "  inflating: glove.twitter.27B.100d.txt  \r\n",
      "  inflating: glove.twitter.27B.200d.txt  \r\n"
     ]
    }
   ],
   "source": [
    "!wget http://nlp.stanford.edu/data/glove.twitter.27B.zip\n",
    "!unzip glove.twitter.27B.zip"
   ]
  },
  {
   "cell_type": "code",
   "execution_count": 2,
   "id": "f8f5dd35",
   "metadata": {
    "execution": {
     "iopub.execute_input": "2025-10-27T14:01:34.202751Z",
     "iopub.status.busy": "2025-10-27T14:01:34.202478Z",
     "iopub.status.idle": "2025-10-27T14:01:35.810823Z",
     "shell.execute_reply": "2025-10-27T14:01:35.809967Z"
    },
    "papermill": {
     "duration": 1.669548,
     "end_time": "2025-10-27T14:01:35.812309",
     "exception": false,
     "start_time": "2025-10-27T14:01:34.142761",
     "status": "completed"
    },
    "tags": []
   },
   "outputs": [],
   "source": [
    "import numpy as np # linear algebra\n",
    "import pandas as pd \n",
    "import re"
   ]
  },
  {
   "cell_type": "code",
   "execution_count": 3,
   "id": "69d4bb2a",
   "metadata": {
    "execution": {
     "iopub.execute_input": "2025-10-27T14:01:36.041683Z",
     "iopub.status.busy": "2025-10-27T14:01:36.041151Z",
     "iopub.status.idle": "2025-10-27T14:01:36.245814Z",
     "shell.execute_reply": "2025-10-27T14:01:36.244914Z"
    },
    "papermill": {
     "duration": 0.375379,
     "end_time": "2025-10-27T14:01:36.247288",
     "exception": false,
     "start_time": "2025-10-27T14:01:35.871909",
     "status": "completed"
    },
    "tags": []
   },
   "outputs": [],
   "source": [
    "train_df = pd.read_csv(\"/kaggle/input/nlp-getting-started/train.csv\")\n",
    "test_df = pd.read_csv(\"/kaggle/input/nlp-getting-started/test.csv\")"
   ]
  },
  {
   "cell_type": "code",
   "execution_count": 4,
   "id": "768a0ff0",
   "metadata": {
    "execution": {
     "iopub.execute_input": "2025-10-27T14:01:36.380717Z",
     "iopub.status.busy": "2025-10-27T14:01:36.380041Z",
     "iopub.status.idle": "2025-10-27T14:01:36.420398Z",
     "shell.execute_reply": "2025-10-27T14:01:36.419628Z"
    },
    "papermill": {
     "duration": 0.106435,
     "end_time": "2025-10-27T14:01:36.421640",
     "exception": false,
     "start_time": "2025-10-27T14:01:36.315205",
     "status": "completed"
    },
    "tags": []
   },
   "outputs": [
    {
     "data": {
      "text/html": [
       "<div>\n",
       "<style scoped>\n",
       "    .dataframe tbody tr th:only-of-type {\n",
       "        vertical-align: middle;\n",
       "    }\n",
       "\n",
       "    .dataframe tbody tr th {\n",
       "        vertical-align: top;\n",
       "    }\n",
       "\n",
       "    .dataframe thead th {\n",
       "        text-align: right;\n",
       "    }\n",
       "</style>\n",
       "<table border=\"1\" class=\"dataframe\">\n",
       "  <thead>\n",
       "    <tr style=\"text-align: right;\">\n",
       "      <th></th>\n",
       "      <th>id</th>\n",
       "      <th>keyword</th>\n",
       "      <th>location</th>\n",
       "      <th>text</th>\n",
       "      <th>target</th>\n",
       "    </tr>\n",
       "  </thead>\n",
       "  <tbody>\n",
       "    <tr>\n",
       "      <th>0</th>\n",
       "      <td>1</td>\n",
       "      <td>NaN</td>\n",
       "      <td>NaN</td>\n",
       "      <td>Our Deeds are the Reason of this #earthquake M...</td>\n",
       "      <td>1</td>\n",
       "    </tr>\n",
       "    <tr>\n",
       "      <th>1</th>\n",
       "      <td>4</td>\n",
       "      <td>NaN</td>\n",
       "      <td>NaN</td>\n",
       "      <td>Forest fire near La Ronge Sask. Canada</td>\n",
       "      <td>1</td>\n",
       "    </tr>\n",
       "    <tr>\n",
       "      <th>2</th>\n",
       "      <td>5</td>\n",
       "      <td>NaN</td>\n",
       "      <td>NaN</td>\n",
       "      <td>All residents asked to 'shelter in place' are ...</td>\n",
       "      <td>1</td>\n",
       "    </tr>\n",
       "    <tr>\n",
       "      <th>3</th>\n",
       "      <td>6</td>\n",
       "      <td>NaN</td>\n",
       "      <td>NaN</td>\n",
       "      <td>13,000 people receive #wildfires evacuation or...</td>\n",
       "      <td>1</td>\n",
       "    </tr>\n",
       "    <tr>\n",
       "      <th>4</th>\n",
       "      <td>7</td>\n",
       "      <td>NaN</td>\n",
       "      <td>NaN</td>\n",
       "      <td>Just got sent this photo from Ruby #Alaska as ...</td>\n",
       "      <td>1</td>\n",
       "    </tr>\n",
       "  </tbody>\n",
       "</table>\n",
       "</div>"
      ],
      "text/plain": [
       "   id keyword location                                               text  \\\n",
       "0   1     NaN      NaN  Our Deeds are the Reason of this #earthquake M...   \n",
       "1   4     NaN      NaN             Forest fire near La Ronge Sask. Canada   \n",
       "2   5     NaN      NaN  All residents asked to 'shelter in place' are ...   \n",
       "3   6     NaN      NaN  13,000 people receive #wildfires evacuation or...   \n",
       "4   7     NaN      NaN  Just got sent this photo from Ruby #Alaska as ...   \n",
       "\n",
       "   target  \n",
       "0       1  \n",
       "1       1  \n",
       "2       1  \n",
       "3       1  \n",
       "4       1  "
      ]
     },
     "execution_count": 4,
     "metadata": {},
     "output_type": "execute_result"
    }
   ],
   "source": [
    "train_df.head()"
   ]
  },
  {
   "cell_type": "code",
   "execution_count": 5,
   "id": "414c8697",
   "metadata": {
    "execution": {
     "iopub.execute_input": "2025-10-27T14:01:36.551833Z",
     "iopub.status.busy": "2025-10-27T14:01:36.550729Z",
     "iopub.status.idle": "2025-10-27T14:01:36.615914Z",
     "shell.execute_reply": "2025-10-27T14:01:36.615116Z"
    },
    "papermill": {
     "duration": 0.130696,
     "end_time": "2025-10-27T14:01:36.617042",
     "exception": false,
     "start_time": "2025-10-27T14:01:36.486346",
     "status": "completed"
    },
    "tags": []
   },
   "outputs": [
    {
     "name": "stdout",
     "output_type": "stream",
     "text": [
      "Non Disaster Tweet Count :  4342\n",
      "Disaster Tweet Count :  3271\n"
     ]
    }
   ],
   "source": [
    "print(\"Non Disaster Tweet Count : \",train_df[train_df['target'] == 0]['text'].shape[0])\n",
    "print(\"Disaster Tweet Count : \",train_df[train_df['target'] == 1]['text'].shape[0])"
   ]
  },
  {
   "cell_type": "code",
   "execution_count": 6,
   "id": "a7deb95e",
   "metadata": {
    "execution": {
     "iopub.execute_input": "2025-10-27T14:01:36.735001Z",
     "iopub.status.busy": "2025-10-27T14:01:36.734791Z",
     "iopub.status.idle": "2025-10-27T14:01:36.748398Z",
     "shell.execute_reply": "2025-10-27T14:01:36.747738Z"
    },
    "papermill": {
     "duration": 0.074082,
     "end_time": "2025-10-27T14:01:36.749623",
     "exception": false,
     "start_time": "2025-10-27T14:01:36.675541",
     "status": "completed"
    },
    "tags": []
   },
   "outputs": [
    {
     "data": {
      "text/html": [
       "<div>\n",
       "<style scoped>\n",
       "    .dataframe tbody tr th:only-of-type {\n",
       "        vertical-align: middle;\n",
       "    }\n",
       "\n",
       "    .dataframe tbody tr th {\n",
       "        vertical-align: top;\n",
       "    }\n",
       "\n",
       "    .dataframe thead th {\n",
       "        text-align: right;\n",
       "    }\n",
       "</style>\n",
       "<table border=\"1\" class=\"dataframe\">\n",
       "  <thead>\n",
       "    <tr style=\"text-align: right;\">\n",
       "      <th></th>\n",
       "      <th>target</th>\n",
       "      <th>text</th>\n",
       "    </tr>\n",
       "  </thead>\n",
       "  <tbody>\n",
       "    <tr>\n",
       "      <th>0</th>\n",
       "      <td>0</td>\n",
       "      <td>4342</td>\n",
       "    </tr>\n",
       "    <tr>\n",
       "      <th>1</th>\n",
       "      <td>1</td>\n",
       "      <td>3271</td>\n",
       "    </tr>\n",
       "  </tbody>\n",
       "</table>\n",
       "</div>"
      ],
      "text/plain": [
       "   target  text\n",
       "0       0  4342\n",
       "1       1  3271"
      ]
     },
     "execution_count": 6,
     "metadata": {},
     "output_type": "execute_result"
    }
   ],
   "source": [
    "train_df.groupby('target').count()['text'].reset_index()"
   ]
  },
  {
   "cell_type": "code",
   "execution_count": 7,
   "id": "9afabdf3",
   "metadata": {
    "execution": {
     "iopub.execute_input": "2025-10-27T14:01:36.881117Z",
     "iopub.status.busy": "2025-10-27T14:01:36.880685Z",
     "iopub.status.idle": "2025-10-27T14:01:36.893684Z",
     "shell.execute_reply": "2025-10-27T14:01:36.893085Z"
    },
    "papermill": {
     "duration": 0.079459,
     "end_time": "2025-10-27T14:01:36.894776",
     "exception": false,
     "start_time": "2025-10-27T14:01:36.815317",
     "status": "completed"
    },
    "tags": []
   },
   "outputs": [],
   "source": [
    "train_df['word_count'] = train_df['text'].apply(lambda x: len(str(x).split()))"
   ]
  },
  {
   "cell_type": "code",
   "execution_count": 8,
   "id": "5d820a14",
   "metadata": {
    "execution": {
     "iopub.execute_input": "2025-10-27T14:01:37.014689Z",
     "iopub.status.busy": "2025-10-27T14:01:37.014224Z",
     "iopub.status.idle": "2025-10-27T14:01:37.028441Z",
     "shell.execute_reply": "2025-10-27T14:01:37.027927Z"
    },
    "papermill": {
     "duration": 0.07497,
     "end_time": "2025-10-27T14:01:37.029512",
     "exception": false,
     "start_time": "2025-10-27T14:01:36.954542",
     "status": "completed"
    },
    "tags": []
   },
   "outputs": [
    {
     "data": {
      "text/html": [
       "<div>\n",
       "<style scoped>\n",
       "    .dataframe tbody tr th:only-of-type {\n",
       "        vertical-align: middle;\n",
       "    }\n",
       "\n",
       "    .dataframe tbody tr th {\n",
       "        vertical-align: top;\n",
       "    }\n",
       "\n",
       "    .dataframe thead th {\n",
       "        text-align: right;\n",
       "    }\n",
       "</style>\n",
       "<table border=\"1\" class=\"dataframe\">\n",
       "  <thead>\n",
       "    <tr style=\"text-align: right;\">\n",
       "      <th></th>\n",
       "      <th>text</th>\n",
       "      <th>word_count</th>\n",
       "    </tr>\n",
       "  </thead>\n",
       "  <tbody>\n",
       "    <tr>\n",
       "      <th>0</th>\n",
       "      <td>Our Deeds are the Reason of this #earthquake M...</td>\n",
       "      <td>13</td>\n",
       "    </tr>\n",
       "    <tr>\n",
       "      <th>1</th>\n",
       "      <td>Forest fire near La Ronge Sask. Canada</td>\n",
       "      <td>7</td>\n",
       "    </tr>\n",
       "    <tr>\n",
       "      <th>2</th>\n",
       "      <td>All residents asked to 'shelter in place' are ...</td>\n",
       "      <td>22</td>\n",
       "    </tr>\n",
       "    <tr>\n",
       "      <th>3</th>\n",
       "      <td>13,000 people receive #wildfires evacuation or...</td>\n",
       "      <td>8</td>\n",
       "    </tr>\n",
       "    <tr>\n",
       "      <th>4</th>\n",
       "      <td>Just got sent this photo from Ruby #Alaska as ...</td>\n",
       "      <td>16</td>\n",
       "    </tr>\n",
       "  </tbody>\n",
       "</table>\n",
       "</div>"
      ],
      "text/plain": [
       "                                                text  word_count\n",
       "0  Our Deeds are the Reason of this #earthquake M...          13\n",
       "1             Forest fire near La Ronge Sask. Canada           7\n",
       "2  All residents asked to 'shelter in place' are ...          22\n",
       "3  13,000 people receive #wildfires evacuation or...           8\n",
       "4  Just got sent this photo from Ruby #Alaska as ...          16"
      ]
     },
     "execution_count": 8,
     "metadata": {},
     "output_type": "execute_result"
    }
   ],
   "source": [
    "train_df.loc[:,['text','word_count']].head()"
   ]
  },
  {
   "cell_type": "code",
   "execution_count": 9,
   "id": "3a33a4dc",
   "metadata": {
    "execution": {
     "iopub.execute_input": "2025-10-27T14:01:37.155521Z",
     "iopub.status.busy": "2025-10-27T14:01:37.155260Z",
     "iopub.status.idle": "2025-10-27T14:01:37.159644Z",
     "shell.execute_reply": "2025-10-27T14:01:37.158888Z"
    },
    "papermill": {
     "duration": 0.069768,
     "end_time": "2025-10-27T14:01:37.161301",
     "exception": false,
     "start_time": "2025-10-27T14:01:37.091533",
     "status": "completed"
    },
    "tags": []
   },
   "outputs": [],
   "source": [
    "def clean_text(text):\n",
    "    # Remove URLs\n",
    "    text = re.sub(r'http\\S+|www\\S+|https\\S+', '', text)\n",
    "    text = re.sub(r'[^a-zA-Z0-9@\\#\\s]', '', text)\n",
    "    # Remove special characters and numbers\n",
    "    text = re.sub(r'[^a-zA-Z\\s]', '', text)\n",
    "    # Convert to lowercase\n",
    "    text = text.lower()\n",
    "    # Remove extra whitespace\n",
    "    text = ' '.join(text.split())\n",
    "    return text"
   ]
  },
  {
   "cell_type": "code",
   "execution_count": 10,
   "id": "271d64d0",
   "metadata": {
    "execution": {
     "iopub.execute_input": "2025-10-27T14:01:37.278625Z",
     "iopub.status.busy": "2025-10-27T14:01:37.278357Z",
     "iopub.status.idle": "2025-10-27T14:01:37.339313Z",
     "shell.execute_reply": "2025-10-27T14:01:37.338614Z"
    },
    "papermill": {
     "duration": 0.121779,
     "end_time": "2025-10-27T14:01:37.340875",
     "exception": false,
     "start_time": "2025-10-27T14:01:37.219096",
     "status": "completed"
    },
    "tags": []
   },
   "outputs": [],
   "source": [
    "train_df['modified_text'] = train_df['text'].apply(clean_text)"
   ]
  },
  {
   "cell_type": "code",
   "execution_count": 11,
   "id": "c5e8afab",
   "metadata": {
    "execution": {
     "iopub.execute_input": "2025-10-27T14:01:37.460602Z",
     "iopub.status.busy": "2025-10-27T14:01:37.460340Z",
     "iopub.status.idle": "2025-10-27T14:01:37.490225Z",
     "shell.execute_reply": "2025-10-27T14:01:37.489603Z"
    },
    "papermill": {
     "duration": 0.090479,
     "end_time": "2025-10-27T14:01:37.491383",
     "exception": false,
     "start_time": "2025-10-27T14:01:37.400904",
     "status": "completed"
    },
    "tags": []
   },
   "outputs": [],
   "source": [
    "test_df['modified_text'] = test_df['text'].apply(clean_text)"
   ]
  },
  {
   "cell_type": "code",
   "execution_count": 12,
   "id": "2c3c5d7f",
   "metadata": {
    "execution": {
     "iopub.execute_input": "2025-10-27T14:01:37.609111Z",
     "iopub.status.busy": "2025-10-27T14:01:37.608865Z",
     "iopub.status.idle": "2025-10-27T14:01:37.613969Z",
     "shell.execute_reply": "2025-10-27T14:01:37.613460Z"
    },
    "papermill": {
     "duration": 0.066923,
     "end_time": "2025-10-27T14:01:37.615004",
     "exception": false,
     "start_time": "2025-10-27T14:01:37.548081",
     "status": "completed"
    },
    "tags": []
   },
   "outputs": [
    {
     "data": {
      "text/plain": [
       "31"
      ]
     },
     "execution_count": 12,
     "metadata": {},
     "output_type": "execute_result"
    }
   ],
   "source": [
    "max(train_df['word_count'])"
   ]
  },
  {
   "cell_type": "code",
   "execution_count": 13,
   "id": "c16ca7ab",
   "metadata": {
    "execution": {
     "iopub.execute_input": "2025-10-27T14:01:37.732698Z",
     "iopub.status.busy": "2025-10-27T14:01:37.732480Z",
     "iopub.status.idle": "2025-10-27T14:01:37.740652Z",
     "shell.execute_reply": "2025-10-27T14:01:37.739949Z"
    },
    "papermill": {
     "duration": 0.06856,
     "end_time": "2025-10-27T14:01:37.741715",
     "exception": false,
     "start_time": "2025-10-27T14:01:37.673155",
     "status": "completed"
    },
    "tags": []
   },
   "outputs": [
    {
     "data": {
      "text/plain": [
       "target\n",
       "0    0.57034\n",
       "1    0.42966\n",
       "Name: proportion, dtype: float64"
      ]
     },
     "execution_count": 13,
     "metadata": {},
     "output_type": "execute_result"
    }
   ],
   "source": [
    "train_df['target'].value_counts(normalize=True)"
   ]
  },
  {
   "cell_type": "code",
   "execution_count": 14,
   "id": "0b79221a",
   "metadata": {
    "execution": {
     "iopub.execute_input": "2025-10-27T14:01:37.868188Z",
     "iopub.status.busy": "2025-10-27T14:01:37.867971Z",
     "iopub.status.idle": "2025-10-27T14:01:52.005232Z",
     "shell.execute_reply": "2025-10-27T14:01:52.004357Z"
    },
    "papermill": {
     "duration": 14.197751,
     "end_time": "2025-10-27T14:01:52.006611",
     "exception": false,
     "start_time": "2025-10-27T14:01:37.808860",
     "status": "completed"
    },
    "tags": []
   },
   "outputs": [
    {
     "name": "stderr",
     "output_type": "stream",
     "text": [
      "2025-10-27 14:01:39.972720: E external/local_xla/xla/stream_executor/cuda/cuda_fft.cc:477] Unable to register cuFFT factory: Attempting to register factory for plugin cuFFT when one has already been registered\n",
      "WARNING: All log messages before absl::InitializeLog() is called are written to STDERR\n",
      "E0000 00:00:1761573700.318836      19 cuda_dnn.cc:8310] Unable to register cuDNN factory: Attempting to register factory for plugin cuDNN when one has already been registered\n",
      "E0000 00:00:1761573700.373664      19 cuda_blas.cc:1418] Unable to register cuBLAS factory: Attempting to register factory for plugin cuBLAS when one has already been registered\n"
     ]
    }
   ],
   "source": [
    "from tensorflow.keras.preprocessing.text import Tokenizer\n",
    "from tensorflow.keras.preprocessing.sequence import pad_sequences\n",
    "from tensorflow.keras.models import Sequential\n",
    "from tensorflow.keras.layers import LSTM, Dropout, Embedding, Dense, Bidirectional\n",
    "from tensorflow.keras.callbacks import EarlyStopping\n",
    "\n",
    "from sklearn.model_selection import train_test_split\n",
    "from sklearn.metrics import f1_score"
   ]
  },
  {
   "cell_type": "code",
   "execution_count": 15,
   "id": "f9040242",
   "metadata": {
    "execution": {
     "iopub.execute_input": "2025-10-27T14:01:52.123361Z",
     "iopub.status.busy": "2025-10-27T14:01:52.122923Z",
     "iopub.status.idle": "2025-10-27T14:01:52.139384Z",
     "shell.execute_reply": "2025-10-27T14:01:52.138772Z"
    },
    "papermill": {
     "duration": 0.07689,
     "end_time": "2025-10-27T14:01:52.140481",
     "exception": false,
     "start_time": "2025-10-27T14:01:52.063591",
     "status": "completed"
    },
    "tags": []
   },
   "outputs": [
    {
     "data": {
      "text/plain": [
       "count    7613.000000\n",
       "mean       14.903586\n",
       "std         5.732604\n",
       "min         1.000000\n",
       "25%        11.000000\n",
       "50%        15.000000\n",
       "75%        19.000000\n",
       "max        31.000000\n",
       "Name: word_count, dtype: float64"
      ]
     },
     "execution_count": 15,
     "metadata": {},
     "output_type": "execute_result"
    }
   ],
   "source": [
    "train_df['word_count'].describe()"
   ]
  },
  {
   "cell_type": "code",
   "execution_count": 16,
   "id": "3569b48c",
   "metadata": {
    "execution": {
     "iopub.execute_input": "2025-10-27T14:01:52.254304Z",
     "iopub.status.busy": "2025-10-27T14:01:52.253732Z",
     "iopub.status.idle": "2025-10-27T14:01:52.257139Z",
     "shell.execute_reply": "2025-10-27T14:01:52.256446Z"
    },
    "papermill": {
     "duration": 0.061207,
     "end_time": "2025-10-27T14:01:52.258187",
     "exception": false,
     "start_time": "2025-10-27T14:01:52.196980",
     "status": "completed"
    },
    "tags": []
   },
   "outputs": [],
   "source": [
    "max_words = 20000\n",
    "max_len = 50\n",
    "EMBEDDING_DIM = 100"
   ]
  },
  {
   "cell_type": "code",
   "execution_count": null,
   "id": "dcee7762",
   "metadata": {
    "papermill": {
     "duration": 0.056687,
     "end_time": "2025-10-27T14:01:52.371332",
     "exception": false,
     "start_time": "2025-10-27T14:01:52.314645",
     "status": "completed"
    },
    "tags": []
   },
   "outputs": [],
   "source": []
  },
  {
   "cell_type": "code",
   "execution_count": 17,
   "id": "10fc8e05",
   "metadata": {
    "execution": {
     "iopub.execute_input": "2025-10-27T14:01:52.489520Z",
     "iopub.status.busy": "2025-10-27T14:01:52.488774Z",
     "iopub.status.idle": "2025-10-27T14:01:52.601927Z",
     "shell.execute_reply": "2025-10-27T14:01:52.601073Z"
    },
    "papermill": {
     "duration": 0.17237,
     "end_time": "2025-10-27T14:01:52.603159",
     "exception": false,
     "start_time": "2025-10-27T14:01:52.430789",
     "status": "completed"
    },
    "tags": []
   },
   "outputs": [],
   "source": [
    "tokenizer = Tokenizer(\n",
    "    num_words = max_words\n",
    ")\n",
    "\n",
    "tokenizer.fit_on_texts(train_df['modified_text'])"
   ]
  },
  {
   "cell_type": "code",
   "execution_count": 18,
   "id": "cfcf3e44",
   "metadata": {
    "execution": {
     "iopub.execute_input": "2025-10-27T14:01:52.718635Z",
     "iopub.status.busy": "2025-10-27T14:01:52.718354Z",
     "iopub.status.idle": "2025-10-27T14:01:52.820374Z",
     "shell.execute_reply": "2025-10-27T14:01:52.819626Z"
    },
    "papermill": {
     "duration": 0.160751,
     "end_time": "2025-10-27T14:01:52.821761",
     "exception": false,
     "start_time": "2025-10-27T14:01:52.661010",
     "status": "completed"
    },
    "tags": []
   },
   "outputs": [],
   "source": [
    "X_train = tokenizer.texts_to_sequences(train_df['modified_text'])\n",
    "X_test = tokenizer.texts_to_sequences(test_df['modified_text'])"
   ]
  },
  {
   "cell_type": "code",
   "execution_count": 19,
   "id": "7728b1de",
   "metadata": {
    "execution": {
     "iopub.execute_input": "2025-10-27T14:01:52.935085Z",
     "iopub.status.busy": "2025-10-27T14:01:52.934856Z",
     "iopub.status.idle": "2025-10-27T14:01:52.962937Z",
     "shell.execute_reply": "2025-10-27T14:01:52.962196Z"
    },
    "papermill": {
     "duration": 0.085913,
     "end_time": "2025-10-27T14:01:52.964052",
     "exception": false,
     "start_time": "2025-10-27T14:01:52.878139",
     "status": "completed"
    },
    "tags": []
   },
   "outputs": [],
   "source": [
    "X_train = pad_sequences(\n",
    "    X_train,\n",
    "    maxlen = max_len,\n",
    "    padding = 'post'\n",
    ")\n",
    "\n",
    "X_test = pad_sequences(\n",
    "    X_test,\n",
    "    maxlen = max_len,\n",
    "    padding = 'post'\n",
    ")\n"
   ]
  },
  {
   "cell_type": "code",
   "execution_count": 20,
   "id": "4688f4c7",
   "metadata": {
    "execution": {
     "iopub.execute_input": "2025-10-27T14:01:53.077218Z",
     "iopub.status.busy": "2025-10-27T14:01:53.076680Z",
     "iopub.status.idle": "2025-10-27T14:02:19.890209Z",
     "shell.execute_reply": "2025-10-27T14:02:19.889454Z"
    },
    "papermill": {
     "duration": 26.87165,
     "end_time": "2025-10-27T14:02:19.891351",
     "exception": false,
     "start_time": "2025-10-27T14:01:53.019701",
     "status": "completed"
    },
    "tags": []
   },
   "outputs": [
    {
     "name": "stdout",
     "output_type": "stream",
     "text": [
      "Loaded 1193514 word vectors.\n"
     ]
    }
   ],
   "source": [
    "embeddings_index = {}\n",
    "\n",
    "with open(\"/kaggle/working/glove.twitter.27B.100d.txt\", encoding='utf8') as f:\n",
    "    for line in f:\n",
    "        values = line.split()\n",
    "        word = values[0]\n",
    "        coefs = np.asarray(values[1:], dtype='float32')\n",
    "        embeddings_index[word] = coefs\n",
    "\n",
    "print(f\"Loaded {len(embeddings_index)} word vectors.\")"
   ]
  },
  {
   "cell_type": "code",
   "execution_count": 21,
   "id": "24c1b839",
   "metadata": {
    "execution": {
     "iopub.execute_input": "2025-10-27T14:02:20.006179Z",
     "iopub.status.busy": "2025-10-27T14:02:20.005937Z",
     "iopub.status.idle": "2025-10-27T14:02:20.043301Z",
     "shell.execute_reply": "2025-10-27T14:02:20.042768Z"
    },
    "papermill": {
     "duration": 0.09587,
     "end_time": "2025-10-27T14:02:20.044379",
     "exception": false,
     "start_time": "2025-10-27T14:02:19.948509",
     "status": "completed"
    },
    "tags": []
   },
   "outputs": [],
   "source": [
    "word_index = tokenizer.word_index\n",
    "embedding_matrix = np.zeros((max_words, EMBEDDING_DIM))\n",
    "\n",
    "for word, i in word_index.items():\n",
    "    if i < max_words:\n",
    "        embedding_vector = embeddings_index.get(word)\n",
    "        if embedding_vector is not None:\n",
    "            embedding_matrix[i] = embedding_vector\n"
   ]
  },
  {
   "cell_type": "code",
   "execution_count": 22,
   "id": "641a0538",
   "metadata": {
    "execution": {
     "iopub.execute_input": "2025-10-27T14:02:20.160983Z",
     "iopub.status.busy": "2025-10-27T14:02:20.160746Z",
     "iopub.status.idle": "2025-10-27T14:02:20.164070Z",
     "shell.execute_reply": "2025-10-27T14:02:20.163458Z"
    },
    "papermill": {
     "duration": 0.063651,
     "end_time": "2025-10-27T14:02:20.165185",
     "exception": false,
     "start_time": "2025-10-27T14:02:20.101534",
     "status": "completed"
    },
    "tags": []
   },
   "outputs": [],
   "source": [
    "Y_train = train_df['target']"
   ]
  },
  {
   "cell_type": "code",
   "execution_count": 23,
   "id": "7a1f15b5",
   "metadata": {
    "execution": {
     "iopub.execute_input": "2025-10-27T14:02:20.278822Z",
     "iopub.status.busy": "2025-10-27T14:02:20.278613Z",
     "iopub.status.idle": "2025-10-27T14:02:20.282640Z",
     "shell.execute_reply": "2025-10-27T14:02:20.281839Z"
    },
    "papermill": {
     "duration": 0.061736,
     "end_time": "2025-10-27T14:02:20.283697",
     "exception": false,
     "start_time": "2025-10-27T14:02:20.221961",
     "status": "completed"
    },
    "tags": []
   },
   "outputs": [
    {
     "name": "stdout",
     "output_type": "stream",
     "text": [
      "X_train shape: (7613, 50)\n",
      "X_test shape: (3263, 50)\n",
      "Vocabulary size: 16894\n"
     ]
    }
   ],
   "source": [
    "print(f\"X_train shape: {X_train.shape}\")\n",
    "print(f\"X_test shape: {X_test.shape}\")\n",
    "print(f\"Vocabulary size: {len(tokenizer.word_index)}\")"
   ]
  },
  {
   "cell_type": "code",
   "execution_count": 24,
   "id": "3ddcde60",
   "metadata": {
    "execution": {
     "iopub.execute_input": "2025-10-27T14:02:20.397083Z",
     "iopub.status.busy": "2025-10-27T14:02:20.396860Z",
     "iopub.status.idle": "2025-10-27T14:02:22.425794Z",
     "shell.execute_reply": "2025-10-27T14:02:22.424895Z"
    },
    "papermill": {
     "duration": 2.087007,
     "end_time": "2025-10-27T14:02:22.427140",
     "exception": false,
     "start_time": "2025-10-27T14:02:20.340133",
     "status": "completed"
    },
    "tags": []
   },
   "outputs": [
    {
     "name": "stderr",
     "output_type": "stream",
     "text": [
      "/usr/local/lib/python3.11/dist-packages/keras/src/layers/core/embedding.py:90: UserWarning: Argument `input_length` is deprecated. Just remove it.\n",
      "  warnings.warn(\n",
      "I0000 00:00:1761573741.193817      19 gpu_device.cc:2022] Created device /job:localhost/replica:0/task:0/device:GPU:0 with 13942 MB memory:  -> device: 0, name: Tesla T4, pci bus id: 0000:00:04.0, compute capability: 7.5\n",
      "I0000 00:00:1761573741.194551      19 gpu_device.cc:2022] Created device /job:localhost/replica:0/task:0/device:GPU:1 with 13942 MB memory:  -> device: 1, name: Tesla T4, pci bus id: 0000:00:05.0, compute capability: 7.5\n"
     ]
    }
   ],
   "source": [
    "model = Sequential([\n",
    "    Embedding(\n",
    "        input_dim=max_words,\n",
    "        output_dim=EMBEDDING_DIM,\n",
    "        weights=[embedding_matrix],\n",
    "        input_length=max_len,\n",
    "        trainable=True\n",
    "    ),\n",
    "    Bidirectional(LSTM(64, dropout=0.2, recurrent_dropout=0.2)),\n",
    "    Dense(32, activation = 'relu'),\n",
    "    Dropout(0.5),\n",
    "    Dense(1, activation = 'sigmoid')\n",
    "])"
   ]
  },
  {
   "cell_type": "code",
   "execution_count": 25,
   "id": "8cd159ce",
   "metadata": {
    "execution": {
     "iopub.execute_input": "2025-10-27T14:02:22.545058Z",
     "iopub.status.busy": "2025-10-27T14:02:22.544765Z",
     "iopub.status.idle": "2025-10-27T14:02:22.561671Z",
     "shell.execute_reply": "2025-10-27T14:02:22.560918Z"
    },
    "papermill": {
     "duration": 0.075977,
     "end_time": "2025-10-27T14:02:22.562837",
     "exception": false,
     "start_time": "2025-10-27T14:02:22.486860",
     "status": "completed"
    },
    "tags": []
   },
   "outputs": [],
   "source": [
    "model.compile(\n",
    "    optimizer = 'adam',\n",
    "    loss = 'binary_crossentropy',\n",
    "    metrics = ['accuracy']\n",
    ")"
   ]
  },
  {
   "cell_type": "code",
   "execution_count": 26,
   "id": "5c275b15",
   "metadata": {
    "execution": {
     "iopub.execute_input": "2025-10-27T14:02:22.679092Z",
     "iopub.status.busy": "2025-10-27T14:02:22.678853Z",
     "iopub.status.idle": "2025-10-27T14:02:22.685078Z",
     "shell.execute_reply": "2025-10-27T14:02:22.684139Z"
    },
    "papermill": {
     "duration": 0.065665,
     "end_time": "2025-10-27T14:02:22.686269",
     "exception": false,
     "start_time": "2025-10-27T14:02:22.620604",
     "status": "completed"
    },
    "tags": []
   },
   "outputs": [],
   "source": [
    "X_train_split, X_val, y_train_split, y_val = train_test_split(\n",
    "    X_train, Y_train, test_size=0.2, random_state=42\n",
    ")"
   ]
  },
  {
   "cell_type": "code",
   "execution_count": 27,
   "id": "11c983d1",
   "metadata": {
    "execution": {
     "iopub.execute_input": "2025-10-27T14:02:22.885802Z",
     "iopub.status.busy": "2025-10-27T14:02:22.885515Z",
     "iopub.status.idle": "2025-10-27T14:02:22.889156Z",
     "shell.execute_reply": "2025-10-27T14:02:22.888458Z"
    },
    "papermill": {
     "duration": 0.146273,
     "end_time": "2025-10-27T14:02:22.890230",
     "exception": false,
     "start_time": "2025-10-27T14:02:22.743957",
     "status": "completed"
    },
    "tags": []
   },
   "outputs": [],
   "source": [
    "early_stopping = EarlyStopping(\n",
    "    monitor='val_loss',\n",
    "    patience=3,\n",
    "    restore_best_weights=True,\n",
    "    verbose=1\n",
    ")"
   ]
  },
  {
   "cell_type": "code",
   "execution_count": 28,
   "id": "477a42c8",
   "metadata": {
    "execution": {
     "iopub.execute_input": "2025-10-27T14:02:23.006133Z",
     "iopub.status.busy": "2025-10-27T14:02:23.005752Z",
     "iopub.status.idle": "2025-10-27T14:04:14.011877Z",
     "shell.execute_reply": "2025-10-27T14:04:14.011299Z"
    },
    "papermill": {
     "duration": 111.065456,
     "end_time": "2025-10-27T14:04:14.013016",
     "exception": false,
     "start_time": "2025-10-27T14:02:22.947560",
     "status": "completed"
    },
    "tags": []
   },
   "outputs": [
    {
     "name": "stdout",
     "output_type": "stream",
     "text": [
      "Epoch 1/10\n",
      "\u001b[1m96/96\u001b[0m \u001b[32m━━━━━━━━━━━━━━━━━━━━\u001b[0m\u001b[37m\u001b[0m \u001b[1m33s\u001b[0m 216ms/step - accuracy: 0.6773 - loss: 0.6096 - val_accuracy: 0.8155 - val_loss: 0.4309\n",
      "Epoch 2/10\n",
      "\u001b[1m96/96\u001b[0m \u001b[32m━━━━━━━━━━━━━━━━━━━━\u001b[0m\u001b[37m\u001b[0m \u001b[1m19s\u001b[0m 202ms/step - accuracy: 0.8064 - loss: 0.4513 - val_accuracy: 0.8207 - val_loss: 0.4114\n",
      "Epoch 3/10\n",
      "\u001b[1m96/96\u001b[0m \u001b[32m━━━━━━━━━━━━━━━━━━━━\u001b[0m\u001b[37m\u001b[0m \u001b[1m19s\u001b[0m 203ms/step - accuracy: 0.8347 - loss: 0.3951 - val_accuracy: 0.8247 - val_loss: 0.4151\n",
      "Epoch 4/10\n",
      "\u001b[1m96/96\u001b[0m \u001b[32m━━━━━━━━━━━━━━━━━━━━\u001b[0m\u001b[37m\u001b[0m \u001b[1m19s\u001b[0m 202ms/step - accuracy: 0.8569 - loss: 0.3458 - val_accuracy: 0.8280 - val_loss: 0.4127\n",
      "Epoch 5/10\n",
      "\u001b[1m96/96\u001b[0m \u001b[32m━━━━━━━━━━━━━━━━━━━━\u001b[0m\u001b[37m\u001b[0m \u001b[1m20s\u001b[0m 203ms/step - accuracy: 0.8847 - loss: 0.2871 - val_accuracy: 0.8116 - val_loss: 0.4462\n",
      "Epoch 5: early stopping\n",
      "Restoring model weights from the end of the best epoch: 2.\n"
     ]
    }
   ],
   "source": [
    "history = model.fit(\n",
    "    X_train_split, y_train_split,\n",
    "    validation_data=(X_val, y_val),\n",
    "    epochs=10,\n",
    "    batch_size=64,\n",
    "    callbacks=[early_stopping],\n",
    "    verbose=1\n",
    ")"
   ]
  },
  {
   "cell_type": "code",
   "execution_count": 29,
   "id": "d0ae8151",
   "metadata": {
    "execution": {
     "iopub.execute_input": "2025-10-27T14:04:14.169945Z",
     "iopub.status.busy": "2025-10-27T14:04:14.169699Z",
     "iopub.status.idle": "2025-10-27T14:04:20.231732Z",
     "shell.execute_reply": "2025-10-27T14:04:20.231084Z"
    },
    "papermill": {
     "duration": 6.142164,
     "end_time": "2025-10-27T14:04:20.232824",
     "exception": false,
     "start_time": "2025-10-27T14:04:14.090660",
     "status": "completed"
    },
    "tags": []
   },
   "outputs": [
    {
     "name": "stdout",
     "output_type": "stream",
     "text": [
      "\u001b[1m102/102\u001b[0m \u001b[32m━━━━━━━━━━━━━━━━━━━━\u001b[0m\u001b[37m\u001b[0m \u001b[1m6s\u001b[0m 48ms/step\n"
     ]
    }
   ],
   "source": [
    "predd = model.predict(X_test)"
   ]
  },
  {
   "cell_type": "code",
   "execution_count": 30,
   "id": "33fc174b",
   "metadata": {
    "execution": {
     "iopub.execute_input": "2025-10-27T14:04:20.394380Z",
     "iopub.status.busy": "2025-10-27T14:04:20.394105Z",
     "iopub.status.idle": "2025-10-27T14:04:20.398685Z",
     "shell.execute_reply": "2025-10-27T14:04:20.397809Z"
    },
    "papermill": {
     "duration": 0.086475,
     "end_time": "2025-10-27T14:04:20.399854",
     "exception": false,
     "start_time": "2025-10-27T14:04:20.313379",
     "status": "completed"
    },
    "tags": []
   },
   "outputs": [
    {
     "name": "stdout",
     "output_type": "stream",
     "text": [
      "16894\n"
     ]
    }
   ],
   "source": [
    "print(len(tokenizer.word_index))\n"
   ]
  },
  {
   "cell_type": "code",
   "execution_count": 31,
   "id": "8c715d43",
   "metadata": {
    "execution": {
     "iopub.execute_input": "2025-10-27T14:04:20.558889Z",
     "iopub.status.busy": "2025-10-27T14:04:20.558618Z",
     "iopub.status.idle": "2025-10-27T14:04:20.562449Z",
     "shell.execute_reply": "2025-10-27T14:04:20.561909Z"
    },
    "papermill": {
     "duration": 0.08417,
     "end_time": "2025-10-27T14:04:20.563489",
     "exception": false,
     "start_time": "2025-10-27T14:04:20.479319",
     "status": "completed"
    },
    "tags": []
   },
   "outputs": [],
   "source": [
    "pred = (predd > 0.5).astype(int).ravel()"
   ]
  },
  {
   "cell_type": "code",
   "execution_count": 32,
   "id": "cd601df9",
   "metadata": {
    "execution": {
     "iopub.execute_input": "2025-10-27T14:04:20.722082Z",
     "iopub.status.busy": "2025-10-27T14:04:20.721832Z",
     "iopub.status.idle": "2025-10-27T14:04:20.732471Z",
     "shell.execute_reply": "2025-10-27T14:04:20.731890Z"
    },
    "papermill": {
     "duration": 0.091516,
     "end_time": "2025-10-27T14:04:20.733585",
     "exception": false,
     "start_time": "2025-10-27T14:04:20.642069",
     "status": "completed"
    },
    "tags": []
   },
   "outputs": [],
   "source": [
    "submission = pd.DataFrame({\n",
    "    'id': test_df['id'],\n",
    "    'target': pred.ravel()\n",
    "})\n",
    "\n",
    "submission.to_csv('submission.csv', index=False)"
   ]
  }
 ],
 "metadata": {
  "kaggle": {
   "accelerator": "nvidiaTeslaT4",
   "dataSources": [
    {
     "databundleVersionId": 869809,
     "sourceId": 17777,
     "sourceType": "competition"
    }
   ],
   "dockerImageVersionId": 31153,
   "isGpuEnabled": true,
   "isInternetEnabled": true,
   "language": "python",
   "sourceType": "notebook"
  },
  "kernelspec": {
   "display_name": "Python 3",
   "language": "python",
   "name": "python3"
  },
  "language_info": {
   "codemirror_mode": {
    "name": "ipython",
    "version": 3
   },
   "file_extension": ".py",
   "mimetype": "text/x-python",
   "name": "python",
   "nbconvert_exporter": "python",
   "pygments_lexer": "ipython3",
   "version": "3.11.13"
  },
  "papermill": {
   "default_parameters": {},
   "duration": 496.045677,
   "end_time": "2025-10-27T14:04:24.205721",
   "environment_variables": {},
   "exception": null,
   "input_path": "__notebook__.ipynb",
   "output_path": "__notebook__.ipynb",
   "parameters": {},
   "start_time": "2025-10-27T13:56:08.160044",
   "version": "2.6.0"
  }
 },
 "nbformat": 4,
 "nbformat_minor": 5
}
