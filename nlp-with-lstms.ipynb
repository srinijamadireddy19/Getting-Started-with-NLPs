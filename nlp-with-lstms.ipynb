{
 "cells": [
  {
   "cell_type": "code",
   "execution_count": 1,
   "id": "b793ad4c",
   "metadata": {
    "execution": {
     "iopub.execute_input": "2025-10-23T13:06:54.871050Z",
     "iopub.status.busy": "2025-10-23T13:06:54.870277Z",
     "iopub.status.idle": "2025-10-23T13:06:56.361814Z",
     "shell.execute_reply": "2025-10-23T13:06:56.361215Z"
    },
    "papermill": {
     "duration": 1.498632,
     "end_time": "2025-10-23T13:06:56.363166",
     "exception": false,
     "start_time": "2025-10-23T13:06:54.864534",
     "status": "completed"
    },
    "tags": []
   },
   "outputs": [],
   "source": [
    "import numpy as np # linear algebra\n",
    "import pandas as pd \n",
    "import re"
   ]
  },
  {
   "cell_type": "code",
   "execution_count": 2,
   "id": "9e7c32c2",
   "metadata": {
    "execution": {
     "iopub.execute_input": "2025-10-23T13:06:56.371543Z",
     "iopub.status.busy": "2025-10-23T13:06:56.371238Z",
     "iopub.status.idle": "2025-10-23T13:06:56.441481Z",
     "shell.execute_reply": "2025-10-23T13:06:56.440888Z"
    },
    "papermill": {
     "duration": 0.075704,
     "end_time": "2025-10-23T13:06:56.442786",
     "exception": false,
     "start_time": "2025-10-23T13:06:56.367082",
     "status": "completed"
    },
    "tags": []
   },
   "outputs": [],
   "source": [
    "train_df = pd.read_csv(\"/kaggle/input/nlp-getting-started/train.csv\")\n",
    "test_df = pd.read_csv(\"/kaggle/input/nlp-getting-started/test.csv\")"
   ]
  },
  {
   "cell_type": "code",
   "execution_count": 3,
   "id": "10a24b58",
   "metadata": {
    "execution": {
     "iopub.execute_input": "2025-10-23T13:06:56.451050Z",
     "iopub.status.busy": "2025-10-23T13:06:56.450675Z",
     "iopub.status.idle": "2025-10-23T13:06:56.470235Z",
     "shell.execute_reply": "2025-10-23T13:06:56.469488Z"
    },
    "papermill": {
     "duration": 0.02483,
     "end_time": "2025-10-23T13:06:56.471503",
     "exception": false,
     "start_time": "2025-10-23T13:06:56.446673",
     "status": "completed"
    },
    "tags": []
   },
   "outputs": [
    {
     "data": {
      "text/html": [
       "<div>\n",
       "<style scoped>\n",
       "    .dataframe tbody tr th:only-of-type {\n",
       "        vertical-align: middle;\n",
       "    }\n",
       "\n",
       "    .dataframe tbody tr th {\n",
       "        vertical-align: top;\n",
       "    }\n",
       "\n",
       "    .dataframe thead th {\n",
       "        text-align: right;\n",
       "    }\n",
       "</style>\n",
       "<table border=\"1\" class=\"dataframe\">\n",
       "  <thead>\n",
       "    <tr style=\"text-align: right;\">\n",
       "      <th></th>\n",
       "      <th>id</th>\n",
       "      <th>keyword</th>\n",
       "      <th>location</th>\n",
       "      <th>text</th>\n",
       "      <th>target</th>\n",
       "    </tr>\n",
       "  </thead>\n",
       "  <tbody>\n",
       "    <tr>\n",
       "      <th>0</th>\n",
       "      <td>1</td>\n",
       "      <td>NaN</td>\n",
       "      <td>NaN</td>\n",
       "      <td>Our Deeds are the Reason of this #earthquake M...</td>\n",
       "      <td>1</td>\n",
       "    </tr>\n",
       "    <tr>\n",
       "      <th>1</th>\n",
       "      <td>4</td>\n",
       "      <td>NaN</td>\n",
       "      <td>NaN</td>\n",
       "      <td>Forest fire near La Ronge Sask. Canada</td>\n",
       "      <td>1</td>\n",
       "    </tr>\n",
       "    <tr>\n",
       "      <th>2</th>\n",
       "      <td>5</td>\n",
       "      <td>NaN</td>\n",
       "      <td>NaN</td>\n",
       "      <td>All residents asked to 'shelter in place' are ...</td>\n",
       "      <td>1</td>\n",
       "    </tr>\n",
       "    <tr>\n",
       "      <th>3</th>\n",
       "      <td>6</td>\n",
       "      <td>NaN</td>\n",
       "      <td>NaN</td>\n",
       "      <td>13,000 people receive #wildfires evacuation or...</td>\n",
       "      <td>1</td>\n",
       "    </tr>\n",
       "    <tr>\n",
       "      <th>4</th>\n",
       "      <td>7</td>\n",
       "      <td>NaN</td>\n",
       "      <td>NaN</td>\n",
       "      <td>Just got sent this photo from Ruby #Alaska as ...</td>\n",
       "      <td>1</td>\n",
       "    </tr>\n",
       "  </tbody>\n",
       "</table>\n",
       "</div>"
      ],
      "text/plain": [
       "   id keyword location                                               text  \\\n",
       "0   1     NaN      NaN  Our Deeds are the Reason of this #earthquake M...   \n",
       "1   4     NaN      NaN             Forest fire near La Ronge Sask. Canada   \n",
       "2   5     NaN      NaN  All residents asked to 'shelter in place' are ...   \n",
       "3   6     NaN      NaN  13,000 people receive #wildfires evacuation or...   \n",
       "4   7     NaN      NaN  Just got sent this photo from Ruby #Alaska as ...   \n",
       "\n",
       "   target  \n",
       "0       1  \n",
       "1       1  \n",
       "2       1  \n",
       "3       1  \n",
       "4       1  "
      ]
     },
     "execution_count": 3,
     "metadata": {},
     "output_type": "execute_result"
    }
   ],
   "source": [
    "train_df.head()"
   ]
  },
  {
   "cell_type": "code",
   "execution_count": 4,
   "id": "106a3168",
   "metadata": {
    "execution": {
     "iopub.execute_input": "2025-10-23T13:06:56.480423Z",
     "iopub.status.busy": "2025-10-23T13:06:56.480202Z",
     "iopub.status.idle": "2025-10-23T13:06:56.492328Z",
     "shell.execute_reply": "2025-10-23T13:06:56.491525Z"
    },
    "papermill": {
     "duration": 0.017887,
     "end_time": "2025-10-23T13:06:56.493528",
     "exception": false,
     "start_time": "2025-10-23T13:06:56.475641",
     "status": "completed"
    },
    "tags": []
   },
   "outputs": [
    {
     "name": "stdout",
     "output_type": "stream",
     "text": [
      "Non Disaster Tweet Count :  4342\n",
      "Disaster Tweet Count :  3271\n"
     ]
    }
   ],
   "source": [
    "print(\"Non Disaster Tweet Count : \",train_df[train_df['target'] == 0]['text'].shape[0])\n",
    "print(\"Disaster Tweet Count : \",train_df[train_df['target'] == 1]['text'].shape[0])"
   ]
  },
  {
   "cell_type": "code",
   "execution_count": 5,
   "id": "c552f6ce",
   "metadata": {
    "execution": {
     "iopub.execute_input": "2025-10-23T13:06:56.502540Z",
     "iopub.status.busy": "2025-10-23T13:06:56.502326Z",
     "iopub.status.idle": "2025-10-23T13:06:56.516572Z",
     "shell.execute_reply": "2025-10-23T13:06:56.515978Z"
    },
    "papermill": {
     "duration": 0.019977,
     "end_time": "2025-10-23T13:06:56.517672",
     "exception": false,
     "start_time": "2025-10-23T13:06:56.497695",
     "status": "completed"
    },
    "tags": []
   },
   "outputs": [
    {
     "data": {
      "text/html": [
       "<div>\n",
       "<style scoped>\n",
       "    .dataframe tbody tr th:only-of-type {\n",
       "        vertical-align: middle;\n",
       "    }\n",
       "\n",
       "    .dataframe tbody tr th {\n",
       "        vertical-align: top;\n",
       "    }\n",
       "\n",
       "    .dataframe thead th {\n",
       "        text-align: right;\n",
       "    }\n",
       "</style>\n",
       "<table border=\"1\" class=\"dataframe\">\n",
       "  <thead>\n",
       "    <tr style=\"text-align: right;\">\n",
       "      <th></th>\n",
       "      <th>target</th>\n",
       "      <th>text</th>\n",
       "    </tr>\n",
       "  </thead>\n",
       "  <tbody>\n",
       "    <tr>\n",
       "      <th>0</th>\n",
       "      <td>0</td>\n",
       "      <td>4342</td>\n",
       "    </tr>\n",
       "    <tr>\n",
       "      <th>1</th>\n",
       "      <td>1</td>\n",
       "      <td>3271</td>\n",
       "    </tr>\n",
       "  </tbody>\n",
       "</table>\n",
       "</div>"
      ],
      "text/plain": [
       "   target  text\n",
       "0       0  4342\n",
       "1       1  3271"
      ]
     },
     "execution_count": 5,
     "metadata": {},
     "output_type": "execute_result"
    }
   ],
   "source": [
    "train_df.groupby('target').count()['text'].reset_index()"
   ]
  },
  {
   "cell_type": "code",
   "execution_count": 6,
   "id": "dc261cbf",
   "metadata": {
    "execution": {
     "iopub.execute_input": "2025-10-23T13:06:56.525897Z",
     "iopub.status.busy": "2025-10-23T13:06:56.525690Z",
     "iopub.status.idle": "2025-10-23T13:06:56.538594Z",
     "shell.execute_reply": "2025-10-23T13:06:56.537880Z"
    },
    "papermill": {
     "duration": 0.018159,
     "end_time": "2025-10-23T13:06:56.539628",
     "exception": false,
     "start_time": "2025-10-23T13:06:56.521469",
     "status": "completed"
    },
    "tags": []
   },
   "outputs": [],
   "source": [
    "train_df['word_count'] = train_df['text'].apply(lambda x: len(str(x).split()))"
   ]
  },
  {
   "cell_type": "code",
   "execution_count": 7,
   "id": "3c6d6a09",
   "metadata": {
    "execution": {
     "iopub.execute_input": "2025-10-23T13:06:56.547763Z",
     "iopub.status.busy": "2025-10-23T13:06:56.547564Z",
     "iopub.status.idle": "2025-10-23T13:06:56.557206Z",
     "shell.execute_reply": "2025-10-23T13:06:56.556404Z"
    },
    "papermill": {
     "duration": 0.015102,
     "end_time": "2025-10-23T13:06:56.558495",
     "exception": false,
     "start_time": "2025-10-23T13:06:56.543393",
     "status": "completed"
    },
    "tags": []
   },
   "outputs": [
    {
     "data": {
      "text/html": [
       "<div>\n",
       "<style scoped>\n",
       "    .dataframe tbody tr th:only-of-type {\n",
       "        vertical-align: middle;\n",
       "    }\n",
       "\n",
       "    .dataframe tbody tr th {\n",
       "        vertical-align: top;\n",
       "    }\n",
       "\n",
       "    .dataframe thead th {\n",
       "        text-align: right;\n",
       "    }\n",
       "</style>\n",
       "<table border=\"1\" class=\"dataframe\">\n",
       "  <thead>\n",
       "    <tr style=\"text-align: right;\">\n",
       "      <th></th>\n",
       "      <th>text</th>\n",
       "      <th>word_count</th>\n",
       "    </tr>\n",
       "  </thead>\n",
       "  <tbody>\n",
       "    <tr>\n",
       "      <th>0</th>\n",
       "      <td>Our Deeds are the Reason of this #earthquake M...</td>\n",
       "      <td>13</td>\n",
       "    </tr>\n",
       "    <tr>\n",
       "      <th>1</th>\n",
       "      <td>Forest fire near La Ronge Sask. Canada</td>\n",
       "      <td>7</td>\n",
       "    </tr>\n",
       "    <tr>\n",
       "      <th>2</th>\n",
       "      <td>All residents asked to 'shelter in place' are ...</td>\n",
       "      <td>22</td>\n",
       "    </tr>\n",
       "    <tr>\n",
       "      <th>3</th>\n",
       "      <td>13,000 people receive #wildfires evacuation or...</td>\n",
       "      <td>8</td>\n",
       "    </tr>\n",
       "    <tr>\n",
       "      <th>4</th>\n",
       "      <td>Just got sent this photo from Ruby #Alaska as ...</td>\n",
       "      <td>16</td>\n",
       "    </tr>\n",
       "  </tbody>\n",
       "</table>\n",
       "</div>"
      ],
      "text/plain": [
       "                                                text  word_count\n",
       "0  Our Deeds are the Reason of this #earthquake M...          13\n",
       "1             Forest fire near La Ronge Sask. Canada           7\n",
       "2  All residents asked to 'shelter in place' are ...          22\n",
       "3  13,000 people receive #wildfires evacuation or...           8\n",
       "4  Just got sent this photo from Ruby #Alaska as ...          16"
      ]
     },
     "execution_count": 7,
     "metadata": {},
     "output_type": "execute_result"
    }
   ],
   "source": [
    "train_df.loc[:,['text','word_count']].head()"
   ]
  },
  {
   "cell_type": "code",
   "execution_count": 8,
   "id": "32092bf1",
   "metadata": {
    "execution": {
     "iopub.execute_input": "2025-10-23T13:06:56.568476Z",
     "iopub.status.busy": "2025-10-23T13:06:56.567792Z",
     "iopub.status.idle": "2025-10-23T13:06:56.572371Z",
     "shell.execute_reply": "2025-10-23T13:06:56.571511Z"
    },
    "papermill": {
     "duration": 0.011009,
     "end_time": "2025-10-23T13:06:56.573715",
     "exception": false,
     "start_time": "2025-10-23T13:06:56.562706",
     "status": "completed"
    },
    "tags": []
   },
   "outputs": [],
   "source": [
    "def clean_text(text):\n",
    "    # Remove URLs\n",
    "    text = re.sub(r'http\\S+|www\\S+|https\\S+', '', text)\n",
    "    # Remove mentions and hashtags\n",
    "    text = re.sub(r'@\\w+|#\\w+', '', text)\n",
    "    # Remove special characters and numbers\n",
    "    text = re.sub(r'[^a-zA-Z\\s]', '', text)\n",
    "    # Convert to lowercase\n",
    "    text = text.lower()\n",
    "    # Remove extra whitespace\n",
    "    text = ' '.join(text.split())\n",
    "    return text"
   ]
  },
  {
   "cell_type": "code",
   "execution_count": 9,
   "id": "4f38f9ba",
   "metadata": {
    "execution": {
     "iopub.execute_input": "2025-10-23T13:06:56.583728Z",
     "iopub.status.busy": "2025-10-23T13:06:56.583018Z",
     "iopub.status.idle": "2025-10-23T13:06:56.640901Z",
     "shell.execute_reply": "2025-10-23T13:06:56.640190Z"
    },
    "papermill": {
     "duration": 0.063969,
     "end_time": "2025-10-23T13:06:56.642017",
     "exception": false,
     "start_time": "2025-10-23T13:06:56.578048",
     "status": "completed"
    },
    "tags": []
   },
   "outputs": [],
   "source": [
    "train_df['modified_text'] = train_df['text'].apply(clean_text)"
   ]
  },
  {
   "cell_type": "code",
   "execution_count": 10,
   "id": "c8ab9849",
   "metadata": {
    "execution": {
     "iopub.execute_input": "2025-10-23T13:06:56.651722Z",
     "iopub.status.busy": "2025-10-23T13:06:56.651503Z",
     "iopub.status.idle": "2025-10-23T13:06:56.681842Z",
     "shell.execute_reply": "2025-10-23T13:06:56.680990Z"
    },
    "papermill": {
     "duration": 0.036601,
     "end_time": "2025-10-23T13:06:56.683105",
     "exception": false,
     "start_time": "2025-10-23T13:06:56.646504",
     "status": "completed"
    },
    "tags": []
   },
   "outputs": [],
   "source": [
    "test_df['modified_text'] = test_df['text'].apply(clean_text)"
   ]
  },
  {
   "cell_type": "code",
   "execution_count": 11,
   "id": "3a87699f",
   "metadata": {
    "execution": {
     "iopub.execute_input": "2025-10-23T13:06:56.692757Z",
     "iopub.status.busy": "2025-10-23T13:06:56.692535Z",
     "iopub.status.idle": "2025-10-23T13:06:56.698193Z",
     "shell.execute_reply": "2025-10-23T13:06:56.697387Z"
    },
    "papermill": {
     "duration": 0.01192,
     "end_time": "2025-10-23T13:06:56.699476",
     "exception": false,
     "start_time": "2025-10-23T13:06:56.687556",
     "status": "completed"
    },
    "tags": []
   },
   "outputs": [
    {
     "data": {
      "text/plain": [
       "31"
      ]
     },
     "execution_count": 11,
     "metadata": {},
     "output_type": "execute_result"
    }
   ],
   "source": [
    "max(train_df['word_count'])"
   ]
  },
  {
   "cell_type": "code",
   "execution_count": 12,
   "id": "d2aa4c8b",
   "metadata": {
    "execution": {
     "iopub.execute_input": "2025-10-23T13:06:56.708589Z",
     "iopub.status.busy": "2025-10-23T13:06:56.708074Z",
     "iopub.status.idle": "2025-10-23T13:07:12.679812Z",
     "shell.execute_reply": "2025-10-23T13:07:12.678971Z"
    },
    "papermill": {
     "duration": 15.977767,
     "end_time": "2025-10-23T13:07:12.681333",
     "exception": false,
     "start_time": "2025-10-23T13:06:56.703566",
     "status": "completed"
    },
    "tags": []
   },
   "outputs": [
    {
     "name": "stderr",
     "output_type": "stream",
     "text": [
      "2025-10-23 13:06:58.799264: E external/local_xla/xla/stream_executor/cuda/cuda_fft.cc:477] Unable to register cuFFT factory: Attempting to register factory for plugin cuFFT when one has already been registered\n",
      "WARNING: All log messages before absl::InitializeLog() is called are written to STDERR\n",
      "E0000 00:00:1761224819.065045      19 cuda_dnn.cc:8310] Unable to register cuDNN factory: Attempting to register factory for plugin cuDNN when one has already been registered\n",
      "E0000 00:00:1761224819.143423      19 cuda_blas.cc:1418] Unable to register cuBLAS factory: Attempting to register factory for plugin cuBLAS when one has already been registered\n"
     ]
    }
   ],
   "source": [
    "from tensorflow.keras.preprocessing.text import Tokenizer\n",
    "from tensorflow.keras.preprocessing.sequence import pad_sequences\n",
    "from tensorflow.keras.models import Sequential\n",
    "from tensorflow.keras.layers import LSTM, Dropout, Embedding, Dense\n",
    "from tensorflow.keras.callbacks import EarlyStopping\n",
    "\n",
    "from sklearn.model_selection import train_test_split\n",
    "from sklearn.metrics import f1_score"
   ]
  },
  {
   "cell_type": "code",
   "execution_count": 13,
   "id": "d5edee65",
   "metadata": {
    "execution": {
     "iopub.execute_input": "2025-10-23T13:07:12.690960Z",
     "iopub.status.busy": "2025-10-23T13:07:12.690319Z",
     "iopub.status.idle": "2025-10-23T13:07:12.693907Z",
     "shell.execute_reply": "2025-10-23T13:07:12.693210Z"
    },
    "papermill": {
     "duration": 0.009366,
     "end_time": "2025-10-23T13:07:12.694997",
     "exception": false,
     "start_time": "2025-10-23T13:07:12.685631",
     "status": "completed"
    },
    "tags": []
   },
   "outputs": [],
   "source": [
    "max_words = 10000\n",
    "max_len = 50\n",
    "EMBEDDING_DIM = 100"
   ]
  },
  {
   "cell_type": "code",
   "execution_count": 14,
   "id": "cf9b790b",
   "metadata": {
    "execution": {
     "iopub.execute_input": "2025-10-23T13:07:12.703956Z",
     "iopub.status.busy": "2025-10-23T13:07:12.703739Z",
     "iopub.status.idle": "2025-10-23T13:07:12.809837Z",
     "shell.execute_reply": "2025-10-23T13:07:12.809036Z"
    },
    "papermill": {
     "duration": 0.112111,
     "end_time": "2025-10-23T13:07:12.811275",
     "exception": false,
     "start_time": "2025-10-23T13:07:12.699164",
     "status": "completed"
    },
    "tags": []
   },
   "outputs": [],
   "source": [
    "tokenizer = Tokenizer(\n",
    "    num_words = max_words\n",
    ")\n",
    "\n",
    "tokenizer.fit_on_texts(train_df['modified_text'])"
   ]
  },
  {
   "cell_type": "code",
   "execution_count": 15,
   "id": "d1e0b7a7",
   "metadata": {
    "execution": {
     "iopub.execute_input": "2025-10-23T13:07:12.820645Z",
     "iopub.status.busy": "2025-10-23T13:07:12.820211Z",
     "iopub.status.idle": "2025-10-23T13:07:12.921196Z",
     "shell.execute_reply": "2025-10-23T13:07:12.920359Z"
    },
    "papermill": {
     "duration": 0.107166,
     "end_time": "2025-10-23T13:07:12.922678",
     "exception": false,
     "start_time": "2025-10-23T13:07:12.815512",
     "status": "completed"
    },
    "tags": []
   },
   "outputs": [],
   "source": [
    "X_train = tokenizer.texts_to_sequences(train_df['modified_text'])\n",
    "X_test = tokenizer.texts_to_sequences(test_df['modified_text'])"
   ]
  },
  {
   "cell_type": "code",
   "execution_count": 16,
   "id": "71ce7025",
   "metadata": {
    "execution": {
     "iopub.execute_input": "2025-10-23T13:07:12.932324Z",
     "iopub.status.busy": "2025-10-23T13:07:12.932001Z",
     "iopub.status.idle": "2025-10-23T13:07:12.961485Z",
     "shell.execute_reply": "2025-10-23T13:07:12.960684Z"
    },
    "papermill": {
     "duration": 0.035678,
     "end_time": "2025-10-23T13:07:12.962699",
     "exception": false,
     "start_time": "2025-10-23T13:07:12.927021",
     "status": "completed"
    },
    "tags": []
   },
   "outputs": [],
   "source": [
    "X_train = pad_sequences(\n",
    "    X_train,\n",
    "    maxlen = max_len,\n",
    "    padding = 'post'\n",
    ")\n",
    "\n",
    "X_test = pad_sequences(\n",
    "    X_test,\n",
    "    maxlen = max_len,\n",
    "    padding = 'post'\n",
    ")\n"
   ]
  },
  {
   "cell_type": "code",
   "execution_count": 17,
   "id": "f3c00fb3",
   "metadata": {
    "execution": {
     "iopub.execute_input": "2025-10-23T13:07:12.971848Z",
     "iopub.status.busy": "2025-10-23T13:07:12.971256Z",
     "iopub.status.idle": "2025-10-23T13:07:12.974616Z",
     "shell.execute_reply": "2025-10-23T13:07:12.974083Z"
    },
    "papermill": {
     "duration": 0.008941,
     "end_time": "2025-10-23T13:07:12.975658",
     "exception": false,
     "start_time": "2025-10-23T13:07:12.966717",
     "status": "completed"
    },
    "tags": []
   },
   "outputs": [],
   "source": [
    "Y_train = train_df['target']"
   ]
  },
  {
   "cell_type": "code",
   "execution_count": 18,
   "id": "57506faa",
   "metadata": {
    "execution": {
     "iopub.execute_input": "2025-10-23T13:07:12.985033Z",
     "iopub.status.busy": "2025-10-23T13:07:12.984651Z",
     "iopub.status.idle": "2025-10-23T13:07:12.988614Z",
     "shell.execute_reply": "2025-10-23T13:07:12.988016Z"
    },
    "papermill": {
     "duration": 0.00963,
     "end_time": "2025-10-23T13:07:12.989632",
     "exception": false,
     "start_time": "2025-10-23T13:07:12.980002",
     "status": "completed"
    },
    "tags": []
   },
   "outputs": [
    {
     "name": "stdout",
     "output_type": "stream",
     "text": [
      "X_train shape: (7613, 50)\n",
      "X_test shape: (3263, 50)\n",
      "Vocabulary size: 13527\n"
     ]
    }
   ],
   "source": [
    "print(f\"X_train shape: {X_train.shape}\")\n",
    "print(f\"X_test shape: {X_test.shape}\")\n",
    "print(f\"Vocabulary size: {len(tokenizer.word_index)}\")"
   ]
  },
  {
   "cell_type": "code",
   "execution_count": 19,
   "id": "1671f63f",
   "metadata": {
    "execution": {
     "iopub.execute_input": "2025-10-23T13:07:12.998320Z",
     "iopub.status.busy": "2025-10-23T13:07:12.998090Z",
     "iopub.status.idle": "2025-10-23T13:07:14.079284Z",
     "shell.execute_reply": "2025-10-23T13:07:14.077912Z"
    },
    "papermill": {
     "duration": 1.087375,
     "end_time": "2025-10-23T13:07:14.081020",
     "exception": false,
     "start_time": "2025-10-23T13:07:12.993645",
     "status": "completed"
    },
    "tags": []
   },
   "outputs": [
    {
     "name": "stderr",
     "output_type": "stream",
     "text": [
      "I0000 00:00:1761224834.030703      19 gpu_device.cc:2022] Created device /job:localhost/replica:0/task:0/device:GPU:0 with 13942 MB memory:  -> device: 0, name: Tesla T4, pci bus id: 0000:00:04.0, compute capability: 7.5\n",
      "I0000 00:00:1761224834.031402      19 gpu_device.cc:2022] Created device /job:localhost/replica:0/task:0/device:GPU:1 with 13942 MB memory:  -> device: 1, name: Tesla T4, pci bus id: 0000:00:05.0, compute capability: 7.5\n"
     ]
    }
   ],
   "source": [
    "model = Sequential([\n",
    "    Embedding(input_dim = max_words, output_dim = EMBEDDING_DIM),\n",
    "    LSTM(64, dropout = 0.2),\n",
    "    Dense(32, activation = 'relu'),\n",
    "    Dropout(0.5),\n",
    "    Dense(1, activation = 'sigmoid')\n",
    "])"
   ]
  },
  {
   "cell_type": "code",
   "execution_count": 20,
   "id": "74e6085a",
   "metadata": {
    "execution": {
     "iopub.execute_input": "2025-10-23T13:07:14.094974Z",
     "iopub.status.busy": "2025-10-23T13:07:14.094743Z",
     "iopub.status.idle": "2025-10-23T13:07:14.111663Z",
     "shell.execute_reply": "2025-10-23T13:07:14.111112Z"
    },
    "papermill": {
     "duration": 0.023392,
     "end_time": "2025-10-23T13:07:14.112917",
     "exception": false,
     "start_time": "2025-10-23T13:07:14.089525",
     "status": "completed"
    },
    "tags": []
   },
   "outputs": [],
   "source": [
    "model.compile(\n",
    "    optimizer = 'adam',\n",
    "    loss = 'binary_crossentropy',\n",
    "    metrics = ['accuracy','f1_score']\n",
    ")"
   ]
  },
  {
   "cell_type": "code",
   "execution_count": 21,
   "id": "d45d8137",
   "metadata": {
    "execution": {
     "iopub.execute_input": "2025-10-23T13:07:14.121920Z",
     "iopub.status.busy": "2025-10-23T13:07:14.121697Z",
     "iopub.status.idle": "2025-10-23T13:07:14.128662Z",
     "shell.execute_reply": "2025-10-23T13:07:14.127868Z"
    },
    "papermill": {
     "duration": 0.012793,
     "end_time": "2025-10-23T13:07:14.129849",
     "exception": false,
     "start_time": "2025-10-23T13:07:14.117056",
     "status": "completed"
    },
    "tags": []
   },
   "outputs": [],
   "source": [
    "X_train_split, X_val, y_train_split, y_val = train_test_split(\n",
    "    X_train, Y_train, test_size=0.2, random_state=42\n",
    ")"
   ]
  },
  {
   "cell_type": "code",
   "execution_count": 22,
   "id": "c81d60dc",
   "metadata": {
    "execution": {
     "iopub.execute_input": "2025-10-23T13:07:14.138701Z",
     "iopub.status.busy": "2025-10-23T13:07:14.138295Z",
     "iopub.status.idle": "2025-10-23T13:07:14.141905Z",
     "shell.execute_reply": "2025-10-23T13:07:14.141209Z"
    },
    "papermill": {
     "duration": 0.009128,
     "end_time": "2025-10-23T13:07:14.143000",
     "exception": false,
     "start_time": "2025-10-23T13:07:14.133872",
     "status": "completed"
    },
    "tags": []
   },
   "outputs": [],
   "source": [
    "early_stopping = EarlyStopping(\n",
    "    monitor='val_loss',\n",
    "    patience=3,\n",
    "    restore_best_weights=True,\n",
    "    verbose=1\n",
    ")"
   ]
  },
  {
   "cell_type": "code",
   "execution_count": 23,
   "id": "4062ca44",
   "metadata": {
    "execution": {
     "iopub.execute_input": "2025-10-23T13:07:14.151664Z",
     "iopub.status.busy": "2025-10-23T13:07:14.151293Z",
     "iopub.status.idle": "2025-10-23T13:07:27.876780Z",
     "shell.execute_reply": "2025-10-23T13:07:27.876218Z"
    },
    "papermill": {
     "duration": 13.731013,
     "end_time": "2025-10-23T13:07:27.877863",
     "exception": false,
     "start_time": "2025-10-23T13:07:14.146850",
     "status": "completed"
    },
    "tags": []
   },
   "outputs": [
    {
     "name": "stdout",
     "output_type": "stream",
     "text": [
      "Epoch 1/10\n"
     ]
    },
    {
     "name": "stderr",
     "output_type": "stream",
     "text": [
      "I0000 00:00:1761224840.046536      62 cuda_dnn.cc:529] Loaded cuDNN version 90300\n"
     ]
    },
    {
     "name": "stdout",
     "output_type": "stream",
     "text": [
      "\u001b[1m96/96\u001b[0m \u001b[32m━━━━━━━━━━━━━━━━━━━━\u001b[0m\u001b[37m\u001b[0m \u001b[1m9s\u001b[0m 16ms/step - accuracy: 0.5599 - f1_score: 0.6065 - loss: 0.6884 - val_accuracy: 0.5739 - val_f1_score: 0.5976 - val_loss: 0.6823\n",
      "Epoch 2/10\n",
      "\u001b[1m96/96\u001b[0m \u001b[32m━━━━━━━━━━━━━━━━━━━━\u001b[0m\u001b[37m\u001b[0m \u001b[1m1s\u001b[0m 9ms/step - accuracy: 0.5677 - f1_score: 0.6032 - loss: 0.6863 - val_accuracy: 0.5739 - val_f1_score: 0.5976 - val_loss: 0.6841\n",
      "Epoch 3/10\n",
      "\u001b[1m96/96\u001b[0m \u001b[32m━━━━━━━━━━━━━━━━━━━━\u001b[0m\u001b[37m\u001b[0m \u001b[1m1s\u001b[0m 9ms/step - accuracy: 0.5750 - f1_score: 0.5965 - loss: 0.6827 - val_accuracy: 0.5739 - val_f1_score: 0.5976 - val_loss: 0.6829\n",
      "Epoch 4/10\n",
      "\u001b[1m96/96\u001b[0m \u001b[32m━━━━━━━━━━━━━━━━━━━━\u001b[0m\u001b[37m\u001b[0m \u001b[1m1s\u001b[0m 9ms/step - accuracy: 0.5660 - f1_score: 0.6053 - loss: 0.6854 - val_accuracy: 0.5739 - val_f1_score: 0.5976 - val_loss: 0.6820\n",
      "Epoch 5/10\n",
      "\u001b[1m96/96\u001b[0m \u001b[32m━━━━━━━━━━━━━━━━━━━━\u001b[0m\u001b[37m\u001b[0m \u001b[1m1s\u001b[0m 8ms/step - accuracy: 0.5684 - f1_score: 0.6028 - loss: 0.6855 - val_accuracy: 0.5739 - val_f1_score: 0.5976 - val_loss: 0.6834\n",
      "Epoch 6/10\n",
      "\u001b[1m96/96\u001b[0m \u001b[32m━━━━━━━━━━━━━━━━━━━━\u001b[0m\u001b[37m\u001b[0m \u001b[1m1s\u001b[0m 9ms/step - accuracy: 0.5556 - f1_score: 0.6108 - loss: 0.6875 - val_accuracy: 0.5739 - val_f1_score: 0.5976 - val_loss: 0.6824\n",
      "Epoch 7/10\n",
      "\u001b[1m96/96\u001b[0m \u001b[32m━━━━━━━━━━━━━━━━━━━━\u001b[0m\u001b[37m\u001b[0m \u001b[1m1s\u001b[0m 8ms/step - accuracy: 0.5770 - f1_score: 0.5945 - loss: 0.6825 - val_accuracy: 0.5739 - val_f1_score: 0.5976 - val_loss: 0.6824\n",
      "Epoch 7: early stopping\n",
      "Restoring model weights from the end of the best epoch: 4.\n"
     ]
    }
   ],
   "source": [
    "history = model.fit(\n",
    "    X_train_split, y_train_split,\n",
    "    validation_data=(X_val, y_val),\n",
    "    epochs=10,\n",
    "    batch_size=64,\n",
    "    callbacks=[early_stopping],\n",
    "    verbose=1\n",
    ")"
   ]
  },
  {
   "cell_type": "code",
   "execution_count": 24,
   "id": "68d6ee6c",
   "metadata": {
    "execution": {
     "iopub.execute_input": "2025-10-23T13:07:27.897495Z",
     "iopub.status.busy": "2025-10-23T13:07:27.896764Z",
     "iopub.status.idle": "2025-10-23T13:07:28.679539Z",
     "shell.execute_reply": "2025-10-23T13:07:28.678792Z"
    },
    "papermill": {
     "duration": 0.793669,
     "end_time": "2025-10-23T13:07:28.680961",
     "exception": false,
     "start_time": "2025-10-23T13:07:27.887292",
     "status": "completed"
    },
    "tags": []
   },
   "outputs": [
    {
     "name": "stdout",
     "output_type": "stream",
     "text": [
      "\u001b[1m102/102\u001b[0m \u001b[32m━━━━━━━━━━━━━━━━━━━━\u001b[0m\u001b[37m\u001b[0m \u001b[1m1s\u001b[0m 4ms/step\n"
     ]
    }
   ],
   "source": [
    "pred = model.predict(X_test)"
   ]
  },
  {
   "cell_type": "code",
   "execution_count": null,
   "id": "0210a651",
   "metadata": {
    "papermill": {
     "duration": 0.008859,
     "end_time": "2025-10-23T13:07:28.699238",
     "exception": false,
     "start_time": "2025-10-23T13:07:28.690379",
     "status": "completed"
    },
    "tags": []
   },
   "outputs": [],
   "source": []
  },
  {
   "cell_type": "code",
   "execution_count": 25,
   "id": "7baa470b",
   "metadata": {
    "execution": {
     "iopub.execute_input": "2025-10-23T13:07:28.718141Z",
     "iopub.status.busy": "2025-10-23T13:07:28.717436Z",
     "iopub.status.idle": "2025-10-23T13:07:28.731507Z",
     "shell.execute_reply": "2025-10-23T13:07:28.730894Z"
    },
    "papermill": {
     "duration": 0.02468,
     "end_time": "2025-10-23T13:07:28.732705",
     "exception": false,
     "start_time": "2025-10-23T13:07:28.708025",
     "status": "completed"
    },
    "tags": []
   },
   "outputs": [],
   "source": [
    "submission = pd.DataFrame({\n",
    "    'id': test_df['id'],\n",
    "    'target': pred.ravel()\n",
    "})\n",
    "\n",
    "submission.to_csv('submission_lstm.csv', index=False)"
   ]
  }
 ],
 "metadata": {
  "kaggle": {
   "accelerator": "nvidiaTeslaT4",
   "dataSources": [
    {
     "databundleVersionId": 869809,
     "sourceId": 17777,
     "sourceType": "competition"
    }
   ],
   "dockerImageVersionId": 31154,
   "isGpuEnabled": true,
   "isInternetEnabled": true,
   "language": "python",
   "sourceType": "notebook"
  },
  "kernelspec": {
   "display_name": "Python 3",
   "language": "python",
   "name": "python3"
  },
  "language_info": {
   "codemirror_mode": {
    "name": "ipython",
    "version": 3
   },
   "file_extension": ".py",
   "mimetype": "text/x-python",
   "name": "python",
   "nbconvert_exporter": "python",
   "pygments_lexer": "ipython3",
   "version": "3.11.13"
  },
  "papermill": {
   "default_parameters": {},
   "duration": 41.063138,
   "end_time": "2025-10-23T13:07:31.869925",
   "environment_variables": {},
   "exception": null,
   "input_path": "__notebook__.ipynb",
   "output_path": "__notebook__.ipynb",
   "parameters": {},
   "start_time": "2025-10-23T13:06:50.806787",
   "version": "2.6.0"
  }
 },
 "nbformat": 4,
 "nbformat_minor": 5
}
