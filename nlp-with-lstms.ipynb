{
 "cells": [
  {
   "cell_type": "code",
   "execution_count": 1,
   "id": "f1795395",
   "metadata": {
    "execution": {
     "iopub.execute_input": "2025-10-23T13:10:04.750012Z",
     "iopub.status.busy": "2025-10-23T13:10:04.749809Z",
     "iopub.status.idle": "2025-10-23T13:10:06.581448Z",
     "shell.execute_reply": "2025-10-23T13:10:06.580895Z"
    },
    "papermill": {
     "duration": 1.837857,
     "end_time": "2025-10-23T13:10:06.582732",
     "exception": false,
     "start_time": "2025-10-23T13:10:04.744875",
     "status": "completed"
    },
    "tags": []
   },
   "outputs": [],
   "source": [
    "import numpy as np # linear algebra\n",
    "import pandas as pd \n",
    "import re"
   ]
  },
  {
   "cell_type": "code",
   "execution_count": 2,
   "id": "085a021a",
   "metadata": {
    "execution": {
     "iopub.execute_input": "2025-10-23T13:10:06.591623Z",
     "iopub.status.busy": "2025-10-23T13:10:06.590918Z",
     "iopub.status.idle": "2025-10-23T13:10:06.680362Z",
     "shell.execute_reply": "2025-10-23T13:10:06.679836Z"
    },
    "papermill": {
     "duration": 0.094705,
     "end_time": "2025-10-23T13:10:06.681446",
     "exception": false,
     "start_time": "2025-10-23T13:10:06.586741",
     "status": "completed"
    },
    "tags": []
   },
   "outputs": [],
   "source": [
    "train_df = pd.read_csv(\"/kaggle/input/nlp-getting-started/train.csv\")\n",
    "test_df = pd.read_csv(\"/kaggle/input/nlp-getting-started/test.csv\")"
   ]
  },
  {
   "cell_type": "code",
   "execution_count": 3,
   "id": "e53f58bd",
   "metadata": {
    "execution": {
     "iopub.execute_input": "2025-10-23T13:10:06.689512Z",
     "iopub.status.busy": "2025-10-23T13:10:06.688987Z",
     "iopub.status.idle": "2025-10-23T13:10:06.709931Z",
     "shell.execute_reply": "2025-10-23T13:10:06.709284Z"
    },
    "papermill": {
     "duration": 0.025997,
     "end_time": "2025-10-23T13:10:06.711038",
     "exception": false,
     "start_time": "2025-10-23T13:10:06.685041",
     "status": "completed"
    },
    "tags": []
   },
   "outputs": [
    {
     "data": {
      "text/html": [
       "<div>\n",
       "<style scoped>\n",
       "    .dataframe tbody tr th:only-of-type {\n",
       "        vertical-align: middle;\n",
       "    }\n",
       "\n",
       "    .dataframe tbody tr th {\n",
       "        vertical-align: top;\n",
       "    }\n",
       "\n",
       "    .dataframe thead th {\n",
       "        text-align: right;\n",
       "    }\n",
       "</style>\n",
       "<table border=\"1\" class=\"dataframe\">\n",
       "  <thead>\n",
       "    <tr style=\"text-align: right;\">\n",
       "      <th></th>\n",
       "      <th>id</th>\n",
       "      <th>keyword</th>\n",
       "      <th>location</th>\n",
       "      <th>text</th>\n",
       "      <th>target</th>\n",
       "    </tr>\n",
       "  </thead>\n",
       "  <tbody>\n",
       "    <tr>\n",
       "      <th>0</th>\n",
       "      <td>1</td>\n",
       "      <td>NaN</td>\n",
       "      <td>NaN</td>\n",
       "      <td>Our Deeds are the Reason of this #earthquake M...</td>\n",
       "      <td>1</td>\n",
       "    </tr>\n",
       "    <tr>\n",
       "      <th>1</th>\n",
       "      <td>4</td>\n",
       "      <td>NaN</td>\n",
       "      <td>NaN</td>\n",
       "      <td>Forest fire near La Ronge Sask. Canada</td>\n",
       "      <td>1</td>\n",
       "    </tr>\n",
       "    <tr>\n",
       "      <th>2</th>\n",
       "      <td>5</td>\n",
       "      <td>NaN</td>\n",
       "      <td>NaN</td>\n",
       "      <td>All residents asked to 'shelter in place' are ...</td>\n",
       "      <td>1</td>\n",
       "    </tr>\n",
       "    <tr>\n",
       "      <th>3</th>\n",
       "      <td>6</td>\n",
       "      <td>NaN</td>\n",
       "      <td>NaN</td>\n",
       "      <td>13,000 people receive #wildfires evacuation or...</td>\n",
       "      <td>1</td>\n",
       "    </tr>\n",
       "    <tr>\n",
       "      <th>4</th>\n",
       "      <td>7</td>\n",
       "      <td>NaN</td>\n",
       "      <td>NaN</td>\n",
       "      <td>Just got sent this photo from Ruby #Alaska as ...</td>\n",
       "      <td>1</td>\n",
       "    </tr>\n",
       "  </tbody>\n",
       "</table>\n",
       "</div>"
      ],
      "text/plain": [
       "   id keyword location                                               text  \\\n",
       "0   1     NaN      NaN  Our Deeds are the Reason of this #earthquake M...   \n",
       "1   4     NaN      NaN             Forest fire near La Ronge Sask. Canada   \n",
       "2   5     NaN      NaN  All residents asked to 'shelter in place' are ...   \n",
       "3   6     NaN      NaN  13,000 people receive #wildfires evacuation or...   \n",
       "4   7     NaN      NaN  Just got sent this photo from Ruby #Alaska as ...   \n",
       "\n",
       "   target  \n",
       "0       1  \n",
       "1       1  \n",
       "2       1  \n",
       "3       1  \n",
       "4       1  "
      ]
     },
     "execution_count": 3,
     "metadata": {},
     "output_type": "execute_result"
    }
   ],
   "source": [
    "train_df.head()"
   ]
  },
  {
   "cell_type": "code",
   "execution_count": 4,
   "id": "3e55d0b5",
   "metadata": {
    "execution": {
     "iopub.execute_input": "2025-10-23T13:10:06.719387Z",
     "iopub.status.busy": "2025-10-23T13:10:06.719177Z",
     "iopub.status.idle": "2025-10-23T13:10:06.733363Z",
     "shell.execute_reply": "2025-10-23T13:10:06.732762Z"
    },
    "papermill": {
     "duration": 0.019676,
     "end_time": "2025-10-23T13:10:06.734492",
     "exception": false,
     "start_time": "2025-10-23T13:10:06.714816",
     "status": "completed"
    },
    "tags": []
   },
   "outputs": [
    {
     "name": "stdout",
     "output_type": "stream",
     "text": [
      "Non Disaster Tweet Count :  4342\n",
      "Disaster Tweet Count :  3271\n"
     ]
    }
   ],
   "source": [
    "print(\"Non Disaster Tweet Count : \",train_df[train_df['target'] == 0]['text'].shape[0])\n",
    "print(\"Disaster Tweet Count : \",train_df[train_df['target'] == 1]['text'].shape[0])"
   ]
  },
  {
   "cell_type": "code",
   "execution_count": 5,
   "id": "50e9d369",
   "metadata": {
    "execution": {
     "iopub.execute_input": "2025-10-23T13:10:06.742452Z",
     "iopub.status.busy": "2025-10-23T13:10:06.742284Z",
     "iopub.status.idle": "2025-10-23T13:10:06.757642Z",
     "shell.execute_reply": "2025-10-23T13:10:06.756924Z"
    },
    "papermill": {
     "duration": 0.020559,
     "end_time": "2025-10-23T13:10:06.758679",
     "exception": false,
     "start_time": "2025-10-23T13:10:06.738120",
     "status": "completed"
    },
    "tags": []
   },
   "outputs": [
    {
     "data": {
      "text/html": [
       "<div>\n",
       "<style scoped>\n",
       "    .dataframe tbody tr th:only-of-type {\n",
       "        vertical-align: middle;\n",
       "    }\n",
       "\n",
       "    .dataframe tbody tr th {\n",
       "        vertical-align: top;\n",
       "    }\n",
       "\n",
       "    .dataframe thead th {\n",
       "        text-align: right;\n",
       "    }\n",
       "</style>\n",
       "<table border=\"1\" class=\"dataframe\">\n",
       "  <thead>\n",
       "    <tr style=\"text-align: right;\">\n",
       "      <th></th>\n",
       "      <th>target</th>\n",
       "      <th>text</th>\n",
       "    </tr>\n",
       "  </thead>\n",
       "  <tbody>\n",
       "    <tr>\n",
       "      <th>0</th>\n",
       "      <td>0</td>\n",
       "      <td>4342</td>\n",
       "    </tr>\n",
       "    <tr>\n",
       "      <th>1</th>\n",
       "      <td>1</td>\n",
       "      <td>3271</td>\n",
       "    </tr>\n",
       "  </tbody>\n",
       "</table>\n",
       "</div>"
      ],
      "text/plain": [
       "   target  text\n",
       "0       0  4342\n",
       "1       1  3271"
      ]
     },
     "execution_count": 5,
     "metadata": {},
     "output_type": "execute_result"
    }
   ],
   "source": [
    "train_df.groupby('target').count()['text'].reset_index()"
   ]
  },
  {
   "cell_type": "code",
   "execution_count": 6,
   "id": "1fbc5d6e",
   "metadata": {
    "execution": {
     "iopub.execute_input": "2025-10-23T13:10:06.766941Z",
     "iopub.status.busy": "2025-10-23T13:10:06.766313Z",
     "iopub.status.idle": "2025-10-23T13:10:06.778912Z",
     "shell.execute_reply": "2025-10-23T13:10:06.778346Z"
    },
    "papermill": {
     "duration": 0.017658,
     "end_time": "2025-10-23T13:10:06.779954",
     "exception": false,
     "start_time": "2025-10-23T13:10:06.762296",
     "status": "completed"
    },
    "tags": []
   },
   "outputs": [],
   "source": [
    "train_df['word_count'] = train_df['text'].apply(lambda x: len(str(x).split()))"
   ]
  },
  {
   "cell_type": "code",
   "execution_count": 7,
   "id": "d397b3cc",
   "metadata": {
    "execution": {
     "iopub.execute_input": "2025-10-23T13:10:06.788127Z",
     "iopub.status.busy": "2025-10-23T13:10:06.787788Z",
     "iopub.status.idle": "2025-10-23T13:10:06.796409Z",
     "shell.execute_reply": "2025-10-23T13:10:06.795888Z"
    },
    "papermill": {
     "duration": 0.013826,
     "end_time": "2025-10-23T13:10:06.797430",
     "exception": false,
     "start_time": "2025-10-23T13:10:06.783604",
     "status": "completed"
    },
    "tags": []
   },
   "outputs": [
    {
     "data": {
      "text/html": [
       "<div>\n",
       "<style scoped>\n",
       "    .dataframe tbody tr th:only-of-type {\n",
       "        vertical-align: middle;\n",
       "    }\n",
       "\n",
       "    .dataframe tbody tr th {\n",
       "        vertical-align: top;\n",
       "    }\n",
       "\n",
       "    .dataframe thead th {\n",
       "        text-align: right;\n",
       "    }\n",
       "</style>\n",
       "<table border=\"1\" class=\"dataframe\">\n",
       "  <thead>\n",
       "    <tr style=\"text-align: right;\">\n",
       "      <th></th>\n",
       "      <th>text</th>\n",
       "      <th>word_count</th>\n",
       "    </tr>\n",
       "  </thead>\n",
       "  <tbody>\n",
       "    <tr>\n",
       "      <th>0</th>\n",
       "      <td>Our Deeds are the Reason of this #earthquake M...</td>\n",
       "      <td>13</td>\n",
       "    </tr>\n",
       "    <tr>\n",
       "      <th>1</th>\n",
       "      <td>Forest fire near La Ronge Sask. Canada</td>\n",
       "      <td>7</td>\n",
       "    </tr>\n",
       "    <tr>\n",
       "      <th>2</th>\n",
       "      <td>All residents asked to 'shelter in place' are ...</td>\n",
       "      <td>22</td>\n",
       "    </tr>\n",
       "    <tr>\n",
       "      <th>3</th>\n",
       "      <td>13,000 people receive #wildfires evacuation or...</td>\n",
       "      <td>8</td>\n",
       "    </tr>\n",
       "    <tr>\n",
       "      <th>4</th>\n",
       "      <td>Just got sent this photo from Ruby #Alaska as ...</td>\n",
       "      <td>16</td>\n",
       "    </tr>\n",
       "  </tbody>\n",
       "</table>\n",
       "</div>"
      ],
      "text/plain": [
       "                                                text  word_count\n",
       "0  Our Deeds are the Reason of this #earthquake M...          13\n",
       "1             Forest fire near La Ronge Sask. Canada           7\n",
       "2  All residents asked to 'shelter in place' are ...          22\n",
       "3  13,000 people receive #wildfires evacuation or...           8\n",
       "4  Just got sent this photo from Ruby #Alaska as ...          16"
      ]
     },
     "execution_count": 7,
     "metadata": {},
     "output_type": "execute_result"
    }
   ],
   "source": [
    "train_df.loc[:,['text','word_count']].head()"
   ]
  },
  {
   "cell_type": "code",
   "execution_count": 8,
   "id": "d940c34c",
   "metadata": {
    "execution": {
     "iopub.execute_input": "2025-10-23T13:10:06.805779Z",
     "iopub.status.busy": "2025-10-23T13:10:06.805393Z",
     "iopub.status.idle": "2025-10-23T13:10:06.809335Z",
     "shell.execute_reply": "2025-10-23T13:10:06.808621Z"
    },
    "papermill": {
     "duration": 0.009252,
     "end_time": "2025-10-23T13:10:06.810392",
     "exception": false,
     "start_time": "2025-10-23T13:10:06.801140",
     "status": "completed"
    },
    "tags": []
   },
   "outputs": [],
   "source": [
    "def clean_text(text):\n",
    "    # Remove URLs\n",
    "    text = re.sub(r'http\\S+|www\\S+|https\\S+', '', text)\n",
    "    # Remove mentions and hashtags\n",
    "    text = re.sub(r'@\\w+|#\\w+', '', text)\n",
    "    # Remove special characters and numbers\n",
    "    text = re.sub(r'[^a-zA-Z\\s]', '', text)\n",
    "    # Convert to lowercase\n",
    "    text = text.lower()\n",
    "    # Remove extra whitespace\n",
    "    text = ' '.join(text.split())\n",
    "    return text"
   ]
  },
  {
   "cell_type": "code",
   "execution_count": 9,
   "id": "1681626f",
   "metadata": {
    "execution": {
     "iopub.execute_input": "2025-10-23T13:10:06.818616Z",
     "iopub.status.busy": "2025-10-23T13:10:06.818432Z",
     "iopub.status.idle": "2025-10-23T13:10:06.872352Z",
     "shell.execute_reply": "2025-10-23T13:10:06.871746Z"
    },
    "papermill": {
     "duration": 0.059215,
     "end_time": "2025-10-23T13:10:06.873360",
     "exception": false,
     "start_time": "2025-10-23T13:10:06.814145",
     "status": "completed"
    },
    "tags": []
   },
   "outputs": [],
   "source": [
    "train_df['modified_text'] = train_df['text'].apply(clean_text)"
   ]
  },
  {
   "cell_type": "code",
   "execution_count": 10,
   "id": "684c231f",
   "metadata": {
    "execution": {
     "iopub.execute_input": "2025-10-23T13:10:06.881578Z",
     "iopub.status.busy": "2025-10-23T13:10:06.881190Z",
     "iopub.status.idle": "2025-10-23T13:10:06.907491Z",
     "shell.execute_reply": "2025-10-23T13:10:06.907001Z"
    },
    "papermill": {
     "duration": 0.031464,
     "end_time": "2025-10-23T13:10:06.908535",
     "exception": false,
     "start_time": "2025-10-23T13:10:06.877071",
     "status": "completed"
    },
    "tags": []
   },
   "outputs": [],
   "source": [
    "test_df['modified_text'] = test_df['text'].apply(clean_text)"
   ]
  },
  {
   "cell_type": "code",
   "execution_count": 11,
   "id": "2f43d7af",
   "metadata": {
    "execution": {
     "iopub.execute_input": "2025-10-23T13:10:06.916972Z",
     "iopub.status.busy": "2025-10-23T13:10:06.916563Z",
     "iopub.status.idle": "2025-10-23T13:10:06.921178Z",
     "shell.execute_reply": "2025-10-23T13:10:06.920654Z"
    },
    "papermill": {
     "duration": 0.009965,
     "end_time": "2025-10-23T13:10:06.922206",
     "exception": false,
     "start_time": "2025-10-23T13:10:06.912241",
     "status": "completed"
    },
    "tags": []
   },
   "outputs": [
    {
     "data": {
      "text/plain": [
       "31"
      ]
     },
     "execution_count": 11,
     "metadata": {},
     "output_type": "execute_result"
    }
   ],
   "source": [
    "max(train_df['word_count'])"
   ]
  },
  {
   "cell_type": "code",
   "execution_count": 12,
   "id": "a1976d1f",
   "metadata": {
    "execution": {
     "iopub.execute_input": "2025-10-23T13:10:06.930526Z",
     "iopub.status.busy": "2025-10-23T13:10:06.930143Z",
     "iopub.status.idle": "2025-10-23T13:10:27.957462Z",
     "shell.execute_reply": "2025-10-23T13:10:27.956881Z"
    },
    "papermill": {
     "duration": 21.03278,
     "end_time": "2025-10-23T13:10:27.958783",
     "exception": false,
     "start_time": "2025-10-23T13:10:06.926003",
     "status": "completed"
    },
    "tags": []
   },
   "outputs": [
    {
     "name": "stderr",
     "output_type": "stream",
     "text": [
      "2025-10-23 13:10:10.155582: E external/local_xla/xla/stream_executor/cuda/cuda_fft.cc:477] Unable to register cuFFT factory: Attempting to register factory for plugin cuFFT when one has already been registered\n",
      "WARNING: All log messages before absl::InitializeLog() is called are written to STDERR\n",
      "E0000 00:00:1761225010.591590      19 cuda_dnn.cc:8310] Unable to register cuDNN factory: Attempting to register factory for plugin cuDNN when one has already been registered\n",
      "E0000 00:00:1761225010.710357      19 cuda_blas.cc:1418] Unable to register cuBLAS factory: Attempting to register factory for plugin cuBLAS when one has already been registered\n"
     ]
    }
   ],
   "source": [
    "from tensorflow.keras.preprocessing.text import Tokenizer\n",
    "from tensorflow.keras.preprocessing.sequence import pad_sequences\n",
    "from tensorflow.keras.models import Sequential\n",
    "from tensorflow.keras.layers import LSTM, Dropout, Embedding, Dense\n",
    "from tensorflow.keras.callbacks import EarlyStopping\n",
    "\n",
    "from sklearn.model_selection import train_test_split\n",
    "from sklearn.metrics import f1_score"
   ]
  },
  {
   "cell_type": "code",
   "execution_count": 13,
   "id": "112e8293",
   "metadata": {
    "execution": {
     "iopub.execute_input": "2025-10-23T13:10:27.967828Z",
     "iopub.status.busy": "2025-10-23T13:10:27.967414Z",
     "iopub.status.idle": "2025-10-23T13:10:27.971165Z",
     "shell.execute_reply": "2025-10-23T13:10:27.970446Z"
    },
    "papermill": {
     "duration": 0.009425,
     "end_time": "2025-10-23T13:10:27.972380",
     "exception": false,
     "start_time": "2025-10-23T13:10:27.962955",
     "status": "completed"
    },
    "tags": []
   },
   "outputs": [],
   "source": [
    "max_words = 10000\n",
    "max_len = 50\n",
    "EMBEDDING_DIM = 100"
   ]
  },
  {
   "cell_type": "code",
   "execution_count": 14,
   "id": "fd22d6c5",
   "metadata": {
    "execution": {
     "iopub.execute_input": "2025-10-23T13:10:27.980921Z",
     "iopub.status.busy": "2025-10-23T13:10:27.980726Z",
     "iopub.status.idle": "2025-10-23T13:10:28.084284Z",
     "shell.execute_reply": "2025-10-23T13:10:28.083734Z"
    },
    "papermill": {
     "duration": 0.108914,
     "end_time": "2025-10-23T13:10:28.085350",
     "exception": false,
     "start_time": "2025-10-23T13:10:27.976436",
     "status": "completed"
    },
    "tags": []
   },
   "outputs": [],
   "source": [
    "tokenizer = Tokenizer(\n",
    "    num_words = max_words\n",
    ")\n",
    "\n",
    "tokenizer.fit_on_texts(train_df['modified_text'])"
   ]
  },
  {
   "cell_type": "code",
   "execution_count": 15,
   "id": "62a77bd8",
   "metadata": {
    "execution": {
     "iopub.execute_input": "2025-10-23T13:10:28.094012Z",
     "iopub.status.busy": "2025-10-23T13:10:28.093602Z",
     "iopub.status.idle": "2025-10-23T13:10:28.189665Z",
     "shell.execute_reply": "2025-10-23T13:10:28.189150Z"
    },
    "papermill": {
     "duration": 0.101323,
     "end_time": "2025-10-23T13:10:28.190580",
     "exception": false,
     "start_time": "2025-10-23T13:10:28.089257",
     "status": "completed"
    },
    "tags": []
   },
   "outputs": [],
   "source": [
    "X_train = tokenizer.texts_to_sequences(train_df['modified_text'])\n",
    "X_test = tokenizer.texts_to_sequences(test_df['modified_text'])"
   ]
  },
  {
   "cell_type": "code",
   "execution_count": 16,
   "id": "c507633d",
   "metadata": {
    "execution": {
     "iopub.execute_input": "2025-10-23T13:10:28.199152Z",
     "iopub.status.busy": "2025-10-23T13:10:28.198648Z",
     "iopub.status.idle": "2025-10-23T13:10:28.226223Z",
     "shell.execute_reply": "2025-10-23T13:10:28.225530Z"
    },
    "papermill": {
     "duration": 0.032809,
     "end_time": "2025-10-23T13:10:28.227262",
     "exception": false,
     "start_time": "2025-10-23T13:10:28.194453",
     "status": "completed"
    },
    "tags": []
   },
   "outputs": [],
   "source": [
    "X_train = pad_sequences(\n",
    "    X_train,\n",
    "    maxlen = max_len,\n",
    "    padding = 'post'\n",
    ")\n",
    "\n",
    "X_test = pad_sequences(\n",
    "    X_test,\n",
    "    maxlen = max_len,\n",
    "    padding = 'post'\n",
    ")\n"
   ]
  },
  {
   "cell_type": "code",
   "execution_count": 17,
   "id": "e2425919",
   "metadata": {
    "execution": {
     "iopub.execute_input": "2025-10-23T13:10:28.235833Z",
     "iopub.status.busy": "2025-10-23T13:10:28.235413Z",
     "iopub.status.idle": "2025-10-23T13:10:28.238601Z",
     "shell.execute_reply": "2025-10-23T13:10:28.237911Z"
    },
    "papermill": {
     "duration": 0.008533,
     "end_time": "2025-10-23T13:10:28.239658",
     "exception": false,
     "start_time": "2025-10-23T13:10:28.231125",
     "status": "completed"
    },
    "tags": []
   },
   "outputs": [],
   "source": [
    "Y_train = train_df['target']"
   ]
  },
  {
   "cell_type": "code",
   "execution_count": 18,
   "id": "a754e91f",
   "metadata": {
    "execution": {
     "iopub.execute_input": "2025-10-23T13:10:28.248627Z",
     "iopub.status.busy": "2025-10-23T13:10:28.248104Z",
     "iopub.status.idle": "2025-10-23T13:10:28.252105Z",
     "shell.execute_reply": "2025-10-23T13:10:28.251507Z"
    },
    "papermill": {
     "duration": 0.009321,
     "end_time": "2025-10-23T13:10:28.253121",
     "exception": false,
     "start_time": "2025-10-23T13:10:28.243800",
     "status": "completed"
    },
    "tags": []
   },
   "outputs": [
    {
     "name": "stdout",
     "output_type": "stream",
     "text": [
      "X_train shape: (7613, 50)\n",
      "X_test shape: (3263, 50)\n",
      "Vocabulary size: 13527\n"
     ]
    }
   ],
   "source": [
    "print(f\"X_train shape: {X_train.shape}\")\n",
    "print(f\"X_test shape: {X_test.shape}\")\n",
    "print(f\"Vocabulary size: {len(tokenizer.word_index)}\")"
   ]
  },
  {
   "cell_type": "code",
   "execution_count": 19,
   "id": "fa7baf27",
   "metadata": {
    "execution": {
     "iopub.execute_input": "2025-10-23T13:10:28.261644Z",
     "iopub.status.busy": "2025-10-23T13:10:28.261140Z",
     "iopub.status.idle": "2025-10-23T13:10:29.876289Z",
     "shell.execute_reply": "2025-10-23T13:10:29.875386Z"
    },
    "papermill": {
     "duration": 1.620577,
     "end_time": "2025-10-23T13:10:29.877534",
     "exception": false,
     "start_time": "2025-10-23T13:10:28.256957",
     "status": "completed"
    },
    "tags": []
   },
   "outputs": [
    {
     "name": "stderr",
     "output_type": "stream",
     "text": [
      "I0000 00:00:1761225029.825500      19 gpu_device.cc:2022] Created device /job:localhost/replica:0/task:0/device:GPU:0 with 13942 MB memory:  -> device: 0, name: Tesla T4, pci bus id: 0000:00:04.0, compute capability: 7.5\n",
      "I0000 00:00:1761225029.826194      19 gpu_device.cc:2022] Created device /job:localhost/replica:0/task:0/device:GPU:1 with 13942 MB memory:  -> device: 1, name: Tesla T4, pci bus id: 0000:00:05.0, compute capability: 7.5\n"
     ]
    }
   ],
   "source": [
    "model = Sequential([\n",
    "    Embedding(input_dim = max_words, output_dim = EMBEDDING_DIM),\n",
    "    LSTM(64, dropout = 0.2),\n",
    "    Dense(32, activation = 'relu'),\n",
    "    Dropout(0.5),\n",
    "    Dense(1, activation = 'sigmoid')\n",
    "])"
   ]
  },
  {
   "cell_type": "code",
   "execution_count": 20,
   "id": "da335fd1",
   "metadata": {
    "execution": {
     "iopub.execute_input": "2025-10-23T13:10:29.886656Z",
     "iopub.status.busy": "2025-10-23T13:10:29.886417Z",
     "iopub.status.idle": "2025-10-23T13:10:29.906689Z",
     "shell.execute_reply": "2025-10-23T13:10:29.906108Z"
    },
    "papermill": {
     "duration": 0.026024,
     "end_time": "2025-10-23T13:10:29.907845",
     "exception": false,
     "start_time": "2025-10-23T13:10:29.881821",
     "status": "completed"
    },
    "tags": []
   },
   "outputs": [],
   "source": [
    "model.compile(\n",
    "    optimizer = 'adam',\n",
    "    loss = 'binary_crossentropy',\n",
    "    metrics = ['accuracy','f1_score']\n",
    ")"
   ]
  },
  {
   "cell_type": "code",
   "execution_count": 21,
   "id": "53b6814b",
   "metadata": {
    "execution": {
     "iopub.execute_input": "2025-10-23T13:10:29.916958Z",
     "iopub.status.busy": "2025-10-23T13:10:29.916757Z",
     "iopub.status.idle": "2025-10-23T13:10:29.922599Z",
     "shell.execute_reply": "2025-10-23T13:10:29.922046Z"
    },
    "papermill": {
     "duration": 0.011769,
     "end_time": "2025-10-23T13:10:29.923666",
     "exception": false,
     "start_time": "2025-10-23T13:10:29.911897",
     "status": "completed"
    },
    "tags": []
   },
   "outputs": [],
   "source": [
    "X_train_split, X_val, y_train_split, y_val = train_test_split(\n",
    "    X_train, Y_train, test_size=0.2, random_state=42\n",
    ")"
   ]
  },
  {
   "cell_type": "code",
   "execution_count": 22,
   "id": "1f238974",
   "metadata": {
    "execution": {
     "iopub.execute_input": "2025-10-23T13:10:29.932352Z",
     "iopub.status.busy": "2025-10-23T13:10:29.931966Z",
     "iopub.status.idle": "2025-10-23T13:10:29.935061Z",
     "shell.execute_reply": "2025-10-23T13:10:29.934517Z"
    },
    "papermill": {
     "duration": 0.008383,
     "end_time": "2025-10-23T13:10:29.936074",
     "exception": false,
     "start_time": "2025-10-23T13:10:29.927691",
     "status": "completed"
    },
    "tags": []
   },
   "outputs": [],
   "source": [
    "early_stopping = EarlyStopping(\n",
    "    monitor='val_loss',\n",
    "    patience=3,\n",
    "    restore_best_weights=True,\n",
    "    verbose=1\n",
    ")"
   ]
  },
  {
   "cell_type": "code",
   "execution_count": 23,
   "id": "ce25041f",
   "metadata": {
    "execution": {
     "iopub.execute_input": "2025-10-23T13:10:29.944888Z",
     "iopub.status.busy": "2025-10-23T13:10:29.944364Z",
     "iopub.status.idle": "2025-10-23T13:10:42.925420Z",
     "shell.execute_reply": "2025-10-23T13:10:42.924860Z"
    },
    "papermill": {
     "duration": 12.986445,
     "end_time": "2025-10-23T13:10:42.926446",
     "exception": false,
     "start_time": "2025-10-23T13:10:29.940001",
     "status": "completed"
    },
    "tags": []
   },
   "outputs": [
    {
     "name": "stdout",
     "output_type": "stream",
     "text": [
      "Epoch 1/10\n"
     ]
    },
    {
     "name": "stderr",
     "output_type": "stream",
     "text": [
      "I0000 00:00:1761225036.039328      63 cuda_dnn.cc:529] Loaded cuDNN version 90300\n"
     ]
    },
    {
     "name": "stdout",
     "output_type": "stream",
     "text": [
      "\u001b[1m96/96\u001b[0m \u001b[32m━━━━━━━━━━━━━━━━━━━━\u001b[0m\u001b[37m\u001b[0m \u001b[1m9s\u001b[0m 15ms/step - accuracy: 0.5572 - f1_score: 0.5968 - loss: 0.6873 - val_accuracy: 0.5739 - val_f1_score: 0.5976 - val_loss: 0.6840\n",
      "Epoch 2/10\n",
      "\u001b[1m96/96\u001b[0m \u001b[32m━━━━━━━━━━━━━━━━━━━━\u001b[0m\u001b[37m\u001b[0m \u001b[1m1s\u001b[0m 8ms/step - accuracy: 0.5718 - f1_score: 0.5995 - loss: 0.6843 - val_accuracy: 0.5739 - val_f1_score: 0.5976 - val_loss: 0.6833\n",
      "Epoch 3/10\n",
      "\u001b[1m96/96\u001b[0m \u001b[32m━━━━━━━━━━━━━━━━━━━━\u001b[0m\u001b[37m\u001b[0m \u001b[1m1s\u001b[0m 8ms/step - accuracy: 0.5686 - f1_score: 0.6018 - loss: 0.6850 - val_accuracy: 0.5739 - val_f1_score: 0.5976 - val_loss: 0.6824\n",
      "Epoch 4/10\n",
      "\u001b[1m96/96\u001b[0m \u001b[32m━━━━━━━━━━━━━━━━━━━━\u001b[0m\u001b[37m\u001b[0m \u001b[1m1s\u001b[0m 8ms/step - accuracy: 0.5729 - f1_score: 0.5985 - loss: 0.6845 - val_accuracy: 0.5739 - val_f1_score: 0.5976 - val_loss: 0.6828\n",
      "Epoch 5/10\n",
      "\u001b[1m96/96\u001b[0m \u001b[32m━━━━━━━━━━━━━━━━━━━━\u001b[0m\u001b[37m\u001b[0m \u001b[1m1s\u001b[0m 8ms/step - accuracy: 0.5637 - f1_score: 0.6074 - loss: 0.6860 - val_accuracy: 0.5739 - val_f1_score: 0.5976 - val_loss: 0.6827\n",
      "Epoch 6/10\n",
      "\u001b[1m96/96\u001b[0m \u001b[32m━━━━━━━━━━━━━━━━━━━━\u001b[0m\u001b[37m\u001b[0m \u001b[1m1s\u001b[0m 8ms/step - accuracy: 0.5639 - f1_score: 0.6072 - loss: 0.6858 - val_accuracy: 0.5739 - val_f1_score: 0.5976 - val_loss: 0.6824\n",
      "Epoch 6: early stopping\n",
      "Restoring model weights from the end of the best epoch: 3.\n"
     ]
    }
   ],
   "source": [
    "history = model.fit(\n",
    "    X_train_split, y_train_split,\n",
    "    validation_data=(X_val, y_val),\n",
    "    epochs=10,\n",
    "    batch_size=64,\n",
    "    callbacks=[early_stopping],\n",
    "    verbose=1\n",
    ")"
   ]
  },
  {
   "cell_type": "code",
   "execution_count": 24,
   "id": "6771557d",
   "metadata": {
    "execution": {
     "iopub.execute_input": "2025-10-23T13:10:42.943071Z",
     "iopub.status.busy": "2025-10-23T13:10:42.942848Z",
     "iopub.status.idle": "2025-10-23T13:10:43.680897Z",
     "shell.execute_reply": "2025-10-23T13:10:43.680290Z"
    },
    "papermill": {
     "duration": 0.747294,
     "end_time": "2025-10-23T13:10:43.682091",
     "exception": false,
     "start_time": "2025-10-23T13:10:42.934797",
     "status": "completed"
    },
    "tags": []
   },
   "outputs": [
    {
     "name": "stdout",
     "output_type": "stream",
     "text": [
      "\u001b[1m102/102\u001b[0m \u001b[32m━━━━━━━━━━━━━━━━━━━━\u001b[0m\u001b[37m\u001b[0m \u001b[1m1s\u001b[0m 4ms/step\n"
     ]
    }
   ],
   "source": [
    "pred = model.predict(X_test)"
   ]
  },
  {
   "cell_type": "code",
   "execution_count": null,
   "id": "e0afd3c9",
   "metadata": {
    "papermill": {
     "duration": 0.007463,
     "end_time": "2025-10-23T13:10:43.697872",
     "exception": false,
     "start_time": "2025-10-23T13:10:43.690409",
     "status": "completed"
    },
    "tags": []
   },
   "outputs": [],
   "source": []
  },
  {
   "cell_type": "code",
   "execution_count": 25,
   "id": "6266bba2",
   "metadata": {
    "execution": {
     "iopub.execute_input": "2025-10-23T13:10:43.713750Z",
     "iopub.status.busy": "2025-10-23T13:10:43.713512Z",
     "iopub.status.idle": "2025-10-23T13:10:43.727450Z",
     "shell.execute_reply": "2025-10-23T13:10:43.726740Z"
    },
    "papermill": {
     "duration": 0.023159,
     "end_time": "2025-10-23T13:10:43.728551",
     "exception": false,
     "start_time": "2025-10-23T13:10:43.705392",
     "status": "completed"
    },
    "tags": []
   },
   "outputs": [],
   "source": [
    "submission = pd.DataFrame({\n",
    "    'id': test_df['id'],\n",
    "    'target': pred.ravel()\n",
    "})\n",
    "\n",
    "submission.to_csv('submission.csv', index=False)"
   ]
  }
 ],
 "metadata": {
  "kaggle": {
   "accelerator": "nvidiaTeslaT4",
   "dataSources": [
    {
     "databundleVersionId": 869809,
     "sourceId": 17777,
     "sourceType": "competition"
    }
   ],
   "dockerImageVersionId": 31154,
   "isGpuEnabled": true,
   "isInternetEnabled": true,
   "language": "python",
   "sourceType": "notebook"
  },
  "kernelspec": {
   "display_name": "Python 3",
   "language": "python",
   "name": "python3"
  },
  "language_info": {
   "codemirror_mode": {
    "name": "ipython",
    "version": 3
   },
   "file_extension": ".py",
   "mimetype": "text/x-python",
   "name": "python",
   "nbconvert_exporter": "python",
   "pygments_lexer": "ipython3",
   "version": "3.11.13"
  },
  "papermill": {
   "default_parameters": {},
   "duration": 47.524043,
   "end_time": "2025-10-23T13:10:47.359207",
   "environment_variables": {},
   "exception": null,
   "input_path": "__notebook__.ipynb",
   "output_path": "__notebook__.ipynb",
   "parameters": {},
   "start_time": "2025-10-23T13:09:59.835164",
   "version": "2.6.0"
  }
 },
 "nbformat": 4,
 "nbformat_minor": 5
}
