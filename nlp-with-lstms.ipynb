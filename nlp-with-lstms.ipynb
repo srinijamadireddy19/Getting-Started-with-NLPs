{
 "cells": [
  {
   "cell_type": "code",
   "execution_count": 1,
   "id": "d03d09a0",
   "metadata": {
    "execution": {
     "iopub.execute_input": "2025-10-27T13:14:27.712767Z",
     "iopub.status.busy": "2025-10-27T13:14:27.712331Z",
     "iopub.status.idle": "2025-10-27T13:14:29.161035Z",
     "shell.execute_reply": "2025-10-27T13:14:29.160328Z"
    },
    "papermill": {
     "duration": 1.455891,
     "end_time": "2025-10-27T13:14:29.162410",
     "exception": false,
     "start_time": "2025-10-27T13:14:27.706519",
     "status": "completed"
    },
    "tags": []
   },
   "outputs": [],
   "source": [
    "import numpy as np # linear algebra\n",
    "import pandas as pd \n",
    "import re"
   ]
  },
  {
   "cell_type": "code",
   "execution_count": 2,
   "id": "91fbb8bb",
   "metadata": {
    "execution": {
     "iopub.execute_input": "2025-10-27T13:14:29.171578Z",
     "iopub.status.busy": "2025-10-27T13:14:29.171254Z",
     "iopub.status.idle": "2025-10-27T13:14:29.296528Z",
     "shell.execute_reply": "2025-10-27T13:14:29.295758Z"
    },
    "papermill": {
     "duration": 0.131091,
     "end_time": "2025-10-27T13:14:29.297860",
     "exception": false,
     "start_time": "2025-10-27T13:14:29.166769",
     "status": "completed"
    },
    "tags": []
   },
   "outputs": [],
   "source": [
    "train_df = pd.read_csv(\"/kaggle/input/nlp-getting-started/train.csv\")\n",
    "test_df = pd.read_csv(\"/kaggle/input/nlp-getting-started/test.csv\")"
   ]
  },
  {
   "cell_type": "code",
   "execution_count": 3,
   "id": "f89bc163",
   "metadata": {
    "execution": {
     "iopub.execute_input": "2025-10-27T13:14:29.306943Z",
     "iopub.status.busy": "2025-10-27T13:14:29.306733Z",
     "iopub.status.idle": "2025-10-27T13:14:29.326622Z",
     "shell.execute_reply": "2025-10-27T13:14:29.325896Z"
    },
    "papermill": {
     "duration": 0.025424,
     "end_time": "2025-10-27T13:14:29.327697",
     "exception": false,
     "start_time": "2025-10-27T13:14:29.302273",
     "status": "completed"
    },
    "tags": []
   },
   "outputs": [
    {
     "data": {
      "text/html": [
       "<div>\n",
       "<style scoped>\n",
       "    .dataframe tbody tr th:only-of-type {\n",
       "        vertical-align: middle;\n",
       "    }\n",
       "\n",
       "    .dataframe tbody tr th {\n",
       "        vertical-align: top;\n",
       "    }\n",
       "\n",
       "    .dataframe thead th {\n",
       "        text-align: right;\n",
       "    }\n",
       "</style>\n",
       "<table border=\"1\" class=\"dataframe\">\n",
       "  <thead>\n",
       "    <tr style=\"text-align: right;\">\n",
       "      <th></th>\n",
       "      <th>id</th>\n",
       "      <th>keyword</th>\n",
       "      <th>location</th>\n",
       "      <th>text</th>\n",
       "      <th>target</th>\n",
       "    </tr>\n",
       "  </thead>\n",
       "  <tbody>\n",
       "    <tr>\n",
       "      <th>0</th>\n",
       "      <td>1</td>\n",
       "      <td>NaN</td>\n",
       "      <td>NaN</td>\n",
       "      <td>Our Deeds are the Reason of this #earthquake M...</td>\n",
       "      <td>1</td>\n",
       "    </tr>\n",
       "    <tr>\n",
       "      <th>1</th>\n",
       "      <td>4</td>\n",
       "      <td>NaN</td>\n",
       "      <td>NaN</td>\n",
       "      <td>Forest fire near La Ronge Sask. Canada</td>\n",
       "      <td>1</td>\n",
       "    </tr>\n",
       "    <tr>\n",
       "      <th>2</th>\n",
       "      <td>5</td>\n",
       "      <td>NaN</td>\n",
       "      <td>NaN</td>\n",
       "      <td>All residents asked to 'shelter in place' are ...</td>\n",
       "      <td>1</td>\n",
       "    </tr>\n",
       "    <tr>\n",
       "      <th>3</th>\n",
       "      <td>6</td>\n",
       "      <td>NaN</td>\n",
       "      <td>NaN</td>\n",
       "      <td>13,000 people receive #wildfires evacuation or...</td>\n",
       "      <td>1</td>\n",
       "    </tr>\n",
       "    <tr>\n",
       "      <th>4</th>\n",
       "      <td>7</td>\n",
       "      <td>NaN</td>\n",
       "      <td>NaN</td>\n",
       "      <td>Just got sent this photo from Ruby #Alaska as ...</td>\n",
       "      <td>1</td>\n",
       "    </tr>\n",
       "  </tbody>\n",
       "</table>\n",
       "</div>"
      ],
      "text/plain": [
       "   id keyword location                                               text  \\\n",
       "0   1     NaN      NaN  Our Deeds are the Reason of this #earthquake M...   \n",
       "1   4     NaN      NaN             Forest fire near La Ronge Sask. Canada   \n",
       "2   5     NaN      NaN  All residents asked to 'shelter in place' are ...   \n",
       "3   6     NaN      NaN  13,000 people receive #wildfires evacuation or...   \n",
       "4   7     NaN      NaN  Just got sent this photo from Ruby #Alaska as ...   \n",
       "\n",
       "   target  \n",
       "0       1  \n",
       "1       1  \n",
       "2       1  \n",
       "3       1  \n",
       "4       1  "
      ]
     },
     "execution_count": 3,
     "metadata": {},
     "output_type": "execute_result"
    }
   ],
   "source": [
    "train_df.head()"
   ]
  },
  {
   "cell_type": "code",
   "execution_count": 4,
   "id": "ee029ec7",
   "metadata": {
    "execution": {
     "iopub.execute_input": "2025-10-27T13:14:29.336662Z",
     "iopub.status.busy": "2025-10-27T13:14:29.336292Z",
     "iopub.status.idle": "2025-10-27T13:14:29.347573Z",
     "shell.execute_reply": "2025-10-27T13:14:29.346707Z"
    },
    "papermill": {
     "duration": 0.016823,
     "end_time": "2025-10-27T13:14:29.348739",
     "exception": false,
     "start_time": "2025-10-27T13:14:29.331916",
     "status": "completed"
    },
    "tags": []
   },
   "outputs": [
    {
     "name": "stdout",
     "output_type": "stream",
     "text": [
      "Non Disaster Tweet Count :  4342\n",
      "Disaster Tweet Count :  3271\n"
     ]
    }
   ],
   "source": [
    "print(\"Non Disaster Tweet Count : \",train_df[train_df['target'] == 0]['text'].shape[0])\n",
    "print(\"Disaster Tweet Count : \",train_df[train_df['target'] == 1]['text'].shape[0])"
   ]
  },
  {
   "cell_type": "code",
   "execution_count": 5,
   "id": "7caf9ceb",
   "metadata": {
    "execution": {
     "iopub.execute_input": "2025-10-27T13:14:29.357433Z",
     "iopub.status.busy": "2025-10-27T13:14:29.357238Z",
     "iopub.status.idle": "2025-10-27T13:14:29.370303Z",
     "shell.execute_reply": "2025-10-27T13:14:29.369440Z"
    },
    "papermill": {
     "duration": 0.018507,
     "end_time": "2025-10-27T13:14:29.371453",
     "exception": false,
     "start_time": "2025-10-27T13:14:29.352946",
     "status": "completed"
    },
    "tags": []
   },
   "outputs": [
    {
     "data": {
      "text/html": [
       "<div>\n",
       "<style scoped>\n",
       "    .dataframe tbody tr th:only-of-type {\n",
       "        vertical-align: middle;\n",
       "    }\n",
       "\n",
       "    .dataframe tbody tr th {\n",
       "        vertical-align: top;\n",
       "    }\n",
       "\n",
       "    .dataframe thead th {\n",
       "        text-align: right;\n",
       "    }\n",
       "</style>\n",
       "<table border=\"1\" class=\"dataframe\">\n",
       "  <thead>\n",
       "    <tr style=\"text-align: right;\">\n",
       "      <th></th>\n",
       "      <th>target</th>\n",
       "      <th>text</th>\n",
       "    </tr>\n",
       "  </thead>\n",
       "  <tbody>\n",
       "    <tr>\n",
       "      <th>0</th>\n",
       "      <td>0</td>\n",
       "      <td>4342</td>\n",
       "    </tr>\n",
       "    <tr>\n",
       "      <th>1</th>\n",
       "      <td>1</td>\n",
       "      <td>3271</td>\n",
       "    </tr>\n",
       "  </tbody>\n",
       "</table>\n",
       "</div>"
      ],
      "text/plain": [
       "   target  text\n",
       "0       0  4342\n",
       "1       1  3271"
      ]
     },
     "execution_count": 5,
     "metadata": {},
     "output_type": "execute_result"
    }
   ],
   "source": [
    "train_df.groupby('target').count()['text'].reset_index()"
   ]
  },
  {
   "cell_type": "code",
   "execution_count": 6,
   "id": "47f22bb7",
   "metadata": {
    "execution": {
     "iopub.execute_input": "2025-10-27T13:14:29.380426Z",
     "iopub.status.busy": "2025-10-27T13:14:29.380113Z",
     "iopub.status.idle": "2025-10-27T13:14:29.393172Z",
     "shell.execute_reply": "2025-10-27T13:14:29.392681Z"
    },
    "papermill": {
     "duration": 0.0187,
     "end_time": "2025-10-27T13:14:29.394136",
     "exception": false,
     "start_time": "2025-10-27T13:14:29.375436",
     "status": "completed"
    },
    "tags": []
   },
   "outputs": [],
   "source": [
    "train_df['word_count'] = train_df['text'].apply(lambda x: len(str(x).split()))"
   ]
  },
  {
   "cell_type": "code",
   "execution_count": 7,
   "id": "ed4b24ca",
   "metadata": {
    "execution": {
     "iopub.execute_input": "2025-10-27T13:14:29.404133Z",
     "iopub.status.busy": "2025-10-27T13:14:29.403937Z",
     "iopub.status.idle": "2025-10-27T13:14:29.412128Z",
     "shell.execute_reply": "2025-10-27T13:14:29.411538Z"
    },
    "papermill": {
     "duration": 0.014919,
     "end_time": "2025-10-27T13:14:29.413304",
     "exception": false,
     "start_time": "2025-10-27T13:14:29.398385",
     "status": "completed"
    },
    "tags": []
   },
   "outputs": [
    {
     "data": {
      "text/html": [
       "<div>\n",
       "<style scoped>\n",
       "    .dataframe tbody tr th:only-of-type {\n",
       "        vertical-align: middle;\n",
       "    }\n",
       "\n",
       "    .dataframe tbody tr th {\n",
       "        vertical-align: top;\n",
       "    }\n",
       "\n",
       "    .dataframe thead th {\n",
       "        text-align: right;\n",
       "    }\n",
       "</style>\n",
       "<table border=\"1\" class=\"dataframe\">\n",
       "  <thead>\n",
       "    <tr style=\"text-align: right;\">\n",
       "      <th></th>\n",
       "      <th>text</th>\n",
       "      <th>word_count</th>\n",
       "    </tr>\n",
       "  </thead>\n",
       "  <tbody>\n",
       "    <tr>\n",
       "      <th>0</th>\n",
       "      <td>Our Deeds are the Reason of this #earthquake M...</td>\n",
       "      <td>13</td>\n",
       "    </tr>\n",
       "    <tr>\n",
       "      <th>1</th>\n",
       "      <td>Forest fire near La Ronge Sask. Canada</td>\n",
       "      <td>7</td>\n",
       "    </tr>\n",
       "    <tr>\n",
       "      <th>2</th>\n",
       "      <td>All residents asked to 'shelter in place' are ...</td>\n",
       "      <td>22</td>\n",
       "    </tr>\n",
       "    <tr>\n",
       "      <th>3</th>\n",
       "      <td>13,000 people receive #wildfires evacuation or...</td>\n",
       "      <td>8</td>\n",
       "    </tr>\n",
       "    <tr>\n",
       "      <th>4</th>\n",
       "      <td>Just got sent this photo from Ruby #Alaska as ...</td>\n",
       "      <td>16</td>\n",
       "    </tr>\n",
       "  </tbody>\n",
       "</table>\n",
       "</div>"
      ],
      "text/plain": [
       "                                                text  word_count\n",
       "0  Our Deeds are the Reason of this #earthquake M...          13\n",
       "1             Forest fire near La Ronge Sask. Canada           7\n",
       "2  All residents asked to 'shelter in place' are ...          22\n",
       "3  13,000 people receive #wildfires evacuation or...           8\n",
       "4  Just got sent this photo from Ruby #Alaska as ...          16"
      ]
     },
     "execution_count": 7,
     "metadata": {},
     "output_type": "execute_result"
    }
   ],
   "source": [
    "train_df.loc[:,['text','word_count']].head()"
   ]
  },
  {
   "cell_type": "code",
   "execution_count": 8,
   "id": "5f2b7bab",
   "metadata": {
    "execution": {
     "iopub.execute_input": "2025-10-27T13:14:29.424187Z",
     "iopub.status.busy": "2025-10-27T13:14:29.423956Z",
     "iopub.status.idle": "2025-10-27T13:14:29.427648Z",
     "shell.execute_reply": "2025-10-27T13:14:29.427100Z"
    },
    "papermill": {
     "duration": 0.010457,
     "end_time": "2025-10-27T13:14:29.428650",
     "exception": false,
     "start_time": "2025-10-27T13:14:29.418193",
     "status": "completed"
    },
    "tags": []
   },
   "outputs": [],
   "source": [
    "def clean_text(text):\n",
    "    # Remove URLs\n",
    "    text = re.sub(r'http\\S+|www\\S+|https\\S+', '', text)\n",
    "    # Remove mentions and hashtags\n",
    "    text = re.sub(r'@\\w+|\\w+', '', text)\n",
    "    # Remove special characters and numbers\n",
    "    text = re.sub(r'[^a-zA-Z\\s]', '', text)\n",
    "    # Convert to lowercase\n",
    "    text = text.lower()\n",
    "    # Remove extra whitespace\n",
    "    text = ' '.join(text.split())\n",
    "    return text"
   ]
  },
  {
   "cell_type": "code",
   "execution_count": 9,
   "id": "8c41a36a",
   "metadata": {
    "execution": {
     "iopub.execute_input": "2025-10-27T13:14:29.437763Z",
     "iopub.status.busy": "2025-10-27T13:14:29.437590Z",
     "iopub.status.idle": "2025-10-27T13:14:29.509612Z",
     "shell.execute_reply": "2025-10-27T13:14:29.509009Z"
    },
    "papermill": {
     "duration": 0.077775,
     "end_time": "2025-10-27T13:14:29.510736",
     "exception": false,
     "start_time": "2025-10-27T13:14:29.432961",
     "status": "completed"
    },
    "tags": []
   },
   "outputs": [],
   "source": [
    "train_df['modified_text'] = train_df['text'].apply(clean_text)"
   ]
  },
  {
   "cell_type": "code",
   "execution_count": 10,
   "id": "8ce885d9",
   "metadata": {
    "execution": {
     "iopub.execute_input": "2025-10-27T13:14:29.520051Z",
     "iopub.status.busy": "2025-10-27T13:14:29.519446Z",
     "iopub.status.idle": "2025-10-27T13:14:29.551903Z",
     "shell.execute_reply": "2025-10-27T13:14:29.551208Z"
    },
    "papermill": {
     "duration": 0.038147,
     "end_time": "2025-10-27T13:14:29.552946",
     "exception": false,
     "start_time": "2025-10-27T13:14:29.514799",
     "status": "completed"
    },
    "tags": []
   },
   "outputs": [],
   "source": [
    "test_df['modified_text'] = test_df['text'].apply(clean_text)"
   ]
  },
  {
   "cell_type": "code",
   "execution_count": 11,
   "id": "d62ed290",
   "metadata": {
    "execution": {
     "iopub.execute_input": "2025-10-27T13:14:29.561728Z",
     "iopub.status.busy": "2025-10-27T13:14:29.561553Z",
     "iopub.status.idle": "2025-10-27T13:14:29.566461Z",
     "shell.execute_reply": "2025-10-27T13:14:29.565797Z"
    },
    "papermill": {
     "duration": 0.010673,
     "end_time": "2025-10-27T13:14:29.567608",
     "exception": false,
     "start_time": "2025-10-27T13:14:29.556935",
     "status": "completed"
    },
    "tags": []
   },
   "outputs": [
    {
     "data": {
      "text/plain": [
       "31"
      ]
     },
     "execution_count": 11,
     "metadata": {},
     "output_type": "execute_result"
    }
   ],
   "source": [
    "max(train_df['word_count'])"
   ]
  },
  {
   "cell_type": "code",
   "execution_count": 12,
   "id": "c79ff373",
   "metadata": {
    "execution": {
     "iopub.execute_input": "2025-10-27T13:14:29.577383Z",
     "iopub.status.busy": "2025-10-27T13:14:29.576779Z",
     "iopub.status.idle": "2025-10-27T13:14:29.584894Z",
     "shell.execute_reply": "2025-10-27T13:14:29.584288Z"
    },
    "papermill": {
     "duration": 0.014069,
     "end_time": "2025-10-27T13:14:29.585986",
     "exception": false,
     "start_time": "2025-10-27T13:14:29.571917",
     "status": "completed"
    },
    "tags": []
   },
   "outputs": [
    {
     "data": {
      "text/plain": [
       "target\n",
       "0    0.57034\n",
       "1    0.42966\n",
       "Name: proportion, dtype: float64"
      ]
     },
     "execution_count": 12,
     "metadata": {},
     "output_type": "execute_result"
    }
   ],
   "source": [
    "train_df['target'].value_counts(normalize=True)"
   ]
  },
  {
   "cell_type": "code",
   "execution_count": 13,
   "id": "5e55a93d",
   "metadata": {
    "execution": {
     "iopub.execute_input": "2025-10-27T13:14:29.595849Z",
     "iopub.status.busy": "2025-10-27T13:14:29.595465Z",
     "iopub.status.idle": "2025-10-27T13:14:43.782004Z",
     "shell.execute_reply": "2025-10-27T13:14:43.781355Z"
    },
    "papermill": {
     "duration": 14.193065,
     "end_time": "2025-10-27T13:14:43.783476",
     "exception": false,
     "start_time": "2025-10-27T13:14:29.590411",
     "status": "completed"
    },
    "tags": []
   },
   "outputs": [
    {
     "name": "stderr",
     "output_type": "stream",
     "text": [
      "2025-10-27 13:14:31.307061: E external/local_xla/xla/stream_executor/cuda/cuda_fft.cc:477] Unable to register cuFFT factory: Attempting to register factory for plugin cuFFT when one has already been registered\n",
      "WARNING: All log messages before absl::InitializeLog() is called are written to STDERR\n",
      "E0000 00:00:1761570871.520252      19 cuda_dnn.cc:8310] Unable to register cuDNN factory: Attempting to register factory for plugin cuDNN when one has already been registered\n",
      "E0000 00:00:1761570871.580340      19 cuda_blas.cc:1418] Unable to register cuBLAS factory: Attempting to register factory for plugin cuBLAS when one has already been registered\n"
     ]
    }
   ],
   "source": [
    "from tensorflow.keras.preprocessing.text import Tokenizer\n",
    "from tensorflow.keras.preprocessing.sequence import pad_sequences\n",
    "from tensorflow.keras.models import Sequential\n",
    "from tensorflow.keras.layers import LSTM, Dropout, Embedding, Dense\n",
    "from tensorflow.keras.callbacks import EarlyStopping\n",
    "\n",
    "from sklearn.model_selection import train_test_split\n",
    "from sklearn.metrics import f1_score"
   ]
  },
  {
   "cell_type": "code",
   "execution_count": 14,
   "id": "6e62eef3",
   "metadata": {
    "execution": {
     "iopub.execute_input": "2025-10-27T13:14:43.794038Z",
     "iopub.status.busy": "2025-10-27T13:14:43.793338Z",
     "iopub.status.idle": "2025-10-27T13:14:43.804307Z",
     "shell.execute_reply": "2025-10-27T13:14:43.803764Z"
    },
    "papermill": {
     "duration": 0.017139,
     "end_time": "2025-10-27T13:14:43.805361",
     "exception": false,
     "start_time": "2025-10-27T13:14:43.788222",
     "status": "completed"
    },
    "tags": []
   },
   "outputs": [
    {
     "data": {
      "text/plain": [
       "count    7613.000000\n",
       "mean       14.903586\n",
       "std         5.732604\n",
       "min         1.000000\n",
       "25%        11.000000\n",
       "50%        15.000000\n",
       "75%        19.000000\n",
       "max        31.000000\n",
       "Name: word_count, dtype: float64"
      ]
     },
     "execution_count": 14,
     "metadata": {},
     "output_type": "execute_result"
    }
   ],
   "source": [
    "train_df['word_count'].describe()"
   ]
  },
  {
   "cell_type": "code",
   "execution_count": 15,
   "id": "10f9f3f4",
   "metadata": {
    "execution": {
     "iopub.execute_input": "2025-10-27T13:14:43.815282Z",
     "iopub.status.busy": "2025-10-27T13:14:43.814823Z",
     "iopub.status.idle": "2025-10-27T13:14:43.817769Z",
     "shell.execute_reply": "2025-10-27T13:14:43.817285Z"
    },
    "papermill": {
     "duration": 0.009101,
     "end_time": "2025-10-27T13:14:43.818797",
     "exception": false,
     "start_time": "2025-10-27T13:14:43.809696",
     "status": "completed"
    },
    "tags": []
   },
   "outputs": [],
   "source": [
    "max_words = 20000\n",
    "max_len = 50\n",
    "EMBEDDING_DIM = 100"
   ]
  },
  {
   "cell_type": "code",
   "execution_count": 16,
   "id": "c6cecd4a",
   "metadata": {
    "execution": {
     "iopub.execute_input": "2025-10-27T13:14:43.828702Z",
     "iopub.status.busy": "2025-10-27T13:14:43.828178Z",
     "iopub.status.idle": "2025-10-27T13:14:43.860584Z",
     "shell.execute_reply": "2025-10-27T13:14:43.859975Z"
    },
    "papermill": {
     "duration": 0.038212,
     "end_time": "2025-10-27T13:14:43.861699",
     "exception": false,
     "start_time": "2025-10-27T13:14:43.823487",
     "status": "completed"
    },
    "tags": []
   },
   "outputs": [],
   "source": [
    "tokenizer = Tokenizer(\n",
    "    num_words = max_words\n",
    ")\n",
    "\n",
    "tokenizer.fit_on_texts(train_df['modified_text'])"
   ]
  },
  {
   "cell_type": "code",
   "execution_count": 17,
   "id": "5fad7514",
   "metadata": {
    "execution": {
     "iopub.execute_input": "2025-10-27T13:14:43.871345Z",
     "iopub.status.busy": "2025-10-27T13:14:43.871119Z",
     "iopub.status.idle": "2025-10-27T13:14:43.916416Z",
     "shell.execute_reply": "2025-10-27T13:14:43.915886Z"
    },
    "papermill": {
     "duration": 0.051367,
     "end_time": "2025-10-27T13:14:43.917464",
     "exception": false,
     "start_time": "2025-10-27T13:14:43.866097",
     "status": "completed"
    },
    "tags": []
   },
   "outputs": [],
   "source": [
    "X_train = tokenizer.texts_to_sequences(train_df['modified_text'])\n",
    "X_test = tokenizer.texts_to_sequences(test_df['modified_text'])"
   ]
  },
  {
   "cell_type": "code",
   "execution_count": 18,
   "id": "d6535593",
   "metadata": {
    "execution": {
     "iopub.execute_input": "2025-10-27T13:14:43.927310Z",
     "iopub.status.busy": "2025-10-27T13:14:43.927106Z",
     "iopub.status.idle": "2025-10-27T13:14:43.932222Z",
     "shell.execute_reply": "2025-10-27T13:14:43.931733Z"
    },
    "papermill": {
     "duration": 0.011107,
     "end_time": "2025-10-27T13:14:43.933150",
     "exception": false,
     "start_time": "2025-10-27T13:14:43.922043",
     "status": "completed"
    },
    "tags": []
   },
   "outputs": [],
   "source": [
    "X_train = pad_sequences(\n",
    "    X_train,\n",
    "    maxlen = max_len,\n",
    "    padding = 'post'\n",
    ")\n",
    "\n",
    "X_test = pad_sequences(\n",
    "    X_test,\n",
    "    maxlen = max_len,\n",
    "    padding = 'post'\n",
    ")\n"
   ]
  },
  {
   "cell_type": "code",
   "execution_count": 19,
   "id": "40eeb7e9",
   "metadata": {
    "execution": {
     "iopub.execute_input": "2025-10-27T13:14:43.942562Z",
     "iopub.status.busy": "2025-10-27T13:14:43.942325Z",
     "iopub.status.idle": "2025-10-27T13:14:43.945201Z",
     "shell.execute_reply": "2025-10-27T13:14:43.944703Z"
    },
    "papermill": {
     "duration": 0.00875,
     "end_time": "2025-10-27T13:14:43.946171",
     "exception": false,
     "start_time": "2025-10-27T13:14:43.937421",
     "status": "completed"
    },
    "tags": []
   },
   "outputs": [],
   "source": [
    "Y_train = train_df['target']"
   ]
  },
  {
   "cell_type": "code",
   "execution_count": 20,
   "id": "d3756807",
   "metadata": {
    "execution": {
     "iopub.execute_input": "2025-10-27T13:14:43.955827Z",
     "iopub.status.busy": "2025-10-27T13:14:43.955630Z",
     "iopub.status.idle": "2025-10-27T13:14:43.959211Z",
     "shell.execute_reply": "2025-10-27T13:14:43.958565Z"
    },
    "papermill": {
     "duration": 0.00949,
     "end_time": "2025-10-27T13:14:43.960240",
     "exception": false,
     "start_time": "2025-10-27T13:14:43.950750",
     "status": "completed"
    },
    "tags": []
   },
   "outputs": [
    {
     "name": "stdout",
     "output_type": "stream",
     "text": [
      "X_train shape: (7613, 50)\n",
      "X_test shape: (3263, 50)\n",
      "Vocabulary size: 0\n"
     ]
    }
   ],
   "source": [
    "print(f\"X_train shape: {X_train.shape}\")\n",
    "print(f\"X_test shape: {X_test.shape}\")\n",
    "print(f\"Vocabulary size: {len(tokenizer.word_index)}\")"
   ]
  },
  {
   "cell_type": "code",
   "execution_count": 21,
   "id": "fee5240f",
   "metadata": {
    "execution": {
     "iopub.execute_input": "2025-10-27T13:14:43.969980Z",
     "iopub.status.busy": "2025-10-27T13:14:43.969767Z",
     "iopub.status.idle": "2025-10-27T13:14:44.841330Z",
     "shell.execute_reply": "2025-10-27T13:14:44.840318Z"
    },
    "papermill": {
     "duration": 0.8776,
     "end_time": "2025-10-27T13:14:44.842483",
     "exception": false,
     "start_time": "2025-10-27T13:14:43.964883",
     "status": "completed"
    },
    "tags": []
   },
   "outputs": [
    {
     "name": "stderr",
     "output_type": "stream",
     "text": [
      "I0000 00:00:1761570884.797056      19 gpu_device.cc:2022] Created device /job:localhost/replica:0/task:0/device:GPU:0 with 13942 MB memory:  -> device: 0, name: Tesla T4, pci bus id: 0000:00:04.0, compute capability: 7.5\n",
      "I0000 00:00:1761570884.797780      19 gpu_device.cc:2022] Created device /job:localhost/replica:0/task:0/device:GPU:1 with 13942 MB memory:  -> device: 1, name: Tesla T4, pci bus id: 0000:00:05.0, compute capability: 7.5\n"
     ]
    }
   ],
   "source": [
    "model = Sequential([\n",
    "    Embedding(input_dim = max_words, output_dim = EMBEDDING_DIM),\n",
    "    LSTM(64, dropout = 0.2),\n",
    "    Dense(32, activation = 'relu'),\n",
    "    Dropout(0.5),\n",
    "    Dense(1, activation = 'sigmoid')\n",
    "])"
   ]
  },
  {
   "cell_type": "code",
   "execution_count": 22,
   "id": "4ab757c8",
   "metadata": {
    "execution": {
     "iopub.execute_input": "2025-10-27T13:14:44.853038Z",
     "iopub.status.busy": "2025-10-27T13:14:44.852399Z",
     "iopub.status.idle": "2025-10-27T13:14:44.869628Z",
     "shell.execute_reply": "2025-10-27T13:14:44.869076Z"
    },
    "papermill": {
     "duration": 0.023673,
     "end_time": "2025-10-27T13:14:44.870835",
     "exception": false,
     "start_time": "2025-10-27T13:14:44.847162",
     "status": "completed"
    },
    "tags": []
   },
   "outputs": [],
   "source": [
    "model.compile(\n",
    "    optimizer = 'adam',\n",
    "    loss = 'binary_crossentropy',\n",
    "    metrics = ['accuracy']\n",
    ")"
   ]
  },
  {
   "cell_type": "code",
   "execution_count": 23,
   "id": "e1d35f66",
   "metadata": {
    "execution": {
     "iopub.execute_input": "2025-10-27T13:14:44.880949Z",
     "iopub.status.busy": "2025-10-27T13:14:44.880414Z",
     "iopub.status.idle": "2025-10-27T13:14:44.887436Z",
     "shell.execute_reply": "2025-10-27T13:14:44.886890Z"
    },
    "papermill": {
     "duration": 0.013096,
     "end_time": "2025-10-27T13:14:44.888630",
     "exception": false,
     "start_time": "2025-10-27T13:14:44.875534",
     "status": "completed"
    },
    "tags": []
   },
   "outputs": [],
   "source": [
    "X_train_split, X_val, y_train_split, y_val = train_test_split(\n",
    "    X_train, Y_train, test_size=0.2, random_state=42\n",
    ")"
   ]
  },
  {
   "cell_type": "code",
   "execution_count": 24,
   "id": "120221b4",
   "metadata": {
    "execution": {
     "iopub.execute_input": "2025-10-27T13:14:44.898488Z",
     "iopub.status.busy": "2025-10-27T13:14:44.898270Z",
     "iopub.status.idle": "2025-10-27T13:14:44.901779Z",
     "shell.execute_reply": "2025-10-27T13:14:44.901070Z"
    },
    "papermill": {
     "duration": 0.009563,
     "end_time": "2025-10-27T13:14:44.902971",
     "exception": false,
     "start_time": "2025-10-27T13:14:44.893408",
     "status": "completed"
    },
    "tags": []
   },
   "outputs": [],
   "source": [
    "early_stopping = EarlyStopping(\n",
    "    monitor='val_loss',\n",
    "    patience=3,\n",
    "    restore_best_weights=True,\n",
    "    verbose=1\n",
    ")"
   ]
  },
  {
   "cell_type": "code",
   "execution_count": 25,
   "id": "1dd9277c",
   "metadata": {
    "execution": {
     "iopub.execute_input": "2025-10-27T13:14:44.912678Z",
     "iopub.status.busy": "2025-10-27T13:14:44.912441Z",
     "iopub.status.idle": "2025-10-27T13:14:55.239751Z",
     "shell.execute_reply": "2025-10-27T13:14:55.239163Z"
    },
    "papermill": {
     "duration": 10.333381,
     "end_time": "2025-10-27T13:14:55.240876",
     "exception": false,
     "start_time": "2025-10-27T13:14:44.907495",
     "status": "completed"
    },
    "tags": []
   },
   "outputs": [
    {
     "name": "stdout",
     "output_type": "stream",
     "text": [
      "Epoch 1/10\n"
     ]
    },
    {
     "name": "stderr",
     "output_type": "stream",
     "text": [
      "I0000 00:00:1761570890.560313      61 cuda_dnn.cc:529] Loaded cuDNN version 90300\n"
     ]
    },
    {
     "name": "stdout",
     "output_type": "stream",
     "text": [
      "\u001b[1m96/96\u001b[0m \u001b[32m━━━━━━━━━━━━━━━━━━━━\u001b[0m\u001b[37m\u001b[0m \u001b[1m8s\u001b[0m 14ms/step - accuracy: 0.5686 - loss: 0.6873 - val_accuracy: 0.5739 - val_loss: 0.6823\n",
      "Epoch 2/10\n",
      "\u001b[1m96/96\u001b[0m \u001b[32m━━━━━━━━━━━━━━━━━━━━\u001b[0m\u001b[37m\u001b[0m \u001b[1m1s\u001b[0m 8ms/step - accuracy: 0.5734 - loss: 0.6859 - val_accuracy: 0.5739 - val_loss: 0.6843\n",
      "Epoch 3/10\n",
      "\u001b[1m96/96\u001b[0m \u001b[32m━━━━━━━━━━━━━━━━━━━━\u001b[0m\u001b[37m\u001b[0m \u001b[1m1s\u001b[0m 8ms/step - accuracy: 0.5638 - loss: 0.6866 - val_accuracy: 0.5739 - val_loss: 0.6834\n",
      "Epoch 4/10\n",
      "\u001b[1m96/96\u001b[0m \u001b[32m━━━━━━━━━━━━━━━━━━━━\u001b[0m\u001b[37m\u001b[0m \u001b[1m1s\u001b[0m 8ms/step - accuracy: 0.5655 - loss: 0.6864 - val_accuracy: 0.5739 - val_loss: 0.6823\n",
      "Epoch 4: early stopping\n",
      "Restoring model weights from the end of the best epoch: 1.\n"
     ]
    }
   ],
   "source": [
    "history = model.fit(\n",
    "    X_train_split, y_train_split,\n",
    "    validation_data=(X_val, y_val),\n",
    "    epochs=10,\n",
    "    batch_size=64,\n",
    "    callbacks=[early_stopping],\n",
    "    verbose=1\n",
    ")"
   ]
  },
  {
   "cell_type": "code",
   "execution_count": 26,
   "id": "88dff9d8",
   "metadata": {
    "execution": {
     "iopub.execute_input": "2025-10-27T13:14:55.257099Z",
     "iopub.status.busy": "2025-10-27T13:14:55.256654Z",
     "iopub.status.idle": "2025-10-27T13:14:56.013898Z",
     "shell.execute_reply": "2025-10-27T13:14:56.013121Z"
    },
    "papermill": {
     "duration": 0.766375,
     "end_time": "2025-10-27T13:14:56.015182",
     "exception": false,
     "start_time": "2025-10-27T13:14:55.248807",
     "status": "completed"
    },
    "tags": []
   },
   "outputs": [
    {
     "name": "stdout",
     "output_type": "stream",
     "text": [
      "\u001b[1m102/102\u001b[0m \u001b[32m━━━━━━━━━━━━━━━━━━━━\u001b[0m\u001b[37m\u001b[0m \u001b[1m1s\u001b[0m 4ms/step\n"
     ]
    }
   ],
   "source": [
    "predd = model.predict(X_test)"
   ]
  },
  {
   "cell_type": "code",
   "execution_count": 27,
   "id": "d76ccfc8",
   "metadata": {
    "execution": {
     "iopub.execute_input": "2025-10-27T13:14:56.031108Z",
     "iopub.status.busy": "2025-10-27T13:14:56.030829Z",
     "iopub.status.idle": "2025-10-27T13:14:56.034630Z",
     "shell.execute_reply": "2025-10-27T13:14:56.033975Z"
    },
    "papermill": {
     "duration": 0.012631,
     "end_time": "2025-10-27T13:14:56.035754",
     "exception": false,
     "start_time": "2025-10-27T13:14:56.023123",
     "status": "completed"
    },
    "tags": []
   },
   "outputs": [
    {
     "name": "stdout",
     "output_type": "stream",
     "text": [
      "0\n"
     ]
    }
   ],
   "source": [
    "print(len(tokenizer.word_index))\n"
   ]
  },
  {
   "cell_type": "code",
   "execution_count": 28,
   "id": "47e23be8",
   "metadata": {
    "execution": {
     "iopub.execute_input": "2025-10-27T13:14:56.051532Z",
     "iopub.status.busy": "2025-10-27T13:14:56.051273Z",
     "iopub.status.idle": "2025-10-27T13:14:56.054594Z",
     "shell.execute_reply": "2025-10-27T13:14:56.054060Z"
    },
    "papermill": {
     "duration": 0.01225,
     "end_time": "2025-10-27T13:14:56.055566",
     "exception": false,
     "start_time": "2025-10-27T13:14:56.043316",
     "status": "completed"
    },
    "tags": []
   },
   "outputs": [],
   "source": [
    "pred = (predd > 0.5).astype(int).ravel()"
   ]
  },
  {
   "cell_type": "code",
   "execution_count": 29,
   "id": "4edf79d8",
   "metadata": {
    "execution": {
     "iopub.execute_input": "2025-10-27T13:14:56.071228Z",
     "iopub.status.busy": "2025-10-27T13:14:56.070993Z",
     "iopub.status.idle": "2025-10-27T13:14:56.081076Z",
     "shell.execute_reply": "2025-10-27T13:14:56.080514Z"
    },
    "papermill": {
     "duration": 0.018959,
     "end_time": "2025-10-27T13:14:56.082257",
     "exception": false,
     "start_time": "2025-10-27T13:14:56.063298",
     "status": "completed"
    },
    "tags": []
   },
   "outputs": [],
   "source": [
    "submission = pd.DataFrame({\n",
    "    'id': test_df['id'],\n",
    "    'target': pred.ravel()\n",
    "})\n",
    "\n",
    "submission.to_csv('submission.csv', index=False)"
   ]
  }
 ],
 "metadata": {
  "kaggle": {
   "accelerator": "nvidiaTeslaT4",
   "dataSources": [
    {
     "databundleVersionId": 869809,
     "sourceId": 17777,
     "sourceType": "competition"
    }
   ],
   "dockerImageVersionId": 31153,
   "isGpuEnabled": true,
   "isInternetEnabled": true,
   "language": "python",
   "sourceType": "notebook"
  },
  "kernelspec": {
   "display_name": "Python 3",
   "language": "python",
   "name": "python3"
  },
  "language_info": {
   "codemirror_mode": {
    "name": "ipython",
    "version": 3
   },
   "file_extension": ".py",
   "mimetype": "text/x-python",
   "name": "python",
   "nbconvert_exporter": "python",
   "pygments_lexer": "ipython3",
   "version": "3.11.13"
  },
  "papermill": {
   "default_parameters": {},
   "duration": 34.915042,
   "end_time": "2025-10-27T13:14:59.065056",
   "environment_variables": {},
   "exception": null,
   "input_path": "__notebook__.ipynb",
   "output_path": "__notebook__.ipynb",
   "parameters": {},
   "start_time": "2025-10-27T13:14:24.150014",
   "version": "2.6.0"
  }
 },
 "nbformat": 4,
 "nbformat_minor": 5
}
