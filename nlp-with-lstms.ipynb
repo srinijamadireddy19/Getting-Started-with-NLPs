{
 "cells": [
  {
   "cell_type": "code",
   "execution_count": 1,
   "id": "f86ea4ca",
   "metadata": {
    "execution": {
     "iopub.execute_input": "2025-10-23T13:11:36.343302Z",
     "iopub.status.busy": "2025-10-23T13:11:36.343094Z",
     "iopub.status.idle": "2025-10-23T13:11:37.804670Z",
     "shell.execute_reply": "2025-10-23T13:11:37.803894Z"
    },
    "papermill": {
     "duration": 1.468189,
     "end_time": "2025-10-23T13:11:37.806136",
     "exception": false,
     "start_time": "2025-10-23T13:11:36.337947",
     "status": "completed"
    },
    "tags": []
   },
   "outputs": [],
   "source": [
    "import numpy as np # linear algebra\n",
    "import pandas as pd \n",
    "import re"
   ]
  },
  {
   "cell_type": "code",
   "execution_count": 2,
   "id": "055a1a74",
   "metadata": {
    "execution": {
     "iopub.execute_input": "2025-10-23T13:11:37.814739Z",
     "iopub.status.busy": "2025-10-23T13:11:37.814441Z",
     "iopub.status.idle": "2025-10-23T13:11:37.872161Z",
     "shell.execute_reply": "2025-10-23T13:11:37.871607Z"
    },
    "papermill": {
     "duration": 0.063123,
     "end_time": "2025-10-23T13:11:37.873213",
     "exception": false,
     "start_time": "2025-10-23T13:11:37.810090",
     "status": "completed"
    },
    "tags": []
   },
   "outputs": [],
   "source": [
    "train_df = pd.read_csv(\"/kaggle/input/nlp-getting-started/train.csv\")\n",
    "test_df = pd.read_csv(\"/kaggle/input/nlp-getting-started/test.csv\")"
   ]
  },
  {
   "cell_type": "code",
   "execution_count": 3,
   "id": "314cd096",
   "metadata": {
    "execution": {
     "iopub.execute_input": "2025-10-23T13:11:37.880913Z",
     "iopub.status.busy": "2025-10-23T13:11:37.880697Z",
     "iopub.status.idle": "2025-10-23T13:11:37.899111Z",
     "shell.execute_reply": "2025-10-23T13:11:37.898477Z"
    },
    "papermill": {
     "duration": 0.023581,
     "end_time": "2025-10-23T13:11:37.900271",
     "exception": false,
     "start_time": "2025-10-23T13:11:37.876690",
     "status": "completed"
    },
    "tags": []
   },
   "outputs": [
    {
     "data": {
      "text/html": [
       "<div>\n",
       "<style scoped>\n",
       "    .dataframe tbody tr th:only-of-type {\n",
       "        vertical-align: middle;\n",
       "    }\n",
       "\n",
       "    .dataframe tbody tr th {\n",
       "        vertical-align: top;\n",
       "    }\n",
       "\n",
       "    .dataframe thead th {\n",
       "        text-align: right;\n",
       "    }\n",
       "</style>\n",
       "<table border=\"1\" class=\"dataframe\">\n",
       "  <thead>\n",
       "    <tr style=\"text-align: right;\">\n",
       "      <th></th>\n",
       "      <th>id</th>\n",
       "      <th>keyword</th>\n",
       "      <th>location</th>\n",
       "      <th>text</th>\n",
       "      <th>target</th>\n",
       "    </tr>\n",
       "  </thead>\n",
       "  <tbody>\n",
       "    <tr>\n",
       "      <th>0</th>\n",
       "      <td>1</td>\n",
       "      <td>NaN</td>\n",
       "      <td>NaN</td>\n",
       "      <td>Our Deeds are the Reason of this #earthquake M...</td>\n",
       "      <td>1</td>\n",
       "    </tr>\n",
       "    <tr>\n",
       "      <th>1</th>\n",
       "      <td>4</td>\n",
       "      <td>NaN</td>\n",
       "      <td>NaN</td>\n",
       "      <td>Forest fire near La Ronge Sask. Canada</td>\n",
       "      <td>1</td>\n",
       "    </tr>\n",
       "    <tr>\n",
       "      <th>2</th>\n",
       "      <td>5</td>\n",
       "      <td>NaN</td>\n",
       "      <td>NaN</td>\n",
       "      <td>All residents asked to 'shelter in place' are ...</td>\n",
       "      <td>1</td>\n",
       "    </tr>\n",
       "    <tr>\n",
       "      <th>3</th>\n",
       "      <td>6</td>\n",
       "      <td>NaN</td>\n",
       "      <td>NaN</td>\n",
       "      <td>13,000 people receive #wildfires evacuation or...</td>\n",
       "      <td>1</td>\n",
       "    </tr>\n",
       "    <tr>\n",
       "      <th>4</th>\n",
       "      <td>7</td>\n",
       "      <td>NaN</td>\n",
       "      <td>NaN</td>\n",
       "      <td>Just got sent this photo from Ruby #Alaska as ...</td>\n",
       "      <td>1</td>\n",
       "    </tr>\n",
       "  </tbody>\n",
       "</table>\n",
       "</div>"
      ],
      "text/plain": [
       "   id keyword location                                               text  \\\n",
       "0   1     NaN      NaN  Our Deeds are the Reason of this #earthquake M...   \n",
       "1   4     NaN      NaN             Forest fire near La Ronge Sask. Canada   \n",
       "2   5     NaN      NaN  All residents asked to 'shelter in place' are ...   \n",
       "3   6     NaN      NaN  13,000 people receive #wildfires evacuation or...   \n",
       "4   7     NaN      NaN  Just got sent this photo from Ruby #Alaska as ...   \n",
       "\n",
       "   target  \n",
       "0       1  \n",
       "1       1  \n",
       "2       1  \n",
       "3       1  \n",
       "4       1  "
      ]
     },
     "execution_count": 3,
     "metadata": {},
     "output_type": "execute_result"
    }
   ],
   "source": [
    "train_df.head()"
   ]
  },
  {
   "cell_type": "code",
   "execution_count": 4,
   "id": "68e911c7",
   "metadata": {
    "execution": {
     "iopub.execute_input": "2025-10-23T13:11:37.908625Z",
     "iopub.status.busy": "2025-10-23T13:11:37.908116Z",
     "iopub.status.idle": "2025-10-23T13:11:37.918693Z",
     "shell.execute_reply": "2025-10-23T13:11:37.917960Z"
    },
    "papermill": {
     "duration": 0.015857,
     "end_time": "2025-10-23T13:11:37.919906",
     "exception": false,
     "start_time": "2025-10-23T13:11:37.904049",
     "status": "completed"
    },
    "tags": []
   },
   "outputs": [
    {
     "name": "stdout",
     "output_type": "stream",
     "text": [
      "Non Disaster Tweet Count :  4342\n",
      "Disaster Tweet Count :  3271\n"
     ]
    }
   ],
   "source": [
    "print(\"Non Disaster Tweet Count : \",train_df[train_df['target'] == 0]['text'].shape[0])\n",
    "print(\"Disaster Tweet Count : \",train_df[train_df['target'] == 1]['text'].shape[0])"
   ]
  },
  {
   "cell_type": "code",
   "execution_count": 5,
   "id": "a86a6cba",
   "metadata": {
    "execution": {
     "iopub.execute_input": "2025-10-23T13:11:37.928175Z",
     "iopub.status.busy": "2025-10-23T13:11:37.927939Z",
     "iopub.status.idle": "2025-10-23T13:11:37.940674Z",
     "shell.execute_reply": "2025-10-23T13:11:37.940012Z"
    },
    "papermill": {
     "duration": 0.018083,
     "end_time": "2025-10-23T13:11:37.941742",
     "exception": false,
     "start_time": "2025-10-23T13:11:37.923659",
     "status": "completed"
    },
    "tags": []
   },
   "outputs": [
    {
     "data": {
      "text/html": [
       "<div>\n",
       "<style scoped>\n",
       "    .dataframe tbody tr th:only-of-type {\n",
       "        vertical-align: middle;\n",
       "    }\n",
       "\n",
       "    .dataframe tbody tr th {\n",
       "        vertical-align: top;\n",
       "    }\n",
       "\n",
       "    .dataframe thead th {\n",
       "        text-align: right;\n",
       "    }\n",
       "</style>\n",
       "<table border=\"1\" class=\"dataframe\">\n",
       "  <thead>\n",
       "    <tr style=\"text-align: right;\">\n",
       "      <th></th>\n",
       "      <th>target</th>\n",
       "      <th>text</th>\n",
       "    </tr>\n",
       "  </thead>\n",
       "  <tbody>\n",
       "    <tr>\n",
       "      <th>0</th>\n",
       "      <td>0</td>\n",
       "      <td>4342</td>\n",
       "    </tr>\n",
       "    <tr>\n",
       "      <th>1</th>\n",
       "      <td>1</td>\n",
       "      <td>3271</td>\n",
       "    </tr>\n",
       "  </tbody>\n",
       "</table>\n",
       "</div>"
      ],
      "text/plain": [
       "   target  text\n",
       "0       0  4342\n",
       "1       1  3271"
      ]
     },
     "execution_count": 5,
     "metadata": {},
     "output_type": "execute_result"
    }
   ],
   "source": [
    "train_df.groupby('target').count()['text'].reset_index()"
   ]
  },
  {
   "cell_type": "code",
   "execution_count": 6,
   "id": "c55a0aa2",
   "metadata": {
    "execution": {
     "iopub.execute_input": "2025-10-23T13:11:37.950129Z",
     "iopub.status.busy": "2025-10-23T13:11:37.949444Z",
     "iopub.status.idle": "2025-10-23T13:11:37.961919Z",
     "shell.execute_reply": "2025-10-23T13:11:37.961399Z"
    },
    "papermill": {
     "duration": 0.017506,
     "end_time": "2025-10-23T13:11:37.962929",
     "exception": false,
     "start_time": "2025-10-23T13:11:37.945423",
     "status": "completed"
    },
    "tags": []
   },
   "outputs": [],
   "source": [
    "train_df['word_count'] = train_df['text'].apply(lambda x: len(str(x).split()))"
   ]
  },
  {
   "cell_type": "code",
   "execution_count": 7,
   "id": "42403d11",
   "metadata": {
    "execution": {
     "iopub.execute_input": "2025-10-23T13:11:37.971431Z",
     "iopub.status.busy": "2025-10-23T13:11:37.970814Z",
     "iopub.status.idle": "2025-10-23T13:11:37.978424Z",
     "shell.execute_reply": "2025-10-23T13:11:37.977905Z"
    },
    "papermill": {
     "duration": 0.01286,
     "end_time": "2025-10-23T13:11:37.979425",
     "exception": false,
     "start_time": "2025-10-23T13:11:37.966565",
     "status": "completed"
    },
    "tags": []
   },
   "outputs": [
    {
     "data": {
      "text/html": [
       "<div>\n",
       "<style scoped>\n",
       "    .dataframe tbody tr th:only-of-type {\n",
       "        vertical-align: middle;\n",
       "    }\n",
       "\n",
       "    .dataframe tbody tr th {\n",
       "        vertical-align: top;\n",
       "    }\n",
       "\n",
       "    .dataframe thead th {\n",
       "        text-align: right;\n",
       "    }\n",
       "</style>\n",
       "<table border=\"1\" class=\"dataframe\">\n",
       "  <thead>\n",
       "    <tr style=\"text-align: right;\">\n",
       "      <th></th>\n",
       "      <th>text</th>\n",
       "      <th>word_count</th>\n",
       "    </tr>\n",
       "  </thead>\n",
       "  <tbody>\n",
       "    <tr>\n",
       "      <th>0</th>\n",
       "      <td>Our Deeds are the Reason of this #earthquake M...</td>\n",
       "      <td>13</td>\n",
       "    </tr>\n",
       "    <tr>\n",
       "      <th>1</th>\n",
       "      <td>Forest fire near La Ronge Sask. Canada</td>\n",
       "      <td>7</td>\n",
       "    </tr>\n",
       "    <tr>\n",
       "      <th>2</th>\n",
       "      <td>All residents asked to 'shelter in place' are ...</td>\n",
       "      <td>22</td>\n",
       "    </tr>\n",
       "    <tr>\n",
       "      <th>3</th>\n",
       "      <td>13,000 people receive #wildfires evacuation or...</td>\n",
       "      <td>8</td>\n",
       "    </tr>\n",
       "    <tr>\n",
       "      <th>4</th>\n",
       "      <td>Just got sent this photo from Ruby #Alaska as ...</td>\n",
       "      <td>16</td>\n",
       "    </tr>\n",
       "  </tbody>\n",
       "</table>\n",
       "</div>"
      ],
      "text/plain": [
       "                                                text  word_count\n",
       "0  Our Deeds are the Reason of this #earthquake M...          13\n",
       "1             Forest fire near La Ronge Sask. Canada           7\n",
       "2  All residents asked to 'shelter in place' are ...          22\n",
       "3  13,000 people receive #wildfires evacuation or...           8\n",
       "4  Just got sent this photo from Ruby #Alaska as ...          16"
      ]
     },
     "execution_count": 7,
     "metadata": {},
     "output_type": "execute_result"
    }
   ],
   "source": [
    "train_df.loc[:,['text','word_count']].head()"
   ]
  },
  {
   "cell_type": "code",
   "execution_count": 8,
   "id": "c69fe5c9",
   "metadata": {
    "execution": {
     "iopub.execute_input": "2025-10-23T13:11:37.988128Z",
     "iopub.status.busy": "2025-10-23T13:11:37.987540Z",
     "iopub.status.idle": "2025-10-23T13:11:37.991483Z",
     "shell.execute_reply": "2025-10-23T13:11:37.990914Z"
    },
    "papermill": {
     "duration": 0.009198,
     "end_time": "2025-10-23T13:11:37.992516",
     "exception": false,
     "start_time": "2025-10-23T13:11:37.983318",
     "status": "completed"
    },
    "tags": []
   },
   "outputs": [],
   "source": [
    "def clean_text(text):\n",
    "    # Remove URLs\n",
    "    text = re.sub(r'http\\S+|www\\S+|https\\S+', '', text)\n",
    "    # Remove mentions and hashtags\n",
    "    text = re.sub(r'@\\w+|#\\w+', '', text)\n",
    "    # Remove special characters and numbers\n",
    "    text = re.sub(r'[^a-zA-Z\\s]', '', text)\n",
    "    # Convert to lowercase\n",
    "    text = text.lower()\n",
    "    # Remove extra whitespace\n",
    "    text = ' '.join(text.split())\n",
    "    return text"
   ]
  },
  {
   "cell_type": "code",
   "execution_count": 9,
   "id": "75dcc9ba",
   "metadata": {
    "execution": {
     "iopub.execute_input": "2025-10-23T13:11:38.001011Z",
     "iopub.status.busy": "2025-10-23T13:11:38.000356Z",
     "iopub.status.idle": "2025-10-23T13:11:38.055522Z",
     "shell.execute_reply": "2025-10-23T13:11:38.054826Z"
    },
    "papermill": {
     "duration": 0.060327,
     "end_time": "2025-10-23T13:11:38.056592",
     "exception": false,
     "start_time": "2025-10-23T13:11:37.996265",
     "status": "completed"
    },
    "tags": []
   },
   "outputs": [],
   "source": [
    "train_df['modified_text'] = train_df['text'].apply(clean_text)"
   ]
  },
  {
   "cell_type": "code",
   "execution_count": 10,
   "id": "cebbb60b",
   "metadata": {
    "execution": {
     "iopub.execute_input": "2025-10-23T13:11:38.064735Z",
     "iopub.status.busy": "2025-10-23T13:11:38.064537Z",
     "iopub.status.idle": "2025-10-23T13:11:38.090607Z",
     "shell.execute_reply": "2025-10-23T13:11:38.090010Z"
    },
    "papermill": {
     "duration": 0.03128,
     "end_time": "2025-10-23T13:11:38.091651",
     "exception": false,
     "start_time": "2025-10-23T13:11:38.060371",
     "status": "completed"
    },
    "tags": []
   },
   "outputs": [],
   "source": [
    "test_df['modified_text'] = test_df['text'].apply(clean_text)"
   ]
  },
  {
   "cell_type": "code",
   "execution_count": 11,
   "id": "5b6e1183",
   "metadata": {
    "execution": {
     "iopub.execute_input": "2025-10-23T13:11:38.100073Z",
     "iopub.status.busy": "2025-10-23T13:11:38.099495Z",
     "iopub.status.idle": "2025-10-23T13:11:38.104496Z",
     "shell.execute_reply": "2025-10-23T13:11:38.103809Z"
    },
    "papermill": {
     "duration": 0.010182,
     "end_time": "2025-10-23T13:11:38.105520",
     "exception": false,
     "start_time": "2025-10-23T13:11:38.095338",
     "status": "completed"
    },
    "tags": []
   },
   "outputs": [
    {
     "data": {
      "text/plain": [
       "31"
      ]
     },
     "execution_count": 11,
     "metadata": {},
     "output_type": "execute_result"
    }
   ],
   "source": [
    "max(train_df['word_count'])"
   ]
  },
  {
   "cell_type": "code",
   "execution_count": 12,
   "id": "6cd217c9",
   "metadata": {
    "execution": {
     "iopub.execute_input": "2025-10-23T13:11:38.114395Z",
     "iopub.status.busy": "2025-10-23T13:11:38.113736Z",
     "iopub.status.idle": "2025-10-23T13:11:52.177078Z",
     "shell.execute_reply": "2025-10-23T13:11:52.176473Z"
    },
    "papermill": {
     "duration": 14.069025,
     "end_time": "2025-10-23T13:11:52.178362",
     "exception": false,
     "start_time": "2025-10-23T13:11:38.109337",
     "status": "completed"
    },
    "tags": []
   },
   "outputs": [
    {
     "name": "stderr",
     "output_type": "stream",
     "text": [
      "2025-10-23 13:11:39.725793: E external/local_xla/xla/stream_executor/cuda/cuda_fft.cc:477] Unable to register cuFFT factory: Attempting to register factory for plugin cuFFT when one has already been registered\n",
      "WARNING: All log messages before absl::InitializeLog() is called are written to STDERR\n",
      "E0000 00:00:1761225099.954165      19 cuda_dnn.cc:8310] Unable to register cuDNN factory: Attempting to register factory for plugin cuDNN when one has already been registered\n",
      "E0000 00:00:1761225100.017103      19 cuda_blas.cc:1418] Unable to register cuBLAS factory: Attempting to register factory for plugin cuBLAS when one has already been registered\n"
     ]
    }
   ],
   "source": [
    "from tensorflow.keras.preprocessing.text import Tokenizer\n",
    "from tensorflow.keras.preprocessing.sequence import pad_sequences\n",
    "from tensorflow.keras.models import Sequential\n",
    "from tensorflow.keras.layers import LSTM, Dropout, Embedding, Dense\n",
    "from tensorflow.keras.callbacks import EarlyStopping\n",
    "\n",
    "from sklearn.model_selection import train_test_split\n",
    "from sklearn.metrics import f1_score"
   ]
  },
  {
   "cell_type": "code",
   "execution_count": 13,
   "id": "baaea151",
   "metadata": {
    "execution": {
     "iopub.execute_input": "2025-10-23T13:11:52.188088Z",
     "iopub.status.busy": "2025-10-23T13:11:52.187343Z",
     "iopub.status.idle": "2025-10-23T13:11:52.190787Z",
     "shell.execute_reply": "2025-10-23T13:11:52.190303Z"
    },
    "papermill": {
     "duration": 0.009133,
     "end_time": "2025-10-23T13:11:52.191864",
     "exception": false,
     "start_time": "2025-10-23T13:11:52.182731",
     "status": "completed"
    },
    "tags": []
   },
   "outputs": [],
   "source": [
    "max_words = 10000\n",
    "max_len = 50\n",
    "EMBEDDING_DIM = 100"
   ]
  },
  {
   "cell_type": "code",
   "execution_count": 14,
   "id": "1875b30d",
   "metadata": {
    "execution": {
     "iopub.execute_input": "2025-10-23T13:11:52.200259Z",
     "iopub.status.busy": "2025-10-23T13:11:52.200056Z",
     "iopub.status.idle": "2025-10-23T13:11:52.306044Z",
     "shell.execute_reply": "2025-10-23T13:11:52.305431Z"
    },
    "papermill": {
     "duration": 0.111424,
     "end_time": "2025-10-23T13:11:52.307216",
     "exception": false,
     "start_time": "2025-10-23T13:11:52.195792",
     "status": "completed"
    },
    "tags": []
   },
   "outputs": [],
   "source": [
    "tokenizer = Tokenizer(\n",
    "    num_words = max_words\n",
    ")\n",
    "\n",
    "tokenizer.fit_on_texts(train_df['modified_text'])"
   ]
  },
  {
   "cell_type": "code",
   "execution_count": 15,
   "id": "e7d7cbd7",
   "metadata": {
    "execution": {
     "iopub.execute_input": "2025-10-23T13:11:52.315906Z",
     "iopub.status.busy": "2025-10-23T13:11:52.315488Z",
     "iopub.status.idle": "2025-10-23T13:11:52.412713Z",
     "shell.execute_reply": "2025-10-23T13:11:52.412210Z"
    },
    "papermill": {
     "duration": 0.102679,
     "end_time": "2025-10-23T13:11:52.413765",
     "exception": false,
     "start_time": "2025-10-23T13:11:52.311086",
     "status": "completed"
    },
    "tags": []
   },
   "outputs": [],
   "source": [
    "X_train = tokenizer.texts_to_sequences(train_df['modified_text'])\n",
    "X_test = tokenizer.texts_to_sequences(test_df['modified_text'])"
   ]
  },
  {
   "cell_type": "code",
   "execution_count": 16,
   "id": "c7c36b27",
   "metadata": {
    "execution": {
     "iopub.execute_input": "2025-10-23T13:11:52.423790Z",
     "iopub.status.busy": "2025-10-23T13:11:52.423353Z",
     "iopub.status.idle": "2025-10-23T13:11:52.451484Z",
     "shell.execute_reply": "2025-10-23T13:11:52.450906Z"
    },
    "papermill": {
     "duration": 0.034785,
     "end_time": "2025-10-23T13:11:52.452647",
     "exception": false,
     "start_time": "2025-10-23T13:11:52.417862",
     "status": "completed"
    },
    "tags": []
   },
   "outputs": [],
   "source": [
    "X_train = pad_sequences(\n",
    "    X_train,\n",
    "    maxlen = max_len,\n",
    "    padding = 'post'\n",
    ")\n",
    "\n",
    "X_test = pad_sequences(\n",
    "    X_test,\n",
    "    maxlen = max_len,\n",
    "    padding = 'post'\n",
    ")\n"
   ]
  },
  {
   "cell_type": "code",
   "execution_count": 17,
   "id": "384084c7",
   "metadata": {
    "execution": {
     "iopub.execute_input": "2025-10-23T13:11:52.460950Z",
     "iopub.status.busy": "2025-10-23T13:11:52.460748Z",
     "iopub.status.idle": "2025-10-23T13:11:52.463740Z",
     "shell.execute_reply": "2025-10-23T13:11:52.463256Z"
    },
    "papermill": {
     "duration": 0.008262,
     "end_time": "2025-10-23T13:11:52.464741",
     "exception": false,
     "start_time": "2025-10-23T13:11:52.456479",
     "status": "completed"
    },
    "tags": []
   },
   "outputs": [],
   "source": [
    "Y_train = train_df['target']"
   ]
  },
  {
   "cell_type": "code",
   "execution_count": 18,
   "id": "378b2e36",
   "metadata": {
    "execution": {
     "iopub.execute_input": "2025-10-23T13:11:52.473448Z",
     "iopub.status.busy": "2025-10-23T13:11:52.473262Z",
     "iopub.status.idle": "2025-10-23T13:11:52.476909Z",
     "shell.execute_reply": "2025-10-23T13:11:52.476213Z"
    },
    "papermill": {
     "duration": 0.009211,
     "end_time": "2025-10-23T13:11:52.477947",
     "exception": false,
     "start_time": "2025-10-23T13:11:52.468736",
     "status": "completed"
    },
    "tags": []
   },
   "outputs": [
    {
     "name": "stdout",
     "output_type": "stream",
     "text": [
      "X_train shape: (7613, 50)\n",
      "X_test shape: (3263, 50)\n",
      "Vocabulary size: 13527\n"
     ]
    }
   ],
   "source": [
    "print(f\"X_train shape: {X_train.shape}\")\n",
    "print(f\"X_test shape: {X_test.shape}\")\n",
    "print(f\"Vocabulary size: {len(tokenizer.word_index)}\")"
   ]
  },
  {
   "cell_type": "code",
   "execution_count": 19,
   "id": "986ee134",
   "metadata": {
    "execution": {
     "iopub.execute_input": "2025-10-23T13:11:52.486610Z",
     "iopub.status.busy": "2025-10-23T13:11:52.486421Z",
     "iopub.status.idle": "2025-10-23T13:11:53.405679Z",
     "shell.execute_reply": "2025-10-23T13:11:53.404867Z"
    },
    "papermill": {
     "duration": 0.924693,
     "end_time": "2025-10-23T13:11:53.406706",
     "exception": false,
     "start_time": "2025-10-23T13:11:52.482013",
     "status": "completed"
    },
    "tags": []
   },
   "outputs": [
    {
     "name": "stderr",
     "output_type": "stream",
     "text": [
      "I0000 00:00:1761225113.361272      19 gpu_device.cc:2022] Created device /job:localhost/replica:0/task:0/device:GPU:0 with 13942 MB memory:  -> device: 0, name: Tesla T4, pci bus id: 0000:00:04.0, compute capability: 7.5\n",
      "I0000 00:00:1761225113.361973      19 gpu_device.cc:2022] Created device /job:localhost/replica:0/task:0/device:GPU:1 with 13942 MB memory:  -> device: 1, name: Tesla T4, pci bus id: 0000:00:05.0, compute capability: 7.5\n"
     ]
    }
   ],
   "source": [
    "model = Sequential([\n",
    "    Embedding(input_dim = max_words, output_dim = EMBEDDING_DIM),\n",
    "    LSTM(64, dropout = 0.2),\n",
    "    Dense(32, activation = 'relu'),\n",
    "    Dropout(0.5),\n",
    "    Dense(1, activation = 'sigmoid')\n",
    "])"
   ]
  },
  {
   "cell_type": "code",
   "execution_count": 20,
   "id": "e894241e",
   "metadata": {
    "execution": {
     "iopub.execute_input": "2025-10-23T13:11:53.416006Z",
     "iopub.status.busy": "2025-10-23T13:11:53.415770Z",
     "iopub.status.idle": "2025-10-23T13:11:53.432643Z",
     "shell.execute_reply": "2025-10-23T13:11:53.431909Z"
    },
    "papermill": {
     "duration": 0.022786,
     "end_time": "2025-10-23T13:11:53.433753",
     "exception": false,
     "start_time": "2025-10-23T13:11:53.410967",
     "status": "completed"
    },
    "tags": []
   },
   "outputs": [],
   "source": [
    "model.compile(\n",
    "    optimizer = 'adam',\n",
    "    loss = 'binary_crossentropy',\n",
    "    metrics = ['accuracy','f1_score']\n",
    ")"
   ]
  },
  {
   "cell_type": "code",
   "execution_count": 21,
   "id": "13e5d0bc",
   "metadata": {
    "execution": {
     "iopub.execute_input": "2025-10-23T13:11:53.442714Z",
     "iopub.status.busy": "2025-10-23T13:11:53.442195Z",
     "iopub.status.idle": "2025-10-23T13:11:53.448113Z",
     "shell.execute_reply": "2025-10-23T13:11:53.447560Z"
    },
    "papermill": {
     "duration": 0.011432,
     "end_time": "2025-10-23T13:11:53.449083",
     "exception": false,
     "start_time": "2025-10-23T13:11:53.437651",
     "status": "completed"
    },
    "tags": []
   },
   "outputs": [],
   "source": [
    "X_train_split, X_val, y_train_split, y_val = train_test_split(\n",
    "    X_train, Y_train, test_size=0.2, random_state=42\n",
    ")"
   ]
  },
  {
   "cell_type": "code",
   "execution_count": 22,
   "id": "ce693105",
   "metadata": {
    "execution": {
     "iopub.execute_input": "2025-10-23T13:11:53.457895Z",
     "iopub.status.busy": "2025-10-23T13:11:53.457496Z",
     "iopub.status.idle": "2025-10-23T13:11:53.460411Z",
     "shell.execute_reply": "2025-10-23T13:11:53.459913Z"
    },
    "papermill": {
     "duration": 0.008161,
     "end_time": "2025-10-23T13:11:53.461405",
     "exception": false,
     "start_time": "2025-10-23T13:11:53.453244",
     "status": "completed"
    },
    "tags": []
   },
   "outputs": [],
   "source": [
    "early_stopping = EarlyStopping(\n",
    "    monitor='val_loss',\n",
    "    patience=3,\n",
    "    restore_best_weights=True,\n",
    "    verbose=1\n",
    ")"
   ]
  },
  {
   "cell_type": "code",
   "execution_count": 23,
   "id": "8d85bd7d",
   "metadata": {
    "execution": {
     "iopub.execute_input": "2025-10-23T13:11:53.470119Z",
     "iopub.status.busy": "2025-10-23T13:11:53.469718Z",
     "iopub.status.idle": "2025-10-23T13:12:04.281176Z",
     "shell.execute_reply": "2025-10-23T13:12:04.280554Z"
    },
    "papermill": {
     "duration": 10.816995,
     "end_time": "2025-10-23T13:12:04.282401",
     "exception": false,
     "start_time": "2025-10-23T13:11:53.465406",
     "status": "completed"
    },
    "tags": []
   },
   "outputs": [
    {
     "name": "stdout",
     "output_type": "stream",
     "text": [
      "Epoch 1/10\n"
     ]
    },
    {
     "name": "stderr",
     "output_type": "stream",
     "text": [
      "I0000 00:00:1761225119.285254      61 cuda_dnn.cc:529] Loaded cuDNN version 90300\n"
     ]
    },
    {
     "name": "stdout",
     "output_type": "stream",
     "text": [
      "\u001b[1m96/96\u001b[0m \u001b[32m━━━━━━━━━━━━━━━━━━━━\u001b[0m\u001b[37m\u001b[0m \u001b[1m8s\u001b[0m 15ms/step - accuracy: 0.5742 - f1_score: 0.5990 - loss: 0.6863 - val_accuracy: 0.5739 - val_f1_score: 0.5976 - val_loss: 0.6822\n",
      "Epoch 2/10\n",
      "\u001b[1m96/96\u001b[0m \u001b[32m━━━━━━━━━━━━━━━━━━━━\u001b[0m\u001b[37m\u001b[0m \u001b[1m1s\u001b[0m 8ms/step - accuracy: 0.5627 - f1_score: 0.6061 - loss: 0.6877 - val_accuracy: 0.5739 - val_f1_score: 0.5976 - val_loss: 0.6844\n",
      "Epoch 3/10\n",
      "\u001b[1m96/96\u001b[0m \u001b[32m━━━━━━━━━━━━━━━━━━━━\u001b[0m\u001b[37m\u001b[0m \u001b[1m1s\u001b[0m 8ms/step - accuracy: 0.5697 - f1_score: 0.6017 - loss: 0.6847 - val_accuracy: 0.5739 - val_f1_score: 0.5976 - val_loss: 0.6835\n",
      "Epoch 4/10\n",
      "\u001b[1m96/96\u001b[0m \u001b[32m━━━━━━━━━━━━━━━━━━━━\u001b[0m\u001b[37m\u001b[0m \u001b[1m1s\u001b[0m 8ms/step - accuracy: 0.5699 - f1_score: 0.6015 - loss: 0.6846 - val_accuracy: 0.5739 - val_f1_score: 0.5976 - val_loss: 0.6826\n",
      "Epoch 4: early stopping\n",
      "Restoring model weights from the end of the best epoch: 1.\n"
     ]
    }
   ],
   "source": [
    "history = model.fit(\n",
    "    X_train_split, y_train_split,\n",
    "    validation_data=(X_val, y_val),\n",
    "    epochs=10,\n",
    "    batch_size=64,\n",
    "    callbacks=[early_stopping],\n",
    "    verbose=1\n",
    ")"
   ]
  },
  {
   "cell_type": "code",
   "execution_count": 24,
   "id": "bccc62c1",
   "metadata": {
    "execution": {
     "iopub.execute_input": "2025-10-23T13:12:04.297235Z",
     "iopub.status.busy": "2025-10-23T13:12:04.296966Z",
     "iopub.status.idle": "2025-10-23T13:12:05.016780Z",
     "shell.execute_reply": "2025-10-23T13:12:05.016227Z"
    },
    "papermill": {
     "duration": 0.728216,
     "end_time": "2025-10-23T13:12:05.017821",
     "exception": false,
     "start_time": "2025-10-23T13:12:04.289605",
     "status": "completed"
    },
    "tags": []
   },
   "outputs": [
    {
     "name": "stdout",
     "output_type": "stream",
     "text": [
      "\u001b[1m102/102\u001b[0m \u001b[32m━━━━━━━━━━━━━━━━━━━━\u001b[0m\u001b[37m\u001b[0m \u001b[1m1s\u001b[0m 4ms/step\n"
     ]
    }
   ],
   "source": [
    "pred = model.predict(X_test)"
   ]
  },
  {
   "cell_type": "code",
   "execution_count": null,
   "id": "a53421ba",
   "metadata": {
    "papermill": {
     "duration": 0.006486,
     "end_time": "2025-10-23T13:12:05.031747",
     "exception": false,
     "start_time": "2025-10-23T13:12:05.025261",
     "status": "completed"
    },
    "tags": []
   },
   "outputs": [],
   "source": []
  },
  {
   "cell_type": "code",
   "execution_count": 25,
   "id": "7f3be563",
   "metadata": {
    "execution": {
     "iopub.execute_input": "2025-10-23T13:12:05.046139Z",
     "iopub.status.busy": "2025-10-23T13:12:05.045918Z",
     "iopub.status.idle": "2025-10-23T13:12:05.059326Z",
     "shell.execute_reply": "2025-10-23T13:12:05.058776Z"
    },
    "papermill": {
     "duration": 0.021799,
     "end_time": "2025-10-23T13:12:05.060390",
     "exception": false,
     "start_time": "2025-10-23T13:12:05.038591",
     "status": "completed"
    },
    "tags": []
   },
   "outputs": [],
   "source": [
    "submission = pd.DataFrame({\n",
    "    'id': test_df['id'],\n",
    "    'target': pred.ravel()\n",
    "})\n",
    "\n",
    "submission.to_csv('submission.csv', index=False)"
   ]
  }
 ],
 "metadata": {
  "kaggle": {
   "accelerator": "nvidiaTeslaT4",
   "dataSources": [
    {
     "databundleVersionId": 869809,
     "sourceId": 17777,
     "sourceType": "competition"
    }
   ],
   "dockerImageVersionId": 31153,
   "isGpuEnabled": true,
   "isInternetEnabled": true,
   "language": "python",
   "sourceType": "notebook"
  },
  "kernelspec": {
   "display_name": "Python 3",
   "language": "python",
   "name": "python3"
  },
  "language_info": {
   "codemirror_mode": {
    "name": "ipython",
    "version": 3
   },
   "file_extension": ".py",
   "mimetype": "text/x-python",
   "name": "python",
   "nbconvert_exporter": "python",
   "pygments_lexer": "ipython3",
   "version": "3.11.13"
  },
  "papermill": {
   "default_parameters": {},
   "duration": 35.974609,
   "end_time": "2025-10-23T13:12:08.689216",
   "environment_variables": {},
   "exception": null,
   "input_path": "__notebook__.ipynb",
   "output_path": "__notebook__.ipynb",
   "parameters": {},
   "start_time": "2025-10-23T13:11:32.714607",
   "version": "2.6.0"
  }
 },
 "nbformat": 4,
 "nbformat_minor": 5
}
