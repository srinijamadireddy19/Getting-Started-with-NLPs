{
 "cells": [
  {
   "cell_type": "code",
   "execution_count": 1,
   "id": "656c9601",
   "metadata": {
    "execution": {
     "iopub.execute_input": "2025-10-23T13:06:22.479240Z",
     "iopub.status.busy": "2025-10-23T13:06:22.478504Z",
     "iopub.status.idle": "2025-10-23T13:06:25.813090Z",
     "shell.execute_reply": "2025-10-23T13:06:25.812278Z"
    },
    "papermill": {
     "duration": 3.341864,
     "end_time": "2025-10-23T13:06:25.814764",
     "exception": false,
     "start_time": "2025-10-23T13:06:22.472900",
     "status": "completed"
    },
    "tags": []
   },
   "outputs": [],
   "source": [
    "import numpy as np # linear algebra\n",
    "import pandas as pd # data processing, CSV file I/O (e.g. pd.read_csv)\n",
    "from sklearn import feature_extraction, linear_model, model_selection, preprocessing\n",
    "from sklearn.feature_extraction.text import TfidfVectorizer\n",
    "import re\n",
    "from sklearn.linear_model import LogisticRegression\n",
    "\n",
    "from sklearn.metrics import f1_score\n"
   ]
  },
  {
   "cell_type": "code",
   "execution_count": 2,
   "id": "d832f727",
   "metadata": {
    "execution": {
     "iopub.execute_input": "2025-10-23T13:06:25.823447Z",
     "iopub.status.busy": "2025-10-23T13:06:25.823050Z",
     "iopub.status.idle": "2025-10-23T13:06:25.903808Z",
     "shell.execute_reply": "2025-10-23T13:06:25.902900Z"
    },
    "papermill": {
     "duration": 0.086886,
     "end_time": "2025-10-23T13:06:25.905477",
     "exception": false,
     "start_time": "2025-10-23T13:06:25.818591",
     "status": "completed"
    },
    "tags": []
   },
   "outputs": [],
   "source": [
    "train_df = pd.read_csv(\"/kaggle/input/nlp-getting-started/train.csv\")\n",
    "test_df = pd.read_csv(\"/kaggle/input/nlp-getting-started/test.csv\")"
   ]
  },
  {
   "cell_type": "code",
   "execution_count": 3,
   "id": "063b621d",
   "metadata": {
    "execution": {
     "iopub.execute_input": "2025-10-23T13:06:25.913927Z",
     "iopub.status.busy": "2025-10-23T13:06:25.913641Z",
     "iopub.status.idle": "2025-10-23T13:06:25.936204Z",
     "shell.execute_reply": "2025-10-23T13:06:25.935299Z"
    },
    "papermill": {
     "duration": 0.028277,
     "end_time": "2025-10-23T13:06:25.937614",
     "exception": false,
     "start_time": "2025-10-23T13:06:25.909337",
     "status": "completed"
    },
    "tags": []
   },
   "outputs": [
    {
     "data": {
      "text/html": [
       "<div>\n",
       "<style scoped>\n",
       "    .dataframe tbody tr th:only-of-type {\n",
       "        vertical-align: middle;\n",
       "    }\n",
       "\n",
       "    .dataframe tbody tr th {\n",
       "        vertical-align: top;\n",
       "    }\n",
       "\n",
       "    .dataframe thead th {\n",
       "        text-align: right;\n",
       "    }\n",
       "</style>\n",
       "<table border=\"1\" class=\"dataframe\">\n",
       "  <thead>\n",
       "    <tr style=\"text-align: right;\">\n",
       "      <th></th>\n",
       "      <th>id</th>\n",
       "      <th>keyword</th>\n",
       "      <th>location</th>\n",
       "      <th>text</th>\n",
       "      <th>target</th>\n",
       "    </tr>\n",
       "  </thead>\n",
       "  <tbody>\n",
       "    <tr>\n",
       "      <th>0</th>\n",
       "      <td>1</td>\n",
       "      <td>NaN</td>\n",
       "      <td>NaN</td>\n",
       "      <td>Our Deeds are the Reason of this #earthquake M...</td>\n",
       "      <td>1</td>\n",
       "    </tr>\n",
       "    <tr>\n",
       "      <th>1</th>\n",
       "      <td>4</td>\n",
       "      <td>NaN</td>\n",
       "      <td>NaN</td>\n",
       "      <td>Forest fire near La Ronge Sask. Canada</td>\n",
       "      <td>1</td>\n",
       "    </tr>\n",
       "    <tr>\n",
       "      <th>2</th>\n",
       "      <td>5</td>\n",
       "      <td>NaN</td>\n",
       "      <td>NaN</td>\n",
       "      <td>All residents asked to 'shelter in place' are ...</td>\n",
       "      <td>1</td>\n",
       "    </tr>\n",
       "    <tr>\n",
       "      <th>3</th>\n",
       "      <td>6</td>\n",
       "      <td>NaN</td>\n",
       "      <td>NaN</td>\n",
       "      <td>13,000 people receive #wildfires evacuation or...</td>\n",
       "      <td>1</td>\n",
       "    </tr>\n",
       "    <tr>\n",
       "      <th>4</th>\n",
       "      <td>7</td>\n",
       "      <td>NaN</td>\n",
       "      <td>NaN</td>\n",
       "      <td>Just got sent this photo from Ruby #Alaska as ...</td>\n",
       "      <td>1</td>\n",
       "    </tr>\n",
       "  </tbody>\n",
       "</table>\n",
       "</div>"
      ],
      "text/plain": [
       "   id keyword location                                               text  \\\n",
       "0   1     NaN      NaN  Our Deeds are the Reason of this #earthquake M...   \n",
       "1   4     NaN      NaN             Forest fire near La Ronge Sask. Canada   \n",
       "2   5     NaN      NaN  All residents asked to 'shelter in place' are ...   \n",
       "3   6     NaN      NaN  13,000 people receive #wildfires evacuation or...   \n",
       "4   7     NaN      NaN  Just got sent this photo from Ruby #Alaska as ...   \n",
       "\n",
       "   target  \n",
       "0       1  \n",
       "1       1  \n",
       "2       1  \n",
       "3       1  \n",
       "4       1  "
      ]
     },
     "execution_count": 3,
     "metadata": {},
     "output_type": "execute_result"
    }
   ],
   "source": [
    "train_df.head()"
   ]
  },
  {
   "cell_type": "code",
   "execution_count": 4,
   "id": "299d1bc2",
   "metadata": {
    "execution": {
     "iopub.execute_input": "2025-10-23T13:06:25.946554Z",
     "iopub.status.busy": "2025-10-23T13:06:25.945930Z",
     "iopub.status.idle": "2025-10-23T13:06:25.970104Z",
     "shell.execute_reply": "2025-10-23T13:06:25.969116Z"
    },
    "papermill": {
     "duration": 0.030048,
     "end_time": "2025-10-23T13:06:25.971410",
     "exception": false,
     "start_time": "2025-10-23T13:06:25.941362",
     "status": "completed"
    },
    "tags": []
   },
   "outputs": [
    {
     "name": "stdout",
     "output_type": "stream",
     "text": [
      "<class 'pandas.core.frame.DataFrame'>\n",
      "RangeIndex: 7613 entries, 0 to 7612\n",
      "Data columns (total 5 columns):\n",
      " #   Column    Non-Null Count  Dtype \n",
      "---  ------    --------------  ----- \n",
      " 0   id        7613 non-null   int64 \n",
      " 1   keyword   7552 non-null   object\n",
      " 2   location  5080 non-null   object\n",
      " 3   text      7613 non-null   object\n",
      " 4   target    7613 non-null   int64 \n",
      "dtypes: int64(2), object(3)\n",
      "memory usage: 297.5+ KB\n"
     ]
    }
   ],
   "source": [
    "train_df.info()"
   ]
  },
  {
   "cell_type": "code",
   "execution_count": 5,
   "id": "a30f56e5",
   "metadata": {
    "execution": {
     "iopub.execute_input": "2025-10-23T13:06:25.979889Z",
     "iopub.status.busy": "2025-10-23T13:06:25.979582Z",
     "iopub.status.idle": "2025-10-23T13:06:25.987763Z",
     "shell.execute_reply": "2025-10-23T13:06:25.986941Z"
    },
    "papermill": {
     "duration": 0.013959,
     "end_time": "2025-10-23T13:06:25.989147",
     "exception": false,
     "start_time": "2025-10-23T13:06:25.975188",
     "status": "completed"
    },
    "tags": []
   },
   "outputs": [
    {
     "data": {
      "text/plain": [
       "id             0\n",
       "keyword       61\n",
       "location    2533\n",
       "text           0\n",
       "target         0\n",
       "dtype: int64"
      ]
     },
     "execution_count": 5,
     "metadata": {},
     "output_type": "execute_result"
    }
   ],
   "source": [
    "train_df.isnull().sum()"
   ]
  },
  {
   "cell_type": "code",
   "execution_count": 6,
   "id": "5983018a",
   "metadata": {
    "execution": {
     "iopub.execute_input": "2025-10-23T13:06:25.998603Z",
     "iopub.status.busy": "2025-10-23T13:06:25.998022Z",
     "iopub.status.idle": "2025-10-23T13:06:26.008161Z",
     "shell.execute_reply": "2025-10-23T13:06:26.007138Z"
    },
    "papermill": {
     "duration": 0.016241,
     "end_time": "2025-10-23T13:06:26.009663",
     "exception": false,
     "start_time": "2025-10-23T13:06:25.993422",
     "status": "completed"
    },
    "tags": []
   },
   "outputs": [
    {
     "data": {
      "text/plain": [
       "'I had a airplane accident.'"
      ]
     },
     "execution_count": 6,
     "metadata": {},
     "output_type": "execute_result"
    }
   ],
   "source": [
    "train_df[train_df['target'] == 1]['text'].values[78]"
   ]
  },
  {
   "cell_type": "code",
   "execution_count": 7,
   "id": "4b09848d",
   "metadata": {
    "execution": {
     "iopub.execute_input": "2025-10-23T13:06:26.019120Z",
     "iopub.status.busy": "2025-10-23T13:06:26.018800Z",
     "iopub.status.idle": "2025-10-23T13:06:26.025903Z",
     "shell.execute_reply": "2025-10-23T13:06:26.025151Z"
    },
    "papermill": {
     "duration": 0.013124,
     "end_time": "2025-10-23T13:06:26.027265",
     "exception": false,
     "start_time": "2025-10-23T13:06:26.014141",
     "status": "completed"
    },
    "tags": []
   },
   "outputs": [
    {
     "data": {
      "text/plain": [
       "'http://t.co/GKYe6gjTk5 Had a #personalinjury accident this summer? Read our advice &amp; see how a #solicitor can help #OtleyHour'"
      ]
     },
     "execution_count": 7,
     "metadata": {},
     "output_type": "execute_result"
    }
   ],
   "source": [
    "train_df[train_df['target'] == 0]['text'].values[40]"
   ]
  },
  {
   "cell_type": "code",
   "execution_count": null,
   "id": "33135b03",
   "metadata": {
    "papermill": {
     "duration": 0.003651,
     "end_time": "2025-10-23T13:06:26.034858",
     "exception": false,
     "start_time": "2025-10-23T13:06:26.031207",
     "status": "completed"
    },
    "tags": []
   },
   "outputs": [],
   "source": []
  },
  {
   "cell_type": "code",
   "execution_count": 8,
   "id": "5edfba43",
   "metadata": {
    "execution": {
     "iopub.execute_input": "2025-10-23T13:06:26.043834Z",
     "iopub.status.busy": "2025-10-23T13:06:26.043527Z",
     "iopub.status.idle": "2025-10-23T13:06:26.048346Z",
     "shell.execute_reply": "2025-10-23T13:06:26.047510Z"
    },
    "papermill": {
     "duration": 0.011363,
     "end_time": "2025-10-23T13:06:26.050107",
     "exception": false,
     "start_time": "2025-10-23T13:06:26.038744",
     "status": "completed"
    },
    "tags": []
   },
   "outputs": [],
   "source": [
    "def clean_text(text):\n",
    "    # Remove URLs\n",
    "    text = re.sub(r'http\\S+|www\\S+|https\\S+', '', text)\n",
    "    # Remove mentions and hashtags\n",
    "    text = re.sub(r'@\\w+|#\\w+', '', text)\n",
    "    # Remove special characters and numbers\n",
    "    text = re.sub(r'[^a-zA-Z\\s]', '', text)\n",
    "    # Convert to lowercase\n",
    "    text = text.lower()\n",
    "    # Remove extra whitespace\n",
    "    text = ' '.join(text.split())\n",
    "    return text"
   ]
  },
  {
   "cell_type": "code",
   "execution_count": 9,
   "id": "6900675d",
   "metadata": {
    "execution": {
     "iopub.execute_input": "2025-10-23T13:06:26.059632Z",
     "iopub.status.busy": "2025-10-23T13:06:26.059305Z",
     "iopub.status.idle": "2025-10-23T13:06:26.126741Z",
     "shell.execute_reply": "2025-10-23T13:06:26.126020Z"
    },
    "papermill": {
     "duration": 0.073687,
     "end_time": "2025-10-23T13:06:26.128120",
     "exception": false,
     "start_time": "2025-10-23T13:06:26.054433",
     "status": "completed"
    },
    "tags": []
   },
   "outputs": [],
   "source": [
    "train_df['modified_text'] = train_df['text'].apply(clean_text)"
   ]
  },
  {
   "cell_type": "code",
   "execution_count": 10,
   "id": "d6c77e71",
   "metadata": {
    "execution": {
     "iopub.execute_input": "2025-10-23T13:06:26.137119Z",
     "iopub.status.busy": "2025-10-23T13:06:26.136796Z",
     "iopub.status.idle": "2025-10-23T13:06:26.144300Z",
     "shell.execute_reply": "2025-10-23T13:06:26.143579Z"
    },
    "papermill": {
     "duration": 0.013831,
     "end_time": "2025-10-23T13:06:26.145881",
     "exception": false,
     "start_time": "2025-10-23T13:06:26.132050",
     "status": "completed"
    },
    "tags": []
   },
   "outputs": [
    {
     "data": {
      "text/plain": [
       "'had a accident this summer read our advice amp see how a can help'"
      ]
     },
     "execution_count": 10,
     "metadata": {},
     "output_type": "execute_result"
    }
   ],
   "source": [
    "train_df[train_df['target'] == 0]['modified_text'].values[40]"
   ]
  },
  {
   "cell_type": "code",
   "execution_count": 11,
   "id": "9bbd14a5",
   "metadata": {
    "execution": {
     "iopub.execute_input": "2025-10-23T13:06:26.155501Z",
     "iopub.status.busy": "2025-10-23T13:06:26.155161Z",
     "iopub.status.idle": "2025-10-23T13:06:26.186707Z",
     "shell.execute_reply": "2025-10-23T13:06:26.185928Z"
    },
    "papermill": {
     "duration": 0.03807,
     "end_time": "2025-10-23T13:06:26.188051",
     "exception": false,
     "start_time": "2025-10-23T13:06:26.149981",
     "status": "completed"
    },
    "tags": []
   },
   "outputs": [],
   "source": [
    "test_df['modified_text'] = test_df['text'].apply(clean_text)"
   ]
  },
  {
   "cell_type": "code",
   "execution_count": 12,
   "id": "8eadc2aa",
   "metadata": {
    "execution": {
     "iopub.execute_input": "2025-10-23T13:06:26.197180Z",
     "iopub.status.busy": "2025-10-23T13:06:26.196863Z",
     "iopub.status.idle": "2025-10-23T13:06:26.200825Z",
     "shell.execute_reply": "2025-10-23T13:06:26.200090Z"
    },
    "papermill": {
     "duration": 0.009894,
     "end_time": "2025-10-23T13:06:26.202121",
     "exception": false,
     "start_time": "2025-10-23T13:06:26.192227",
     "status": "completed"
    },
    "tags": []
   },
   "outputs": [],
   "source": [
    "tfidf = TfidfVectorizer(\n",
    "    max_features = 5000,\n",
    "    ngram_range=(1,2)\n",
    ")"
   ]
  },
  {
   "cell_type": "code",
   "execution_count": 13,
   "id": "702112c4",
   "metadata": {
    "execution": {
     "iopub.execute_input": "2025-10-23T13:06:26.211639Z",
     "iopub.status.busy": "2025-10-23T13:06:26.211049Z",
     "iopub.status.idle": "2025-10-23T13:06:26.652426Z",
     "shell.execute_reply": "2025-10-23T13:06:26.651552Z"
    },
    "papermill": {
     "duration": 0.447888,
     "end_time": "2025-10-23T13:06:26.654120",
     "exception": false,
     "start_time": "2025-10-23T13:06:26.206232",
     "status": "completed"
    },
    "tags": []
   },
   "outputs": [],
   "source": [
    "X_train = tfidf.fit_transform(train_df['modified_text'])\n",
    "Y_train = train_df['target']"
   ]
  },
  {
   "cell_type": "code",
   "execution_count": 14,
   "id": "507f9dc1",
   "metadata": {
    "execution": {
     "iopub.execute_input": "2025-10-23T13:06:26.664418Z",
     "iopub.status.busy": "2025-10-23T13:06:26.664111Z",
     "iopub.status.idle": "2025-10-23T13:06:26.737532Z",
     "shell.execute_reply": "2025-10-23T13:06:26.736728Z"
    },
    "papermill": {
     "duration": 0.080629,
     "end_time": "2025-10-23T13:06:26.739080",
     "exception": false,
     "start_time": "2025-10-23T13:06:26.658451",
     "status": "completed"
    },
    "tags": []
   },
   "outputs": [],
   "source": [
    "X_test = tfidf.transform(test_df['modified_text'])"
   ]
  },
  {
   "cell_type": "code",
   "execution_count": 15,
   "id": "4ae458ab",
   "metadata": {
    "execution": {
     "iopub.execute_input": "2025-10-23T13:06:26.748289Z",
     "iopub.status.busy": "2025-10-23T13:06:26.747945Z",
     "iopub.status.idle": "2025-10-23T13:06:26.751905Z",
     "shell.execute_reply": "2025-10-23T13:06:26.751138Z"
    },
    "papermill": {
     "duration": 0.010113,
     "end_time": "2025-10-23T13:06:26.753274",
     "exception": false,
     "start_time": "2025-10-23T13:06:26.743161",
     "status": "completed"
    },
    "tags": []
   },
   "outputs": [],
   "source": [
    "model = LogisticRegression()"
   ]
  },
  {
   "cell_type": "code",
   "execution_count": 16,
   "id": "6498daa7",
   "metadata": {
    "execution": {
     "iopub.execute_input": "2025-10-23T13:06:26.762531Z",
     "iopub.status.busy": "2025-10-23T13:06:26.761960Z",
     "iopub.status.idle": "2025-10-23T13:06:27.100184Z",
     "shell.execute_reply": "2025-10-23T13:06:27.099336Z"
    },
    "papermill": {
     "duration": 0.344941,
     "end_time": "2025-10-23T13:06:27.102224",
     "exception": false,
     "start_time": "2025-10-23T13:06:26.757283",
     "status": "completed"
    },
    "tags": []
   },
   "outputs": [
    {
     "data": {
      "text/html": [
       "<style>#sk-container-id-1 {color: black;background-color: white;}#sk-container-id-1 pre{padding: 0;}#sk-container-id-1 div.sk-toggleable {background-color: white;}#sk-container-id-1 label.sk-toggleable__label {cursor: pointer;display: block;width: 100%;margin-bottom: 0;padding: 0.3em;box-sizing: border-box;text-align: center;}#sk-container-id-1 label.sk-toggleable__label-arrow:before {content: \"▸\";float: left;margin-right: 0.25em;color: #696969;}#sk-container-id-1 label.sk-toggleable__label-arrow:hover:before {color: black;}#sk-container-id-1 div.sk-estimator:hover label.sk-toggleable__label-arrow:before {color: black;}#sk-container-id-1 div.sk-toggleable__content {max-height: 0;max-width: 0;overflow: hidden;text-align: left;background-color: #f0f8ff;}#sk-container-id-1 div.sk-toggleable__content pre {margin: 0.2em;color: black;border-radius: 0.25em;background-color: #f0f8ff;}#sk-container-id-1 input.sk-toggleable__control:checked~div.sk-toggleable__content {max-height: 200px;max-width: 100%;overflow: auto;}#sk-container-id-1 input.sk-toggleable__control:checked~label.sk-toggleable__label-arrow:before {content: \"▾\";}#sk-container-id-1 div.sk-estimator input.sk-toggleable__control:checked~label.sk-toggleable__label {background-color: #d4ebff;}#sk-container-id-1 div.sk-label input.sk-toggleable__control:checked~label.sk-toggleable__label {background-color: #d4ebff;}#sk-container-id-1 input.sk-hidden--visually {border: 0;clip: rect(1px 1px 1px 1px);clip: rect(1px, 1px, 1px, 1px);height: 1px;margin: -1px;overflow: hidden;padding: 0;position: absolute;width: 1px;}#sk-container-id-1 div.sk-estimator {font-family: monospace;background-color: #f0f8ff;border: 1px dotted black;border-radius: 0.25em;box-sizing: border-box;margin-bottom: 0.5em;}#sk-container-id-1 div.sk-estimator:hover {background-color: #d4ebff;}#sk-container-id-1 div.sk-parallel-item::after {content: \"\";width: 100%;border-bottom: 1px solid gray;flex-grow: 1;}#sk-container-id-1 div.sk-label:hover label.sk-toggleable__label {background-color: #d4ebff;}#sk-container-id-1 div.sk-serial::before {content: \"\";position: absolute;border-left: 1px solid gray;box-sizing: border-box;top: 0;bottom: 0;left: 50%;z-index: 0;}#sk-container-id-1 div.sk-serial {display: flex;flex-direction: column;align-items: center;background-color: white;padding-right: 0.2em;padding-left: 0.2em;position: relative;}#sk-container-id-1 div.sk-item {position: relative;z-index: 1;}#sk-container-id-1 div.sk-parallel {display: flex;align-items: stretch;justify-content: center;background-color: white;position: relative;}#sk-container-id-1 div.sk-item::before, #sk-container-id-1 div.sk-parallel-item::before {content: \"\";position: absolute;border-left: 1px solid gray;box-sizing: border-box;top: 0;bottom: 0;left: 50%;z-index: -1;}#sk-container-id-1 div.sk-parallel-item {display: flex;flex-direction: column;z-index: 1;position: relative;background-color: white;}#sk-container-id-1 div.sk-parallel-item:first-child::after {align-self: flex-end;width: 50%;}#sk-container-id-1 div.sk-parallel-item:last-child::after {align-self: flex-start;width: 50%;}#sk-container-id-1 div.sk-parallel-item:only-child::after {width: 0;}#sk-container-id-1 div.sk-dashed-wrapped {border: 1px dashed gray;margin: 0 0.4em 0.5em 0.4em;box-sizing: border-box;padding-bottom: 0.4em;background-color: white;}#sk-container-id-1 div.sk-label label {font-family: monospace;font-weight: bold;display: inline-block;line-height: 1.2em;}#sk-container-id-1 div.sk-label-container {text-align: center;}#sk-container-id-1 div.sk-container {/* jupyter's `normalize.less` sets `[hidden] { display: none; }` but bootstrap.min.css set `[hidden] { display: none !important; }` so we also need the `!important` here to be able to override the default hidden behavior on the sphinx rendered scikit-learn.org. See: https://github.com/scikit-learn/scikit-learn/issues/21755 */display: inline-block !important;position: relative;}#sk-container-id-1 div.sk-text-repr-fallback {display: none;}</style><div id=\"sk-container-id-1\" class=\"sk-top-container\"><div class=\"sk-text-repr-fallback\"><pre>LogisticRegression()</pre><b>In a Jupyter environment, please rerun this cell to show the HTML representation or trust the notebook. <br />On GitHub, the HTML representation is unable to render, please try loading this page with nbviewer.org.</b></div><div class=\"sk-container\" hidden><div class=\"sk-item\"><div class=\"sk-estimator sk-toggleable\"><input class=\"sk-toggleable__control sk-hidden--visually\" id=\"sk-estimator-id-1\" type=\"checkbox\" checked><label for=\"sk-estimator-id-1\" class=\"sk-toggleable__label sk-toggleable__label-arrow\">LogisticRegression</label><div class=\"sk-toggleable__content\"><pre>LogisticRegression()</pre></div></div></div></div></div>"
      ],
      "text/plain": [
       "LogisticRegression()"
      ]
     },
     "execution_count": 16,
     "metadata": {},
     "output_type": "execute_result"
    }
   ],
   "source": [
    "model.fit(X_train,Y_train)"
   ]
  },
  {
   "cell_type": "code",
   "execution_count": 17,
   "id": "73ba1802",
   "metadata": {
    "execution": {
     "iopub.execute_input": "2025-10-23T13:06:27.117816Z",
     "iopub.status.busy": "2025-10-23T13:06:27.117494Z",
     "iopub.status.idle": "2025-10-23T13:06:27.123468Z",
     "shell.execute_reply": "2025-10-23T13:06:27.122720Z"
    },
    "papermill": {
     "duration": 0.015679,
     "end_time": "2025-10-23T13:06:27.125115",
     "exception": false,
     "start_time": "2025-10-23T13:06:27.109436",
     "status": "completed"
    },
    "tags": []
   },
   "outputs": [],
   "source": [
    "pred = model.predict(X_test)"
   ]
  },
  {
   "cell_type": "code",
   "execution_count": 18,
   "id": "de70b9db",
   "metadata": {
    "execution": {
     "iopub.execute_input": "2025-10-23T13:06:27.140768Z",
     "iopub.status.busy": "2025-10-23T13:06:27.140105Z",
     "iopub.status.idle": "2025-10-23T13:06:27.146329Z",
     "shell.execute_reply": "2025-10-23T13:06:27.145620Z"
    },
    "papermill": {
     "duration": 0.01597,
     "end_time": "2025-10-23T13:06:27.148227",
     "exception": false,
     "start_time": "2025-10-23T13:06:27.132257",
     "status": "completed"
    },
    "tags": []
   },
   "outputs": [],
   "source": [
    "submission = pd.DataFrame({\n",
    "    'id':test_df['id'],\n",
    "    'target':pred\n",
    "})"
   ]
  },
  {
   "cell_type": "code",
   "execution_count": 19,
   "id": "c2dc59a5",
   "metadata": {
    "execution": {
     "iopub.execute_input": "2025-10-23T13:06:27.163385Z",
     "iopub.status.busy": "2025-10-23T13:06:27.163068Z",
     "iopub.status.idle": "2025-10-23T13:06:27.179151Z",
     "shell.execute_reply": "2025-10-23T13:06:27.178353Z"
    },
    "papermill": {
     "duration": 0.026009,
     "end_time": "2025-10-23T13:06:27.181052",
     "exception": false,
     "start_time": "2025-10-23T13:06:27.155043",
     "status": "completed"
    },
    "tags": []
   },
   "outputs": [],
   "source": [
    "submission.to_csv('submission.csv', index=False)"
   ]
  }
 ],
 "metadata": {
  "kaggle": {
   "accelerator": "none",
   "dataSources": [
    {
     "databundleVersionId": 869809,
     "sourceId": 17777,
     "sourceType": "competition"
    }
   ],
   "dockerImageVersionId": 31153,
   "isGpuEnabled": false,
   "isInternetEnabled": true,
   "language": "python",
   "sourceType": "notebook"
  },
  "kernelspec": {
   "display_name": "Python 3",
   "language": "python",
   "name": "python3"
  },
  "language_info": {
   "codemirror_mode": {
    "name": "ipython",
    "version": 3
   },
   "file_extension": ".py",
   "mimetype": "text/x-python",
   "name": "python",
   "nbconvert_exporter": "python",
   "pygments_lexer": "ipython3",
   "version": "3.11.13"
  },
  "papermill": {
   "default_parameters": {},
   "duration": 9.787228,
   "end_time": "2025-10-23T13:06:27.808003",
   "environment_variables": {},
   "exception": null,
   "input_path": "__notebook__.ipynb",
   "output_path": "__notebook__.ipynb",
   "parameters": {},
   "start_time": "2025-10-23T13:06:18.020775",
   "version": "2.6.0"
  }
 },
 "nbformat": 4,
 "nbformat_minor": 5
}
